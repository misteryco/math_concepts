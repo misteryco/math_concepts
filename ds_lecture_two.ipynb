{
 "cells": [
  {
   "cell_type": "code",
   "execution_count": 2,
   "outputs": [],
   "source": [
    "%matplotlib inline"
   ],
   "metadata": {
    "collapsed": false,
    "ExecuteTime": {
     "end_time": "2023-11-08T11:13:14.615629321Z",
     "start_time": "2023-11-08T11:13:14.074671821Z"
    }
   },
   "id": "a7e753ba5378ec7c"
  },
  {
   "cell_type": "code",
   "execution_count": 3,
   "outputs": [],
   "source": [
    "import numpy as np\n",
    "import pandas as pd"
   ],
   "metadata": {
    "collapsed": false,
    "ExecuteTime": {
     "end_time": "2023-11-08T11:13:14.841168995Z",
     "start_time": "2023-11-08T11:13:14.615501105Z"
    }
   },
   "id": "a97543ac5e035899"
  },
  {
   "cell_type": "markdown",
   "source": [
    "==========================\n",
    "Data Tidying and Cleaning\n",
    "=========================="
   ],
   "metadata": {
    "collapsed": false
   },
   "id": "1e4c4e71220584fd"
  },
  {
   "cell_type": "code",
   "execution_count": 4,
   "outputs": [
    {
     "data": {
      "text/plain": "                   religion  <$10k  $10-20k  $20-30k  $30-40k  $40-50k  \\\n0                  Agnostic     27       34       60       81       76   \n1                   Atheist     12       27       37       52       35   \n2                  Buddhist     27       21       30       34       33   \n3                  Catholic    418      617      732      670      638   \n4        Don’t know/refused     15       14       15       11       10   \n5          Evangelical Prot    575      869     1064      982      881   \n6                     Hindu      1        9        7        9       11   \n7   Historically Black Prot    228      244      236      238      197   \n8         Jehovah's Witness     20       27       24       24       21   \n9                    Jewish     19       19       25       25       30   \n10            Mainline Prot    289      495      619      655      651   \n11                   Mormon     29       40       48       51       56   \n12                   Muslim      6        7        9       10        9   \n13                 Orthodox     13       17       23       32       32   \n14          Other Christian      9        7       11       13       13   \n15             Other Faiths     20       33       40       46       49   \n16    Other World Religions      5        2        3        4        2   \n17             Unaffiliated    217      299      374      365      341   \n\n    $50-75k  $75-100k  $100-150k  >150k  Don't know/refused  \n0       137       122        109     84                  96  \n1        70        73         59     74                  76  \n2        58        62         39     53                  54  \n3      1116       949        792    633                1489  \n4        35        21         17     18                 116  \n5      1486       949        723    414                1529  \n6        34        47         48     54                  37  \n7       223       131         81     78                 339  \n8        30        15         11      6                  37  \n9        95        69         87    151                 162  \n10     1107       939        753    634                1328  \n11      112        85         49     42                  69  \n12       23        16          8      6                  22  \n13       47        38         42     46                  73  \n14       14        18         14     12                  18  \n15       63        46         40     41                  71  \n16        7         3          4      4                   8  \n17      528       407        321    258                 597  ",
      "text/html": "<div>\n<style scoped>\n    .dataframe tbody tr th:only-of-type {\n        vertical-align: middle;\n    }\n\n    .dataframe tbody tr th {\n        vertical-align: top;\n    }\n\n    .dataframe thead th {\n        text-align: right;\n    }\n</style>\n<table border=\"1\" class=\"dataframe\">\n  <thead>\n    <tr style=\"text-align: right;\">\n      <th></th>\n      <th>religion</th>\n      <th>&lt;$10k</th>\n      <th>$10-20k</th>\n      <th>$20-30k</th>\n      <th>$30-40k</th>\n      <th>$40-50k</th>\n      <th>$50-75k</th>\n      <th>$75-100k</th>\n      <th>$100-150k</th>\n      <th>&gt;150k</th>\n      <th>Don't know/refused</th>\n    </tr>\n  </thead>\n  <tbody>\n    <tr>\n      <th>0</th>\n      <td>Agnostic</td>\n      <td>27</td>\n      <td>34</td>\n      <td>60</td>\n      <td>81</td>\n      <td>76</td>\n      <td>137</td>\n      <td>122</td>\n      <td>109</td>\n      <td>84</td>\n      <td>96</td>\n    </tr>\n    <tr>\n      <th>1</th>\n      <td>Atheist</td>\n      <td>12</td>\n      <td>27</td>\n      <td>37</td>\n      <td>52</td>\n      <td>35</td>\n      <td>70</td>\n      <td>73</td>\n      <td>59</td>\n      <td>74</td>\n      <td>76</td>\n    </tr>\n    <tr>\n      <th>2</th>\n      <td>Buddhist</td>\n      <td>27</td>\n      <td>21</td>\n      <td>30</td>\n      <td>34</td>\n      <td>33</td>\n      <td>58</td>\n      <td>62</td>\n      <td>39</td>\n      <td>53</td>\n      <td>54</td>\n    </tr>\n    <tr>\n      <th>3</th>\n      <td>Catholic</td>\n      <td>418</td>\n      <td>617</td>\n      <td>732</td>\n      <td>670</td>\n      <td>638</td>\n      <td>1116</td>\n      <td>949</td>\n      <td>792</td>\n      <td>633</td>\n      <td>1489</td>\n    </tr>\n    <tr>\n      <th>4</th>\n      <td>Don’t know/refused</td>\n      <td>15</td>\n      <td>14</td>\n      <td>15</td>\n      <td>11</td>\n      <td>10</td>\n      <td>35</td>\n      <td>21</td>\n      <td>17</td>\n      <td>18</td>\n      <td>116</td>\n    </tr>\n    <tr>\n      <th>5</th>\n      <td>Evangelical Prot</td>\n      <td>575</td>\n      <td>869</td>\n      <td>1064</td>\n      <td>982</td>\n      <td>881</td>\n      <td>1486</td>\n      <td>949</td>\n      <td>723</td>\n      <td>414</td>\n      <td>1529</td>\n    </tr>\n    <tr>\n      <th>6</th>\n      <td>Hindu</td>\n      <td>1</td>\n      <td>9</td>\n      <td>7</td>\n      <td>9</td>\n      <td>11</td>\n      <td>34</td>\n      <td>47</td>\n      <td>48</td>\n      <td>54</td>\n      <td>37</td>\n    </tr>\n    <tr>\n      <th>7</th>\n      <td>Historically Black Prot</td>\n      <td>228</td>\n      <td>244</td>\n      <td>236</td>\n      <td>238</td>\n      <td>197</td>\n      <td>223</td>\n      <td>131</td>\n      <td>81</td>\n      <td>78</td>\n      <td>339</td>\n    </tr>\n    <tr>\n      <th>8</th>\n      <td>Jehovah's Witness</td>\n      <td>20</td>\n      <td>27</td>\n      <td>24</td>\n      <td>24</td>\n      <td>21</td>\n      <td>30</td>\n      <td>15</td>\n      <td>11</td>\n      <td>6</td>\n      <td>37</td>\n    </tr>\n    <tr>\n      <th>9</th>\n      <td>Jewish</td>\n      <td>19</td>\n      <td>19</td>\n      <td>25</td>\n      <td>25</td>\n      <td>30</td>\n      <td>95</td>\n      <td>69</td>\n      <td>87</td>\n      <td>151</td>\n      <td>162</td>\n    </tr>\n    <tr>\n      <th>10</th>\n      <td>Mainline Prot</td>\n      <td>289</td>\n      <td>495</td>\n      <td>619</td>\n      <td>655</td>\n      <td>651</td>\n      <td>1107</td>\n      <td>939</td>\n      <td>753</td>\n      <td>634</td>\n      <td>1328</td>\n    </tr>\n    <tr>\n      <th>11</th>\n      <td>Mormon</td>\n      <td>29</td>\n      <td>40</td>\n      <td>48</td>\n      <td>51</td>\n      <td>56</td>\n      <td>112</td>\n      <td>85</td>\n      <td>49</td>\n      <td>42</td>\n      <td>69</td>\n    </tr>\n    <tr>\n      <th>12</th>\n      <td>Muslim</td>\n      <td>6</td>\n      <td>7</td>\n      <td>9</td>\n      <td>10</td>\n      <td>9</td>\n      <td>23</td>\n      <td>16</td>\n      <td>8</td>\n      <td>6</td>\n      <td>22</td>\n    </tr>\n    <tr>\n      <th>13</th>\n      <td>Orthodox</td>\n      <td>13</td>\n      <td>17</td>\n      <td>23</td>\n      <td>32</td>\n      <td>32</td>\n      <td>47</td>\n      <td>38</td>\n      <td>42</td>\n      <td>46</td>\n      <td>73</td>\n    </tr>\n    <tr>\n      <th>14</th>\n      <td>Other Christian</td>\n      <td>9</td>\n      <td>7</td>\n      <td>11</td>\n      <td>13</td>\n      <td>13</td>\n      <td>14</td>\n      <td>18</td>\n      <td>14</td>\n      <td>12</td>\n      <td>18</td>\n    </tr>\n    <tr>\n      <th>15</th>\n      <td>Other Faiths</td>\n      <td>20</td>\n      <td>33</td>\n      <td>40</td>\n      <td>46</td>\n      <td>49</td>\n      <td>63</td>\n      <td>46</td>\n      <td>40</td>\n      <td>41</td>\n      <td>71</td>\n    </tr>\n    <tr>\n      <th>16</th>\n      <td>Other World Religions</td>\n      <td>5</td>\n      <td>2</td>\n      <td>3</td>\n      <td>4</td>\n      <td>2</td>\n      <td>7</td>\n      <td>3</td>\n      <td>4</td>\n      <td>4</td>\n      <td>8</td>\n    </tr>\n    <tr>\n      <th>17</th>\n      <td>Unaffiliated</td>\n      <td>217</td>\n      <td>299</td>\n      <td>374</td>\n      <td>365</td>\n      <td>341</td>\n      <td>528</td>\n      <td>407</td>\n      <td>321</td>\n      <td>258</td>\n      <td>597</td>\n    </tr>\n  </tbody>\n</table>\n</div>"
     },
     "execution_count": 4,
     "metadata": {},
     "output_type": "execute_result"
    }
   ],
   "source": [
    "pew = pd.read_csv('data/ds_l2/pew.csv')\n",
    "pew"
   ],
   "metadata": {
    "collapsed": false,
    "ExecuteTime": {
     "end_time": "2023-11-08T11:13:14.865306100Z",
     "start_time": "2023-11-08T11:13:14.841669901Z"
    }
   },
   "id": "4e92d3148d0f5f01"
  },
  {
   "cell_type": "code",
   "execution_count": 5,
   "outputs": [
    {
     "data": {
      "text/plain": "                  religion              income  frequency\n0                 Agnostic               <$10k         27\n1                  Atheist               <$10k         12\n2                 Buddhist               <$10k         27\n3                 Catholic               <$10k        418\n4       Don’t know/refused               <$10k         15\n..                     ...                 ...        ...\n175               Orthodox  Don't know/refused         73\n176        Other Christian  Don't know/refused         18\n177           Other Faiths  Don't know/refused         71\n178  Other World Religions  Don't know/refused          8\n179           Unaffiliated  Don't know/refused        597\n\n[180 rows x 3 columns]",
      "text/html": "<div>\n<style scoped>\n    .dataframe tbody tr th:only-of-type {\n        vertical-align: middle;\n    }\n\n    .dataframe tbody tr th {\n        vertical-align: top;\n    }\n\n    .dataframe thead th {\n        text-align: right;\n    }\n</style>\n<table border=\"1\" class=\"dataframe\">\n  <thead>\n    <tr style=\"text-align: right;\">\n      <th></th>\n      <th>religion</th>\n      <th>income</th>\n      <th>frequency</th>\n    </tr>\n  </thead>\n  <tbody>\n    <tr>\n      <th>0</th>\n      <td>Agnostic</td>\n      <td>&lt;$10k</td>\n      <td>27</td>\n    </tr>\n    <tr>\n      <th>1</th>\n      <td>Atheist</td>\n      <td>&lt;$10k</td>\n      <td>12</td>\n    </tr>\n    <tr>\n      <th>2</th>\n      <td>Buddhist</td>\n      <td>&lt;$10k</td>\n      <td>27</td>\n    </tr>\n    <tr>\n      <th>3</th>\n      <td>Catholic</td>\n      <td>&lt;$10k</td>\n      <td>418</td>\n    </tr>\n    <tr>\n      <th>4</th>\n      <td>Don’t know/refused</td>\n      <td>&lt;$10k</td>\n      <td>15</td>\n    </tr>\n    <tr>\n      <th>...</th>\n      <td>...</td>\n      <td>...</td>\n      <td>...</td>\n    </tr>\n    <tr>\n      <th>175</th>\n      <td>Orthodox</td>\n      <td>Don't know/refused</td>\n      <td>73</td>\n    </tr>\n    <tr>\n      <th>176</th>\n      <td>Other Christian</td>\n      <td>Don't know/refused</td>\n      <td>18</td>\n    </tr>\n    <tr>\n      <th>177</th>\n      <td>Other Faiths</td>\n      <td>Don't know/refused</td>\n      <td>71</td>\n    </tr>\n    <tr>\n      <th>178</th>\n      <td>Other World Religions</td>\n      <td>Don't know/refused</td>\n      <td>8</td>\n    </tr>\n    <tr>\n      <th>179</th>\n      <td>Unaffiliated</td>\n      <td>Don't know/refused</td>\n      <td>597</td>\n    </tr>\n  </tbody>\n</table>\n<p>180 rows × 3 columns</p>\n</div>"
     },
     "execution_count": 5,
     "metadata": {},
     "output_type": "execute_result"
    }
   ],
   "source": [
    "pew_tidy = pew.melt(id_vars='religion', var_name='income', value_name='frequency')\n",
    "pew_tidy"
   ],
   "metadata": {
    "collapsed": false,
    "ExecuteTime": {
     "end_time": "2023-11-08T11:13:14.893442650Z",
     "start_time": "2023-11-08T11:13:14.863260223Z"
    }
   },
   "id": "d1365a274257ea2d"
  },
  {
   "cell_type": "code",
   "execution_count": 6,
   "outputs": [
    {
     "data": {
      "text/plain": "     iso2  year  m04   m514   m014  m1524   m2534   m3544   m4554  m5564  ...  \\\n0      AD  1989  NaN    NaN    NaN    NaN     NaN     NaN     NaN    NaN  ...   \n1      AD  1990  NaN    NaN    NaN    NaN     NaN     NaN     NaN    NaN  ...   \n2      AD  1991  NaN    NaN    NaN    NaN     NaN     NaN     NaN    NaN  ...   \n3      AD  1992  NaN    NaN    NaN    NaN     NaN     NaN     NaN    NaN  ...   \n4      AD  1993  NaN    NaN    NaN    NaN     NaN     NaN     NaN    NaN  ...   \n...   ...   ...  ...    ...    ...    ...     ...     ...     ...    ...  ...   \n5764   ZW  2004  NaN    NaN  187.0  833.0  2908.0  2298.0  1056.0  366.0  ...   \n5765   ZW  2005  NaN    NaN  210.0  837.0  2264.0  1855.0   762.0  295.0  ...   \n5766   ZW  2006  NaN    NaN  215.0  736.0  2391.0  1939.0   896.0  348.0  ...   \n5767   ZW  2007  6.0  132.0  138.0  500.0  3693.0     0.0   716.0  292.0  ...   \n5768   ZW  2008  NaN    NaN  127.0  614.0     0.0  3316.0   704.0  263.0  ...   \n\n      f04   f514   f014   f1524   f2534   f3544  f4554  f5564    f65   fu  \n0     NaN    NaN    NaN     NaN     NaN     NaN    NaN    NaN    NaN  NaN  \n1     NaN    NaN    NaN     NaN     NaN     NaN    NaN    NaN    NaN  NaN  \n2     NaN    NaN    NaN     NaN     NaN     NaN    NaN    NaN    NaN  NaN  \n3     NaN    NaN    NaN     NaN     NaN     NaN    NaN    NaN    NaN  NaN  \n4     NaN    NaN    NaN     NaN     NaN     NaN    NaN    NaN    NaN  NaN  \n...   ...    ...    ...     ...     ...     ...    ...    ...    ...  ...  \n5764  NaN    NaN  225.0  1140.0  2858.0  1565.0  622.0  214.0  111.0  NaN  \n5765  NaN    NaN  269.0  1136.0  2242.0  1255.0  578.0  193.0  603.0  NaN  \n5766  NaN    NaN  237.0  1020.0  2424.0  1355.0  632.0  230.0   96.0  NaN  \n5767  7.0  178.0  185.0   739.0  3311.0     0.0  553.0  213.0   90.0  NaN  \n5768  NaN    NaN  145.0   840.0     0.0  2890.0  467.0  174.0  105.0  0.0  \n\n[5769 rows x 22 columns]",
      "text/html": "<div>\n<style scoped>\n    .dataframe tbody tr th:only-of-type {\n        vertical-align: middle;\n    }\n\n    .dataframe tbody tr th {\n        vertical-align: top;\n    }\n\n    .dataframe thead th {\n        text-align: right;\n    }\n</style>\n<table border=\"1\" class=\"dataframe\">\n  <thead>\n    <tr style=\"text-align: right;\">\n      <th></th>\n      <th>iso2</th>\n      <th>year</th>\n      <th>m04</th>\n      <th>m514</th>\n      <th>m014</th>\n      <th>m1524</th>\n      <th>m2534</th>\n      <th>m3544</th>\n      <th>m4554</th>\n      <th>m5564</th>\n      <th>...</th>\n      <th>f04</th>\n      <th>f514</th>\n      <th>f014</th>\n      <th>f1524</th>\n      <th>f2534</th>\n      <th>f3544</th>\n      <th>f4554</th>\n      <th>f5564</th>\n      <th>f65</th>\n      <th>fu</th>\n    </tr>\n  </thead>\n  <tbody>\n    <tr>\n      <th>0</th>\n      <td>AD</td>\n      <td>1989</td>\n      <td>NaN</td>\n      <td>NaN</td>\n      <td>NaN</td>\n      <td>NaN</td>\n      <td>NaN</td>\n      <td>NaN</td>\n      <td>NaN</td>\n      <td>NaN</td>\n      <td>...</td>\n      <td>NaN</td>\n      <td>NaN</td>\n      <td>NaN</td>\n      <td>NaN</td>\n      <td>NaN</td>\n      <td>NaN</td>\n      <td>NaN</td>\n      <td>NaN</td>\n      <td>NaN</td>\n      <td>NaN</td>\n    </tr>\n    <tr>\n      <th>1</th>\n      <td>AD</td>\n      <td>1990</td>\n      <td>NaN</td>\n      <td>NaN</td>\n      <td>NaN</td>\n      <td>NaN</td>\n      <td>NaN</td>\n      <td>NaN</td>\n      <td>NaN</td>\n      <td>NaN</td>\n      <td>...</td>\n      <td>NaN</td>\n      <td>NaN</td>\n      <td>NaN</td>\n      <td>NaN</td>\n      <td>NaN</td>\n      <td>NaN</td>\n      <td>NaN</td>\n      <td>NaN</td>\n      <td>NaN</td>\n      <td>NaN</td>\n    </tr>\n    <tr>\n      <th>2</th>\n      <td>AD</td>\n      <td>1991</td>\n      <td>NaN</td>\n      <td>NaN</td>\n      <td>NaN</td>\n      <td>NaN</td>\n      <td>NaN</td>\n      <td>NaN</td>\n      <td>NaN</td>\n      <td>NaN</td>\n      <td>...</td>\n      <td>NaN</td>\n      <td>NaN</td>\n      <td>NaN</td>\n      <td>NaN</td>\n      <td>NaN</td>\n      <td>NaN</td>\n      <td>NaN</td>\n      <td>NaN</td>\n      <td>NaN</td>\n      <td>NaN</td>\n    </tr>\n    <tr>\n      <th>3</th>\n      <td>AD</td>\n      <td>1992</td>\n      <td>NaN</td>\n      <td>NaN</td>\n      <td>NaN</td>\n      <td>NaN</td>\n      <td>NaN</td>\n      <td>NaN</td>\n      <td>NaN</td>\n      <td>NaN</td>\n      <td>...</td>\n      <td>NaN</td>\n      <td>NaN</td>\n      <td>NaN</td>\n      <td>NaN</td>\n      <td>NaN</td>\n      <td>NaN</td>\n      <td>NaN</td>\n      <td>NaN</td>\n      <td>NaN</td>\n      <td>NaN</td>\n    </tr>\n    <tr>\n      <th>4</th>\n      <td>AD</td>\n      <td>1993</td>\n      <td>NaN</td>\n      <td>NaN</td>\n      <td>NaN</td>\n      <td>NaN</td>\n      <td>NaN</td>\n      <td>NaN</td>\n      <td>NaN</td>\n      <td>NaN</td>\n      <td>...</td>\n      <td>NaN</td>\n      <td>NaN</td>\n      <td>NaN</td>\n      <td>NaN</td>\n      <td>NaN</td>\n      <td>NaN</td>\n      <td>NaN</td>\n      <td>NaN</td>\n      <td>NaN</td>\n      <td>NaN</td>\n    </tr>\n    <tr>\n      <th>...</th>\n      <td>...</td>\n      <td>...</td>\n      <td>...</td>\n      <td>...</td>\n      <td>...</td>\n      <td>...</td>\n      <td>...</td>\n      <td>...</td>\n      <td>...</td>\n      <td>...</td>\n      <td>...</td>\n      <td>...</td>\n      <td>...</td>\n      <td>...</td>\n      <td>...</td>\n      <td>...</td>\n      <td>...</td>\n      <td>...</td>\n      <td>...</td>\n      <td>...</td>\n      <td>...</td>\n    </tr>\n    <tr>\n      <th>5764</th>\n      <td>ZW</td>\n      <td>2004</td>\n      <td>NaN</td>\n      <td>NaN</td>\n      <td>187.0</td>\n      <td>833.0</td>\n      <td>2908.0</td>\n      <td>2298.0</td>\n      <td>1056.0</td>\n      <td>366.0</td>\n      <td>...</td>\n      <td>NaN</td>\n      <td>NaN</td>\n      <td>225.0</td>\n      <td>1140.0</td>\n      <td>2858.0</td>\n      <td>1565.0</td>\n      <td>622.0</td>\n      <td>214.0</td>\n      <td>111.0</td>\n      <td>NaN</td>\n    </tr>\n    <tr>\n      <th>5765</th>\n      <td>ZW</td>\n      <td>2005</td>\n      <td>NaN</td>\n      <td>NaN</td>\n      <td>210.0</td>\n      <td>837.0</td>\n      <td>2264.0</td>\n      <td>1855.0</td>\n      <td>762.0</td>\n      <td>295.0</td>\n      <td>...</td>\n      <td>NaN</td>\n      <td>NaN</td>\n      <td>269.0</td>\n      <td>1136.0</td>\n      <td>2242.0</td>\n      <td>1255.0</td>\n      <td>578.0</td>\n      <td>193.0</td>\n      <td>603.0</td>\n      <td>NaN</td>\n    </tr>\n    <tr>\n      <th>5766</th>\n      <td>ZW</td>\n      <td>2006</td>\n      <td>NaN</td>\n      <td>NaN</td>\n      <td>215.0</td>\n      <td>736.0</td>\n      <td>2391.0</td>\n      <td>1939.0</td>\n      <td>896.0</td>\n      <td>348.0</td>\n      <td>...</td>\n      <td>NaN</td>\n      <td>NaN</td>\n      <td>237.0</td>\n      <td>1020.0</td>\n      <td>2424.0</td>\n      <td>1355.0</td>\n      <td>632.0</td>\n      <td>230.0</td>\n      <td>96.0</td>\n      <td>NaN</td>\n    </tr>\n    <tr>\n      <th>5767</th>\n      <td>ZW</td>\n      <td>2007</td>\n      <td>6.0</td>\n      <td>132.0</td>\n      <td>138.0</td>\n      <td>500.0</td>\n      <td>3693.0</td>\n      <td>0.0</td>\n      <td>716.0</td>\n      <td>292.0</td>\n      <td>...</td>\n      <td>7.0</td>\n      <td>178.0</td>\n      <td>185.0</td>\n      <td>739.0</td>\n      <td>3311.0</td>\n      <td>0.0</td>\n      <td>553.0</td>\n      <td>213.0</td>\n      <td>90.0</td>\n      <td>NaN</td>\n    </tr>\n    <tr>\n      <th>5768</th>\n      <td>ZW</td>\n      <td>2008</td>\n      <td>NaN</td>\n      <td>NaN</td>\n      <td>127.0</td>\n      <td>614.0</td>\n      <td>0.0</td>\n      <td>3316.0</td>\n      <td>704.0</td>\n      <td>263.0</td>\n      <td>...</td>\n      <td>NaN</td>\n      <td>NaN</td>\n      <td>145.0</td>\n      <td>840.0</td>\n      <td>0.0</td>\n      <td>2890.0</td>\n      <td>467.0</td>\n      <td>174.0</td>\n      <td>105.0</td>\n      <td>0.0</td>\n    </tr>\n  </tbody>\n</table>\n<p>5769 rows × 22 columns</p>\n</div>"
     },
     "execution_count": 6,
     "metadata": {},
     "output_type": "execute_result"
    }
   ],
   "source": [
    "tb = pd.read_csv('data/ds_l2/tb.csv')\n",
    "tb.loc[tb.iso2.isna(), 'iso2'] = 'NA'\n",
    "tb"
   ],
   "metadata": {
    "collapsed": false,
    "ExecuteTime": {
     "end_time": "2023-11-08T11:13:14.961253678Z",
     "start_time": "2023-11-08T11:13:14.875858666Z"
    }
   },
   "id": "7fd8f4122651fa8a"
  },
  {
   "cell_type": "code",
   "execution_count": 7,
   "outputs": [
    {
     "data": {
      "text/plain": "       iso2  year sex_and_age  cases\n15       AD  2005         m04    0.0\n16       AD  2006         m04    0.0\n18       AD  2008         m04    0.0\n42       AE  2006         m04    0.0\n43       AE  2007         m04    0.0\n...     ...   ...         ...    ...\n115195   VU  2008          fu    0.0\n115269   YE  2008          fu    0.0\n115323   ZA  2008          fu    0.0\n115350   ZM  2008          fu    0.0\n115379   ZW  2008          fu    0.0\n\n[35750 rows x 4 columns]",
      "text/html": "<div>\n<style scoped>\n    .dataframe tbody tr th:only-of-type {\n        vertical-align: middle;\n    }\n\n    .dataframe tbody tr th {\n        vertical-align: top;\n    }\n\n    .dataframe thead th {\n        text-align: right;\n    }\n</style>\n<table border=\"1\" class=\"dataframe\">\n  <thead>\n    <tr style=\"text-align: right;\">\n      <th></th>\n      <th>iso2</th>\n      <th>year</th>\n      <th>sex_and_age</th>\n      <th>cases</th>\n    </tr>\n  </thead>\n  <tbody>\n    <tr>\n      <th>15</th>\n      <td>AD</td>\n      <td>2005</td>\n      <td>m04</td>\n      <td>0.0</td>\n    </tr>\n    <tr>\n      <th>16</th>\n      <td>AD</td>\n      <td>2006</td>\n      <td>m04</td>\n      <td>0.0</td>\n    </tr>\n    <tr>\n      <th>18</th>\n      <td>AD</td>\n      <td>2008</td>\n      <td>m04</td>\n      <td>0.0</td>\n    </tr>\n    <tr>\n      <th>42</th>\n      <td>AE</td>\n      <td>2006</td>\n      <td>m04</td>\n      <td>0.0</td>\n    </tr>\n    <tr>\n      <th>43</th>\n      <td>AE</td>\n      <td>2007</td>\n      <td>m04</td>\n      <td>0.0</td>\n    </tr>\n    <tr>\n      <th>...</th>\n      <td>...</td>\n      <td>...</td>\n      <td>...</td>\n      <td>...</td>\n    </tr>\n    <tr>\n      <th>115195</th>\n      <td>VU</td>\n      <td>2008</td>\n      <td>fu</td>\n      <td>0.0</td>\n    </tr>\n    <tr>\n      <th>115269</th>\n      <td>YE</td>\n      <td>2008</td>\n      <td>fu</td>\n      <td>0.0</td>\n    </tr>\n    <tr>\n      <th>115323</th>\n      <td>ZA</td>\n      <td>2008</td>\n      <td>fu</td>\n      <td>0.0</td>\n    </tr>\n    <tr>\n      <th>115350</th>\n      <td>ZM</td>\n      <td>2008</td>\n      <td>fu</td>\n      <td>0.0</td>\n    </tr>\n    <tr>\n      <th>115379</th>\n      <td>ZW</td>\n      <td>2008</td>\n      <td>fu</td>\n      <td>0.0</td>\n    </tr>\n  </tbody>\n</table>\n<p>35750 rows × 4 columns</p>\n</div>"
     },
     "execution_count": 7,
     "metadata": {},
     "output_type": "execute_result"
    }
   ],
   "source": [
    "tb_tidy = tb.melt(id_vars=['iso2', 'year'], var_name='sex_and_age', value_name='cases')\n",
    "tb_tidy = tb_tidy.dropna()\n",
    "tb_tidy"
   ],
   "metadata": {
    "collapsed": false,
    "ExecuteTime": {
     "end_time": "2023-11-08T11:13:14.961997653Z",
     "start_time": "2023-11-08T11:13:14.906968703Z"
    }
   },
   "id": "8235f50cc05915f0"
  },
  {
   "cell_type": "code",
   "execution_count": 8,
   "outputs": [
    {
     "data": {
      "text/plain": "       iso2  year sex_and_age  cases sex agegroup\n15       AD  2005         m04    0.0   m       04\n16       AD  2006         m04    0.0   m       04\n18       AD  2008         m04    0.0   m       04\n42       AE  2006         m04    0.0   m       04\n43       AE  2007         m04    0.0   m       04\n...     ...   ...         ...    ...  ..      ...\n115195   VU  2008          fu    0.0   f        u\n115269   YE  2008          fu    0.0   f        u\n115323   ZA  2008          fu    0.0   f        u\n115350   ZM  2008          fu    0.0   f        u\n115379   ZW  2008          fu    0.0   f        u\n\n[35750 rows x 6 columns]",
      "text/html": "<div>\n<style scoped>\n    .dataframe tbody tr th:only-of-type {\n        vertical-align: middle;\n    }\n\n    .dataframe tbody tr th {\n        vertical-align: top;\n    }\n\n    .dataframe thead th {\n        text-align: right;\n    }\n</style>\n<table border=\"1\" class=\"dataframe\">\n  <thead>\n    <tr style=\"text-align: right;\">\n      <th></th>\n      <th>iso2</th>\n      <th>year</th>\n      <th>sex_and_age</th>\n      <th>cases</th>\n      <th>sex</th>\n      <th>agegroup</th>\n    </tr>\n  </thead>\n  <tbody>\n    <tr>\n      <th>15</th>\n      <td>AD</td>\n      <td>2005</td>\n      <td>m04</td>\n      <td>0.0</td>\n      <td>m</td>\n      <td>04</td>\n    </tr>\n    <tr>\n      <th>16</th>\n      <td>AD</td>\n      <td>2006</td>\n      <td>m04</td>\n      <td>0.0</td>\n      <td>m</td>\n      <td>04</td>\n    </tr>\n    <tr>\n      <th>18</th>\n      <td>AD</td>\n      <td>2008</td>\n      <td>m04</td>\n      <td>0.0</td>\n      <td>m</td>\n      <td>04</td>\n    </tr>\n    <tr>\n      <th>42</th>\n      <td>AE</td>\n      <td>2006</td>\n      <td>m04</td>\n      <td>0.0</td>\n      <td>m</td>\n      <td>04</td>\n    </tr>\n    <tr>\n      <th>43</th>\n      <td>AE</td>\n      <td>2007</td>\n      <td>m04</td>\n      <td>0.0</td>\n      <td>m</td>\n      <td>04</td>\n    </tr>\n    <tr>\n      <th>...</th>\n      <td>...</td>\n      <td>...</td>\n      <td>...</td>\n      <td>...</td>\n      <td>...</td>\n      <td>...</td>\n    </tr>\n    <tr>\n      <th>115195</th>\n      <td>VU</td>\n      <td>2008</td>\n      <td>fu</td>\n      <td>0.0</td>\n      <td>f</td>\n      <td>u</td>\n    </tr>\n    <tr>\n      <th>115269</th>\n      <td>YE</td>\n      <td>2008</td>\n      <td>fu</td>\n      <td>0.0</td>\n      <td>f</td>\n      <td>u</td>\n    </tr>\n    <tr>\n      <th>115323</th>\n      <td>ZA</td>\n      <td>2008</td>\n      <td>fu</td>\n      <td>0.0</td>\n      <td>f</td>\n      <td>u</td>\n    </tr>\n    <tr>\n      <th>115350</th>\n      <td>ZM</td>\n      <td>2008</td>\n      <td>fu</td>\n      <td>0.0</td>\n      <td>f</td>\n      <td>u</td>\n    </tr>\n    <tr>\n      <th>115379</th>\n      <td>ZW</td>\n      <td>2008</td>\n      <td>fu</td>\n      <td>0.0</td>\n      <td>f</td>\n      <td>u</td>\n    </tr>\n  </tbody>\n</table>\n<p>35750 rows × 6 columns</p>\n</div>"
     },
     "execution_count": 8,
     "metadata": {},
     "output_type": "execute_result"
    }
   ],
   "source": [
    "tb_tidy['sex'] = tb_tidy.sex_and_age.str.slice(0, 1)\n",
    "tb_tidy['agegroup'] = tb_tidy.sex_and_age.str.slice(1)\n",
    "tb_tidy"
   ],
   "metadata": {
    "collapsed": false,
    "ExecuteTime": {
     "end_time": "2023-11-08T11:13:15.061313499Z",
     "start_time": "2023-11-08T11:13:14.940826525Z"
    }
   },
   "id": "b8999933b7f99620"
  },
  {
   "cell_type": "code",
   "execution_count": 9,
   "outputs": [
    {
     "data": {
      "text/plain": "       iso2  year  cases sex agegroup\n15       AD  2005    0.0   m       04\n16       AD  2006    0.0   m       04\n18       AD  2008    0.0   m       04\n42       AE  2006    0.0   m       04\n43       AE  2007    0.0   m       04\n...     ...   ...    ...  ..      ...\n115195   VU  2008    0.0   f        u\n115269   YE  2008    0.0   f        u\n115323   ZA  2008    0.0   f        u\n115350   ZM  2008    0.0   f        u\n115379   ZW  2008    0.0   f        u\n\n[35750 rows x 5 columns]",
      "text/html": "<div>\n<style scoped>\n    .dataframe tbody tr th:only-of-type {\n        vertical-align: middle;\n    }\n\n    .dataframe tbody tr th {\n        vertical-align: top;\n    }\n\n    .dataframe thead th {\n        text-align: right;\n    }\n</style>\n<table border=\"1\" class=\"dataframe\">\n  <thead>\n    <tr style=\"text-align: right;\">\n      <th></th>\n      <th>iso2</th>\n      <th>year</th>\n      <th>cases</th>\n      <th>sex</th>\n      <th>agegroup</th>\n    </tr>\n  </thead>\n  <tbody>\n    <tr>\n      <th>15</th>\n      <td>AD</td>\n      <td>2005</td>\n      <td>0.0</td>\n      <td>m</td>\n      <td>04</td>\n    </tr>\n    <tr>\n      <th>16</th>\n      <td>AD</td>\n      <td>2006</td>\n      <td>0.0</td>\n      <td>m</td>\n      <td>04</td>\n    </tr>\n    <tr>\n      <th>18</th>\n      <td>AD</td>\n      <td>2008</td>\n      <td>0.0</td>\n      <td>m</td>\n      <td>04</td>\n    </tr>\n    <tr>\n      <th>42</th>\n      <td>AE</td>\n      <td>2006</td>\n      <td>0.0</td>\n      <td>m</td>\n      <td>04</td>\n    </tr>\n    <tr>\n      <th>43</th>\n      <td>AE</td>\n      <td>2007</td>\n      <td>0.0</td>\n      <td>m</td>\n      <td>04</td>\n    </tr>\n    <tr>\n      <th>...</th>\n      <td>...</td>\n      <td>...</td>\n      <td>...</td>\n      <td>...</td>\n      <td>...</td>\n    </tr>\n    <tr>\n      <th>115195</th>\n      <td>VU</td>\n      <td>2008</td>\n      <td>0.0</td>\n      <td>f</td>\n      <td>u</td>\n    </tr>\n    <tr>\n      <th>115269</th>\n      <td>YE</td>\n      <td>2008</td>\n      <td>0.0</td>\n      <td>f</td>\n      <td>u</td>\n    </tr>\n    <tr>\n      <th>115323</th>\n      <td>ZA</td>\n      <td>2008</td>\n      <td>0.0</td>\n      <td>f</td>\n      <td>u</td>\n    </tr>\n    <tr>\n      <th>115350</th>\n      <td>ZM</td>\n      <td>2008</td>\n      <td>0.0</td>\n      <td>f</td>\n      <td>u</td>\n    </tr>\n    <tr>\n      <th>115379</th>\n      <td>ZW</td>\n      <td>2008</td>\n      <td>0.0</td>\n      <td>f</td>\n      <td>u</td>\n    </tr>\n  </tbody>\n</table>\n<p>35750 rows × 5 columns</p>\n</div>"
     },
     "execution_count": 9,
     "metadata": {},
     "output_type": "execute_result"
    }
   ],
   "source": [
    "tb_tidy = tb_tidy.drop(columns='sex_and_age')\n",
    "tb_tidy"
   ],
   "metadata": {
    "collapsed": false,
    "ExecuteTime": {
     "end_time": "2023-11-08T11:13:15.084586905Z",
     "start_time": "2023-11-08T11:13:14.968407846Z"
    }
   },
   "id": "17bb18fe15bbdbaa"
  },
  {
   "cell_type": "code",
   "execution_count": 10,
   "outputs": [],
   "source": [
    "\n",
    "def proces_age_groups(age_group):\n",
    "    ages = {\"04\": \"0-4\", \"65\": \"65+\", \"u\": \"unknown\"}\n",
    "    if age_group in ages:\n",
    "        return ages[age_group]\n",
    "    else:\n",
    "        return f\"{age_group[:-2]}-{age_group[-2:]}\"\n",
    "\n",
    "\n",
    "tb_tidy.agegroup = tb_tidy.agegroup.apply(proces_age_groups)"
   ],
   "metadata": {
    "collapsed": false,
    "ExecuteTime": {
     "end_time": "2023-11-08T11:13:15.093901737Z",
     "start_time": "2023-11-08T11:13:14.993391530Z"
    }
   },
   "id": "c136570ca65a1ff3"
  },
  {
   "cell_type": "code",
   "execution_count": 11,
   "outputs": [
    {
     "data": {
      "text/plain": "       iso2  year   cases sex agegroup\n11544    AD  1996     0.0   m     0-14\n17313    AD  1996     0.0   m    15-24\n23082    AD  1996     0.0   m    25-34\n28851    AD  1996     4.0   m    35-44\n34620    AD  1996     1.0   m    45-54\n...     ...   ...     ...  ..      ...\n92303    ZW  2008  2890.0   f    35-44\n98072    ZW  2008   467.0   f    45-54\n103841   ZW  2008   174.0   f    55-64\n109610   ZW  2008   105.0   f      65+\n115379   ZW  2008     0.0   f  unknown\n\n[35750 rows x 5 columns]",
      "text/html": "<div>\n<style scoped>\n    .dataframe tbody tr th:only-of-type {\n        vertical-align: middle;\n    }\n\n    .dataframe tbody tr th {\n        vertical-align: top;\n    }\n\n    .dataframe thead th {\n        text-align: right;\n    }\n</style>\n<table border=\"1\" class=\"dataframe\">\n  <thead>\n    <tr style=\"text-align: right;\">\n      <th></th>\n      <th>iso2</th>\n      <th>year</th>\n      <th>cases</th>\n      <th>sex</th>\n      <th>agegroup</th>\n    </tr>\n  </thead>\n  <tbody>\n    <tr>\n      <th>11544</th>\n      <td>AD</td>\n      <td>1996</td>\n      <td>0.0</td>\n      <td>m</td>\n      <td>0-14</td>\n    </tr>\n    <tr>\n      <th>17313</th>\n      <td>AD</td>\n      <td>1996</td>\n      <td>0.0</td>\n      <td>m</td>\n      <td>15-24</td>\n    </tr>\n    <tr>\n      <th>23082</th>\n      <td>AD</td>\n      <td>1996</td>\n      <td>0.0</td>\n      <td>m</td>\n      <td>25-34</td>\n    </tr>\n    <tr>\n      <th>28851</th>\n      <td>AD</td>\n      <td>1996</td>\n      <td>4.0</td>\n      <td>m</td>\n      <td>35-44</td>\n    </tr>\n    <tr>\n      <th>34620</th>\n      <td>AD</td>\n      <td>1996</td>\n      <td>1.0</td>\n      <td>m</td>\n      <td>45-54</td>\n    </tr>\n    <tr>\n      <th>...</th>\n      <td>...</td>\n      <td>...</td>\n      <td>...</td>\n      <td>...</td>\n      <td>...</td>\n    </tr>\n    <tr>\n      <th>92303</th>\n      <td>ZW</td>\n      <td>2008</td>\n      <td>2890.0</td>\n      <td>f</td>\n      <td>35-44</td>\n    </tr>\n    <tr>\n      <th>98072</th>\n      <td>ZW</td>\n      <td>2008</td>\n      <td>467.0</td>\n      <td>f</td>\n      <td>45-54</td>\n    </tr>\n    <tr>\n      <th>103841</th>\n      <td>ZW</td>\n      <td>2008</td>\n      <td>174.0</td>\n      <td>f</td>\n      <td>55-64</td>\n    </tr>\n    <tr>\n      <th>109610</th>\n      <td>ZW</td>\n      <td>2008</td>\n      <td>105.0</td>\n      <td>f</td>\n      <td>65+</td>\n    </tr>\n    <tr>\n      <th>115379</th>\n      <td>ZW</td>\n      <td>2008</td>\n      <td>0.0</td>\n      <td>f</td>\n      <td>unknown</td>\n    </tr>\n  </tbody>\n</table>\n<p>35750 rows × 5 columns</p>\n</div>"
     },
     "execution_count": 11,
     "metadata": {},
     "output_type": "execute_result"
    }
   ],
   "source": [
    "tb_tidy.sort_values(['iso2', 'year'])"
   ],
   "metadata": {
    "collapsed": false,
    "ExecuteTime": {
     "end_time": "2023-11-08T11:13:15.094707530Z",
     "start_time": "2023-11-08T11:13:14.999429163Z"
    }
   },
   "id": "6ebfa94c2d12dc50"
  },
  {
   "cell_type": "code",
   "execution_count": 12,
   "outputs": [
    {
     "data": {
      "text/plain": "         id  year  month element    d1    d2    d3    d4    d5    d6  ...  \\\n0   MX17004  2010      1    tmax   NaN   NaN   NaN   NaN   NaN   NaN  ...   \n1   MX17004  2010      1    tmin   NaN   NaN   NaN   NaN   NaN   NaN  ...   \n2   MX17004  2010      2    tmax   NaN  27.3  24.1   NaN   NaN   NaN  ...   \n3   MX17004  2010      2    tmin   NaN  14.4  14.4   NaN   NaN   NaN  ...   \n4   MX17004  2010      3    tmax   NaN   NaN   NaN   NaN  32.1   NaN  ...   \n5   MX17004  2010      3    tmin   NaN   NaN   NaN   NaN  14.2   NaN  ...   \n6   MX17004  2010      4    tmax   NaN   NaN   NaN   NaN   NaN   NaN  ...   \n7   MX17004  2010      4    tmin   NaN   NaN   NaN   NaN   NaN   NaN  ...   \n8   MX17004  2010      5    tmax   NaN   NaN   NaN   NaN   NaN   NaN  ...   \n9   MX17004  2010      5    tmin   NaN   NaN   NaN   NaN   NaN   NaN  ...   \n10  MX17004  2010      6    tmax   NaN   NaN   NaN   NaN   NaN   NaN  ...   \n11  MX17004  2010      6    tmin   NaN   NaN   NaN   NaN   NaN   NaN  ...   \n12  MX17004  2010      7    tmax   NaN   NaN  28.6   NaN   NaN   NaN  ...   \n13  MX17004  2010      7    tmin   NaN   NaN  17.5   NaN   NaN   NaN  ...   \n14  MX17004  2010      8    tmax   NaN   NaN   NaN   NaN  29.6   NaN  ...   \n15  MX17004  2010      8    tmin   NaN   NaN   NaN   NaN  15.8   NaN  ...   \n16  MX17004  2010     10    tmax   NaN   NaN   NaN   NaN  27.0   NaN  ...   \n17  MX17004  2010     10    tmin   NaN   NaN   NaN   NaN  14.0   NaN  ...   \n18  MX17004  2010     11    tmax   NaN  31.3   NaN  27.2  26.3   NaN  ...   \n19  MX17004  2010     11    tmin   NaN  16.3   NaN  12.0   7.9   NaN  ...   \n20  MX17004  2010     12    tmax  29.9   NaN   NaN   NaN   NaN  27.8  ...   \n21  MX17004  2010     12    tmin  13.8   NaN   NaN   NaN   NaN  10.5  ...   \n\n    d22   d23  d24   d25   d26   d27   d28   d29   d30   d31  \n0   NaN   NaN  NaN   NaN   NaN   NaN   NaN   NaN  27.8   NaN  \n1   NaN   NaN  NaN   NaN   NaN   NaN   NaN   NaN  14.5   NaN  \n2   NaN  29.9  NaN   NaN   NaN   NaN   NaN   NaN   NaN   NaN  \n3   NaN  10.7  NaN   NaN   NaN   NaN   NaN   NaN   NaN   NaN  \n4   NaN   NaN  NaN   NaN   NaN   NaN   NaN   NaN   NaN   NaN  \n5   NaN   NaN  NaN   NaN   NaN   NaN   NaN   NaN   NaN   NaN  \n6   NaN   NaN  NaN   NaN   NaN  36.3   NaN   NaN   NaN   NaN  \n7   NaN   NaN  NaN   NaN   NaN  16.7   NaN   NaN   NaN   NaN  \n8   NaN   NaN  NaN   NaN   NaN  33.2   NaN   NaN   NaN   NaN  \n9   NaN   NaN  NaN   NaN   NaN  18.2   NaN   NaN   NaN   NaN  \n10  NaN   NaN  NaN   NaN   NaN   NaN   NaN  30.1   NaN   NaN  \n11  NaN   NaN  NaN   NaN   NaN   NaN   NaN  18.0   NaN   NaN  \n12  NaN   NaN  NaN   NaN   NaN   NaN   NaN   NaN   NaN   NaN  \n13  NaN   NaN  NaN   NaN   NaN   NaN   NaN   NaN   NaN   NaN  \n14  NaN  26.4  NaN  29.7   NaN   NaN   NaN  28.0   NaN  25.4  \n15  NaN  15.0  NaN  15.6   NaN   NaN   NaN  15.3   NaN  15.4  \n16  NaN   NaN  NaN   NaN   NaN   NaN  31.2   NaN   NaN   NaN  \n17  NaN   NaN  NaN   NaN   NaN   NaN  15.0   NaN   NaN   NaN  \n18  NaN   NaN  NaN   NaN  28.1  27.7   NaN   NaN   NaN   NaN  \n19  NaN   NaN  NaN   NaN  12.1  14.2   NaN   NaN   NaN   NaN  \n20  NaN   NaN  NaN   NaN   NaN   NaN   NaN   NaN   NaN   NaN  \n21  NaN   NaN  NaN   NaN   NaN   NaN   NaN   NaN   NaN   NaN  \n\n[22 rows x 35 columns]",
      "text/html": "<div>\n<style scoped>\n    .dataframe tbody tr th:only-of-type {\n        vertical-align: middle;\n    }\n\n    .dataframe tbody tr th {\n        vertical-align: top;\n    }\n\n    .dataframe thead th {\n        text-align: right;\n    }\n</style>\n<table border=\"1\" class=\"dataframe\">\n  <thead>\n    <tr style=\"text-align: right;\">\n      <th></th>\n      <th>id</th>\n      <th>year</th>\n      <th>month</th>\n      <th>element</th>\n      <th>d1</th>\n      <th>d2</th>\n      <th>d3</th>\n      <th>d4</th>\n      <th>d5</th>\n      <th>d6</th>\n      <th>...</th>\n      <th>d22</th>\n      <th>d23</th>\n      <th>d24</th>\n      <th>d25</th>\n      <th>d26</th>\n      <th>d27</th>\n      <th>d28</th>\n      <th>d29</th>\n      <th>d30</th>\n      <th>d31</th>\n    </tr>\n  </thead>\n  <tbody>\n    <tr>\n      <th>0</th>\n      <td>MX17004</td>\n      <td>2010</td>\n      <td>1</td>\n      <td>tmax</td>\n      <td>NaN</td>\n      <td>NaN</td>\n      <td>NaN</td>\n      <td>NaN</td>\n      <td>NaN</td>\n      <td>NaN</td>\n      <td>...</td>\n      <td>NaN</td>\n      <td>NaN</td>\n      <td>NaN</td>\n      <td>NaN</td>\n      <td>NaN</td>\n      <td>NaN</td>\n      <td>NaN</td>\n      <td>NaN</td>\n      <td>27.8</td>\n      <td>NaN</td>\n    </tr>\n    <tr>\n      <th>1</th>\n      <td>MX17004</td>\n      <td>2010</td>\n      <td>1</td>\n      <td>tmin</td>\n      <td>NaN</td>\n      <td>NaN</td>\n      <td>NaN</td>\n      <td>NaN</td>\n      <td>NaN</td>\n      <td>NaN</td>\n      <td>...</td>\n      <td>NaN</td>\n      <td>NaN</td>\n      <td>NaN</td>\n      <td>NaN</td>\n      <td>NaN</td>\n      <td>NaN</td>\n      <td>NaN</td>\n      <td>NaN</td>\n      <td>14.5</td>\n      <td>NaN</td>\n    </tr>\n    <tr>\n      <th>2</th>\n      <td>MX17004</td>\n      <td>2010</td>\n      <td>2</td>\n      <td>tmax</td>\n      <td>NaN</td>\n      <td>27.3</td>\n      <td>24.1</td>\n      <td>NaN</td>\n      <td>NaN</td>\n      <td>NaN</td>\n      <td>...</td>\n      <td>NaN</td>\n      <td>29.9</td>\n      <td>NaN</td>\n      <td>NaN</td>\n      <td>NaN</td>\n      <td>NaN</td>\n      <td>NaN</td>\n      <td>NaN</td>\n      <td>NaN</td>\n      <td>NaN</td>\n    </tr>\n    <tr>\n      <th>3</th>\n      <td>MX17004</td>\n      <td>2010</td>\n      <td>2</td>\n      <td>tmin</td>\n      <td>NaN</td>\n      <td>14.4</td>\n      <td>14.4</td>\n      <td>NaN</td>\n      <td>NaN</td>\n      <td>NaN</td>\n      <td>...</td>\n      <td>NaN</td>\n      <td>10.7</td>\n      <td>NaN</td>\n      <td>NaN</td>\n      <td>NaN</td>\n      <td>NaN</td>\n      <td>NaN</td>\n      <td>NaN</td>\n      <td>NaN</td>\n      <td>NaN</td>\n    </tr>\n    <tr>\n      <th>4</th>\n      <td>MX17004</td>\n      <td>2010</td>\n      <td>3</td>\n      <td>tmax</td>\n      <td>NaN</td>\n      <td>NaN</td>\n      <td>NaN</td>\n      <td>NaN</td>\n      <td>32.1</td>\n      <td>NaN</td>\n      <td>...</td>\n      <td>NaN</td>\n      <td>NaN</td>\n      <td>NaN</td>\n      <td>NaN</td>\n      <td>NaN</td>\n      <td>NaN</td>\n      <td>NaN</td>\n      <td>NaN</td>\n      <td>NaN</td>\n      <td>NaN</td>\n    </tr>\n    <tr>\n      <th>5</th>\n      <td>MX17004</td>\n      <td>2010</td>\n      <td>3</td>\n      <td>tmin</td>\n      <td>NaN</td>\n      <td>NaN</td>\n      <td>NaN</td>\n      <td>NaN</td>\n      <td>14.2</td>\n      <td>NaN</td>\n      <td>...</td>\n      <td>NaN</td>\n      <td>NaN</td>\n      <td>NaN</td>\n      <td>NaN</td>\n      <td>NaN</td>\n      <td>NaN</td>\n      <td>NaN</td>\n      <td>NaN</td>\n      <td>NaN</td>\n      <td>NaN</td>\n    </tr>\n    <tr>\n      <th>6</th>\n      <td>MX17004</td>\n      <td>2010</td>\n      <td>4</td>\n      <td>tmax</td>\n      <td>NaN</td>\n      <td>NaN</td>\n      <td>NaN</td>\n      <td>NaN</td>\n      <td>NaN</td>\n      <td>NaN</td>\n      <td>...</td>\n      <td>NaN</td>\n      <td>NaN</td>\n      <td>NaN</td>\n      <td>NaN</td>\n      <td>NaN</td>\n      <td>36.3</td>\n      <td>NaN</td>\n      <td>NaN</td>\n      <td>NaN</td>\n      <td>NaN</td>\n    </tr>\n    <tr>\n      <th>7</th>\n      <td>MX17004</td>\n      <td>2010</td>\n      <td>4</td>\n      <td>tmin</td>\n      <td>NaN</td>\n      <td>NaN</td>\n      <td>NaN</td>\n      <td>NaN</td>\n      <td>NaN</td>\n      <td>NaN</td>\n      <td>...</td>\n      <td>NaN</td>\n      <td>NaN</td>\n      <td>NaN</td>\n      <td>NaN</td>\n      <td>NaN</td>\n      <td>16.7</td>\n      <td>NaN</td>\n      <td>NaN</td>\n      <td>NaN</td>\n      <td>NaN</td>\n    </tr>\n    <tr>\n      <th>8</th>\n      <td>MX17004</td>\n      <td>2010</td>\n      <td>5</td>\n      <td>tmax</td>\n      <td>NaN</td>\n      <td>NaN</td>\n      <td>NaN</td>\n      <td>NaN</td>\n      <td>NaN</td>\n      <td>NaN</td>\n      <td>...</td>\n      <td>NaN</td>\n      <td>NaN</td>\n      <td>NaN</td>\n      <td>NaN</td>\n      <td>NaN</td>\n      <td>33.2</td>\n      <td>NaN</td>\n      <td>NaN</td>\n      <td>NaN</td>\n      <td>NaN</td>\n    </tr>\n    <tr>\n      <th>9</th>\n      <td>MX17004</td>\n      <td>2010</td>\n      <td>5</td>\n      <td>tmin</td>\n      <td>NaN</td>\n      <td>NaN</td>\n      <td>NaN</td>\n      <td>NaN</td>\n      <td>NaN</td>\n      <td>NaN</td>\n      <td>...</td>\n      <td>NaN</td>\n      <td>NaN</td>\n      <td>NaN</td>\n      <td>NaN</td>\n      <td>NaN</td>\n      <td>18.2</td>\n      <td>NaN</td>\n      <td>NaN</td>\n      <td>NaN</td>\n      <td>NaN</td>\n    </tr>\n    <tr>\n      <th>10</th>\n      <td>MX17004</td>\n      <td>2010</td>\n      <td>6</td>\n      <td>tmax</td>\n      <td>NaN</td>\n      <td>NaN</td>\n      <td>NaN</td>\n      <td>NaN</td>\n      <td>NaN</td>\n      <td>NaN</td>\n      <td>...</td>\n      <td>NaN</td>\n      <td>NaN</td>\n      <td>NaN</td>\n      <td>NaN</td>\n      <td>NaN</td>\n      <td>NaN</td>\n      <td>NaN</td>\n      <td>30.1</td>\n      <td>NaN</td>\n      <td>NaN</td>\n    </tr>\n    <tr>\n      <th>11</th>\n      <td>MX17004</td>\n      <td>2010</td>\n      <td>6</td>\n      <td>tmin</td>\n      <td>NaN</td>\n      <td>NaN</td>\n      <td>NaN</td>\n      <td>NaN</td>\n      <td>NaN</td>\n      <td>NaN</td>\n      <td>...</td>\n      <td>NaN</td>\n      <td>NaN</td>\n      <td>NaN</td>\n      <td>NaN</td>\n      <td>NaN</td>\n      <td>NaN</td>\n      <td>NaN</td>\n      <td>18.0</td>\n      <td>NaN</td>\n      <td>NaN</td>\n    </tr>\n    <tr>\n      <th>12</th>\n      <td>MX17004</td>\n      <td>2010</td>\n      <td>7</td>\n      <td>tmax</td>\n      <td>NaN</td>\n      <td>NaN</td>\n      <td>28.6</td>\n      <td>NaN</td>\n      <td>NaN</td>\n      <td>NaN</td>\n      <td>...</td>\n      <td>NaN</td>\n      <td>NaN</td>\n      <td>NaN</td>\n      <td>NaN</td>\n      <td>NaN</td>\n      <td>NaN</td>\n      <td>NaN</td>\n      <td>NaN</td>\n      <td>NaN</td>\n      <td>NaN</td>\n    </tr>\n    <tr>\n      <th>13</th>\n      <td>MX17004</td>\n      <td>2010</td>\n      <td>7</td>\n      <td>tmin</td>\n      <td>NaN</td>\n      <td>NaN</td>\n      <td>17.5</td>\n      <td>NaN</td>\n      <td>NaN</td>\n      <td>NaN</td>\n      <td>...</td>\n      <td>NaN</td>\n      <td>NaN</td>\n      <td>NaN</td>\n      <td>NaN</td>\n      <td>NaN</td>\n      <td>NaN</td>\n      <td>NaN</td>\n      <td>NaN</td>\n      <td>NaN</td>\n      <td>NaN</td>\n    </tr>\n    <tr>\n      <th>14</th>\n      <td>MX17004</td>\n      <td>2010</td>\n      <td>8</td>\n      <td>tmax</td>\n      <td>NaN</td>\n      <td>NaN</td>\n      <td>NaN</td>\n      <td>NaN</td>\n      <td>29.6</td>\n      <td>NaN</td>\n      <td>...</td>\n      <td>NaN</td>\n      <td>26.4</td>\n      <td>NaN</td>\n      <td>29.7</td>\n      <td>NaN</td>\n      <td>NaN</td>\n      <td>NaN</td>\n      <td>28.0</td>\n      <td>NaN</td>\n      <td>25.4</td>\n    </tr>\n    <tr>\n      <th>15</th>\n      <td>MX17004</td>\n      <td>2010</td>\n      <td>8</td>\n      <td>tmin</td>\n      <td>NaN</td>\n      <td>NaN</td>\n      <td>NaN</td>\n      <td>NaN</td>\n      <td>15.8</td>\n      <td>NaN</td>\n      <td>...</td>\n      <td>NaN</td>\n      <td>15.0</td>\n      <td>NaN</td>\n      <td>15.6</td>\n      <td>NaN</td>\n      <td>NaN</td>\n      <td>NaN</td>\n      <td>15.3</td>\n      <td>NaN</td>\n      <td>15.4</td>\n    </tr>\n    <tr>\n      <th>16</th>\n      <td>MX17004</td>\n      <td>2010</td>\n      <td>10</td>\n      <td>tmax</td>\n      <td>NaN</td>\n      <td>NaN</td>\n      <td>NaN</td>\n      <td>NaN</td>\n      <td>27.0</td>\n      <td>NaN</td>\n      <td>...</td>\n      <td>NaN</td>\n      <td>NaN</td>\n      <td>NaN</td>\n      <td>NaN</td>\n      <td>NaN</td>\n      <td>NaN</td>\n      <td>31.2</td>\n      <td>NaN</td>\n      <td>NaN</td>\n      <td>NaN</td>\n    </tr>\n    <tr>\n      <th>17</th>\n      <td>MX17004</td>\n      <td>2010</td>\n      <td>10</td>\n      <td>tmin</td>\n      <td>NaN</td>\n      <td>NaN</td>\n      <td>NaN</td>\n      <td>NaN</td>\n      <td>14.0</td>\n      <td>NaN</td>\n      <td>...</td>\n      <td>NaN</td>\n      <td>NaN</td>\n      <td>NaN</td>\n      <td>NaN</td>\n      <td>NaN</td>\n      <td>NaN</td>\n      <td>15.0</td>\n      <td>NaN</td>\n      <td>NaN</td>\n      <td>NaN</td>\n    </tr>\n    <tr>\n      <th>18</th>\n      <td>MX17004</td>\n      <td>2010</td>\n      <td>11</td>\n      <td>tmax</td>\n      <td>NaN</td>\n      <td>31.3</td>\n      <td>NaN</td>\n      <td>27.2</td>\n      <td>26.3</td>\n      <td>NaN</td>\n      <td>...</td>\n      <td>NaN</td>\n      <td>NaN</td>\n      <td>NaN</td>\n      <td>NaN</td>\n      <td>28.1</td>\n      <td>27.7</td>\n      <td>NaN</td>\n      <td>NaN</td>\n      <td>NaN</td>\n      <td>NaN</td>\n    </tr>\n    <tr>\n      <th>19</th>\n      <td>MX17004</td>\n      <td>2010</td>\n      <td>11</td>\n      <td>tmin</td>\n      <td>NaN</td>\n      <td>16.3</td>\n      <td>NaN</td>\n      <td>12.0</td>\n      <td>7.9</td>\n      <td>NaN</td>\n      <td>...</td>\n      <td>NaN</td>\n      <td>NaN</td>\n      <td>NaN</td>\n      <td>NaN</td>\n      <td>12.1</td>\n      <td>14.2</td>\n      <td>NaN</td>\n      <td>NaN</td>\n      <td>NaN</td>\n      <td>NaN</td>\n    </tr>\n    <tr>\n      <th>20</th>\n      <td>MX17004</td>\n      <td>2010</td>\n      <td>12</td>\n      <td>tmax</td>\n      <td>29.9</td>\n      <td>NaN</td>\n      <td>NaN</td>\n      <td>NaN</td>\n      <td>NaN</td>\n      <td>27.8</td>\n      <td>...</td>\n      <td>NaN</td>\n      <td>NaN</td>\n      <td>NaN</td>\n      <td>NaN</td>\n      <td>NaN</td>\n      <td>NaN</td>\n      <td>NaN</td>\n      <td>NaN</td>\n      <td>NaN</td>\n      <td>NaN</td>\n    </tr>\n    <tr>\n      <th>21</th>\n      <td>MX17004</td>\n      <td>2010</td>\n      <td>12</td>\n      <td>tmin</td>\n      <td>13.8</td>\n      <td>NaN</td>\n      <td>NaN</td>\n      <td>NaN</td>\n      <td>NaN</td>\n      <td>10.5</td>\n      <td>...</td>\n      <td>NaN</td>\n      <td>NaN</td>\n      <td>NaN</td>\n      <td>NaN</td>\n      <td>NaN</td>\n      <td>NaN</td>\n      <td>NaN</td>\n      <td>NaN</td>\n      <td>NaN</td>\n      <td>NaN</td>\n    </tr>\n  </tbody>\n</table>\n<p>22 rows × 35 columns</p>\n</div>"
     },
     "execution_count": 12,
     "metadata": {},
     "output_type": "execute_result"
    }
   ],
   "source": [
    "weather_data = pd.read_csv('data/ds_l2/weather.csv')\n",
    "weather_data"
   ],
   "metadata": {
    "collapsed": false,
    "ExecuteTime": {
     "end_time": "2023-11-08T11:13:15.095171114Z",
     "start_time": "2023-11-08T11:13:15.043506739Z"
    }
   },
   "id": "d6c95cba6182fadf"
  },
  {
   "cell_type": "markdown",
   "source": [],
   "metadata": {
    "collapsed": false
   },
   "id": "42a57eecf2cf1a3c"
  },
  {
   "cell_type": "code",
   "execution_count": 13,
   "outputs": [],
   "source": [
    "weather_data = weather_data.melt(id_vars=['id', 'year', 'month', 'element'], var_name='day')\n",
    "# tb_tidy = tb.melt(id_vars=['iso2', 'year'], var_name='sex_and_age', value_name='cases')"
   ],
   "metadata": {
    "collapsed": false,
    "ExecuteTime": {
     "end_time": "2023-11-08T11:13:15.095216405Z",
     "start_time": "2023-11-08T11:13:15.043777640Z"
    }
   },
   "id": "6286d69f68f9ee"
  },
  {
   "cell_type": "code",
   "execution_count": 14,
   "outputs": [],
   "source": [
    "weather_data.day = weather_data.day.str.slice(1).astype(int)"
   ],
   "metadata": {
    "collapsed": false,
    "ExecuteTime": {
     "end_time": "2023-11-08T11:13:15.097333245Z",
     "start_time": "2023-11-08T11:13:15.087507260Z"
    }
   },
   "id": "dd8cdae278cdaee1"
  },
  {
   "cell_type": "code",
   "execution_count": 15,
   "outputs": [],
   "source": [
    "weather_data = weather_data.pivot_table(index=['id', 'year', 'month', 'day'], columns='element', values='value')\n",
    "weather_data = weather_data.reset_index()"
   ],
   "metadata": {
    "collapsed": false,
    "ExecuteTime": {
     "end_time": "2023-11-08T11:13:15.097460820Z",
     "start_time": "2023-11-08T11:13:15.087607183Z"
    }
   },
   "id": "cfedd3534537b1d"
  },
  {
   "cell_type": "code",
   "execution_count": 38,
   "outputs": [],
   "source": [
    "weather_data['date'] = pd.to_datetime(weather_data[['year', 'month', 'day']])"
   ],
   "metadata": {
    "collapsed": false,
    "ExecuteTime": {
     "end_time": "2023-11-08T11:26:42.935864936Z",
     "start_time": "2023-11-08T11:26:42.893940476Z"
    }
   },
   "id": "ec7962a38b94665c"
  },
  {
   "cell_type": "code",
   "execution_count": 39,
   "outputs": [
    {
     "data": {
      "text/plain": "element       id  year  month  day  tmax  tmin       date\n0        MX17004  2010      1   30  27.8  14.5 2010-01-30\n1        MX17004  2010      2    2  27.3  14.4 2010-02-02\n2        MX17004  2010      2    3  24.1  14.4 2010-02-03\n3        MX17004  2010      2   11  29.7  13.4 2010-02-11\n4        MX17004  2010      2   23  29.9  10.7 2010-02-23\n5        MX17004  2010      3    5  32.1  14.2 2010-03-05\n6        MX17004  2010      3   10  34.5  16.8 2010-03-10\n7        MX17004  2010      3   16  31.1  17.6 2010-03-16\n8        MX17004  2010      4   27  36.3  16.7 2010-04-27\n9        MX17004  2010      5   27  33.2  18.2 2010-05-27\n10       MX17004  2010      6   17  28.0  17.5 2010-06-17\n11       MX17004  2010      6   29  30.1  18.0 2010-06-29\n12       MX17004  2010      7    3  28.6  17.5 2010-07-03\n13       MX17004  2010      7   14  29.9  16.5 2010-07-14\n14       MX17004  2010      8   23  26.4  15.0 2010-08-23\n15       MX17004  2010      8    5  29.6  15.8 2010-08-05\n16       MX17004  2010      8   29  28.0  15.3 2010-08-29\n17       MX17004  2010      8    8  29.0  17.3 2010-08-08\n18       MX17004  2010      8   13  29.8  16.5 2010-08-13\n19       MX17004  2010      8   25  29.7  15.6 2010-08-25\n20       MX17004  2010      8   31  25.4  15.4 2010-08-31\n21       MX17004  2010     10    5  27.0  14.0 2010-10-05\n22       MX17004  2010     10   14  29.5  13.0 2010-10-14\n23       MX17004  2010     10    7  28.1  12.9 2010-10-07\n24       MX17004  2010     10   15  28.7  10.5 2010-10-15\n25       MX17004  2010     10   28  31.2  15.0 2010-10-28\n26       MX17004  2010     11    2  31.3  16.3 2010-11-02\n27       MX17004  2010     11    5  26.3   7.9 2010-11-05\n28       MX17004  2010     11   27  27.7  14.2 2010-11-27\n29       MX17004  2010     11    4  27.2  12.0 2010-11-04\n30       MX17004  2010     11   26  28.1  12.1 2010-11-26\n31       MX17004  2010     12    1  29.9  13.8 2010-12-01\n32       MX17004  2010     12    6  27.8  10.5 2010-12-06",
      "text/html": "<div>\n<style scoped>\n    .dataframe tbody tr th:only-of-type {\n        vertical-align: middle;\n    }\n\n    .dataframe tbody tr th {\n        vertical-align: top;\n    }\n\n    .dataframe thead th {\n        text-align: right;\n    }\n</style>\n<table border=\"1\" class=\"dataframe\">\n  <thead>\n    <tr style=\"text-align: right;\">\n      <th>element</th>\n      <th>id</th>\n      <th>year</th>\n      <th>month</th>\n      <th>day</th>\n      <th>tmax</th>\n      <th>tmin</th>\n      <th>date</th>\n    </tr>\n  </thead>\n  <tbody>\n    <tr>\n      <th>0</th>\n      <td>MX17004</td>\n      <td>2010</td>\n      <td>1</td>\n      <td>30</td>\n      <td>27.8</td>\n      <td>14.5</td>\n      <td>2010-01-30</td>\n    </tr>\n    <tr>\n      <th>1</th>\n      <td>MX17004</td>\n      <td>2010</td>\n      <td>2</td>\n      <td>2</td>\n      <td>27.3</td>\n      <td>14.4</td>\n      <td>2010-02-02</td>\n    </tr>\n    <tr>\n      <th>2</th>\n      <td>MX17004</td>\n      <td>2010</td>\n      <td>2</td>\n      <td>3</td>\n      <td>24.1</td>\n      <td>14.4</td>\n      <td>2010-02-03</td>\n    </tr>\n    <tr>\n      <th>3</th>\n      <td>MX17004</td>\n      <td>2010</td>\n      <td>2</td>\n      <td>11</td>\n      <td>29.7</td>\n      <td>13.4</td>\n      <td>2010-02-11</td>\n    </tr>\n    <tr>\n      <th>4</th>\n      <td>MX17004</td>\n      <td>2010</td>\n      <td>2</td>\n      <td>23</td>\n      <td>29.9</td>\n      <td>10.7</td>\n      <td>2010-02-23</td>\n    </tr>\n    <tr>\n      <th>5</th>\n      <td>MX17004</td>\n      <td>2010</td>\n      <td>3</td>\n      <td>5</td>\n      <td>32.1</td>\n      <td>14.2</td>\n      <td>2010-03-05</td>\n    </tr>\n    <tr>\n      <th>6</th>\n      <td>MX17004</td>\n      <td>2010</td>\n      <td>3</td>\n      <td>10</td>\n      <td>34.5</td>\n      <td>16.8</td>\n      <td>2010-03-10</td>\n    </tr>\n    <tr>\n      <th>7</th>\n      <td>MX17004</td>\n      <td>2010</td>\n      <td>3</td>\n      <td>16</td>\n      <td>31.1</td>\n      <td>17.6</td>\n      <td>2010-03-16</td>\n    </tr>\n    <tr>\n      <th>8</th>\n      <td>MX17004</td>\n      <td>2010</td>\n      <td>4</td>\n      <td>27</td>\n      <td>36.3</td>\n      <td>16.7</td>\n      <td>2010-04-27</td>\n    </tr>\n    <tr>\n      <th>9</th>\n      <td>MX17004</td>\n      <td>2010</td>\n      <td>5</td>\n      <td>27</td>\n      <td>33.2</td>\n      <td>18.2</td>\n      <td>2010-05-27</td>\n    </tr>\n    <tr>\n      <th>10</th>\n      <td>MX17004</td>\n      <td>2010</td>\n      <td>6</td>\n      <td>17</td>\n      <td>28.0</td>\n      <td>17.5</td>\n      <td>2010-06-17</td>\n    </tr>\n    <tr>\n      <th>11</th>\n      <td>MX17004</td>\n      <td>2010</td>\n      <td>6</td>\n      <td>29</td>\n      <td>30.1</td>\n      <td>18.0</td>\n      <td>2010-06-29</td>\n    </tr>\n    <tr>\n      <th>12</th>\n      <td>MX17004</td>\n      <td>2010</td>\n      <td>7</td>\n      <td>3</td>\n      <td>28.6</td>\n      <td>17.5</td>\n      <td>2010-07-03</td>\n    </tr>\n    <tr>\n      <th>13</th>\n      <td>MX17004</td>\n      <td>2010</td>\n      <td>7</td>\n      <td>14</td>\n      <td>29.9</td>\n      <td>16.5</td>\n      <td>2010-07-14</td>\n    </tr>\n    <tr>\n      <th>14</th>\n      <td>MX17004</td>\n      <td>2010</td>\n      <td>8</td>\n      <td>23</td>\n      <td>26.4</td>\n      <td>15.0</td>\n      <td>2010-08-23</td>\n    </tr>\n    <tr>\n      <th>15</th>\n      <td>MX17004</td>\n      <td>2010</td>\n      <td>8</td>\n      <td>5</td>\n      <td>29.6</td>\n      <td>15.8</td>\n      <td>2010-08-05</td>\n    </tr>\n    <tr>\n      <th>16</th>\n      <td>MX17004</td>\n      <td>2010</td>\n      <td>8</td>\n      <td>29</td>\n      <td>28.0</td>\n      <td>15.3</td>\n      <td>2010-08-29</td>\n    </tr>\n    <tr>\n      <th>17</th>\n      <td>MX17004</td>\n      <td>2010</td>\n      <td>8</td>\n      <td>8</td>\n      <td>29.0</td>\n      <td>17.3</td>\n      <td>2010-08-08</td>\n    </tr>\n    <tr>\n      <th>18</th>\n      <td>MX17004</td>\n      <td>2010</td>\n      <td>8</td>\n      <td>13</td>\n      <td>29.8</td>\n      <td>16.5</td>\n      <td>2010-08-13</td>\n    </tr>\n    <tr>\n      <th>19</th>\n      <td>MX17004</td>\n      <td>2010</td>\n      <td>8</td>\n      <td>25</td>\n      <td>29.7</td>\n      <td>15.6</td>\n      <td>2010-08-25</td>\n    </tr>\n    <tr>\n      <th>20</th>\n      <td>MX17004</td>\n      <td>2010</td>\n      <td>8</td>\n      <td>31</td>\n      <td>25.4</td>\n      <td>15.4</td>\n      <td>2010-08-31</td>\n    </tr>\n    <tr>\n      <th>21</th>\n      <td>MX17004</td>\n      <td>2010</td>\n      <td>10</td>\n      <td>5</td>\n      <td>27.0</td>\n      <td>14.0</td>\n      <td>2010-10-05</td>\n    </tr>\n    <tr>\n      <th>22</th>\n      <td>MX17004</td>\n      <td>2010</td>\n      <td>10</td>\n      <td>14</td>\n      <td>29.5</td>\n      <td>13.0</td>\n      <td>2010-10-14</td>\n    </tr>\n    <tr>\n      <th>23</th>\n      <td>MX17004</td>\n      <td>2010</td>\n      <td>10</td>\n      <td>7</td>\n      <td>28.1</td>\n      <td>12.9</td>\n      <td>2010-10-07</td>\n    </tr>\n    <tr>\n      <th>24</th>\n      <td>MX17004</td>\n      <td>2010</td>\n      <td>10</td>\n      <td>15</td>\n      <td>28.7</td>\n      <td>10.5</td>\n      <td>2010-10-15</td>\n    </tr>\n    <tr>\n      <th>25</th>\n      <td>MX17004</td>\n      <td>2010</td>\n      <td>10</td>\n      <td>28</td>\n      <td>31.2</td>\n      <td>15.0</td>\n      <td>2010-10-28</td>\n    </tr>\n    <tr>\n      <th>26</th>\n      <td>MX17004</td>\n      <td>2010</td>\n      <td>11</td>\n      <td>2</td>\n      <td>31.3</td>\n      <td>16.3</td>\n      <td>2010-11-02</td>\n    </tr>\n    <tr>\n      <th>27</th>\n      <td>MX17004</td>\n      <td>2010</td>\n      <td>11</td>\n      <td>5</td>\n      <td>26.3</td>\n      <td>7.9</td>\n      <td>2010-11-05</td>\n    </tr>\n    <tr>\n      <th>28</th>\n      <td>MX17004</td>\n      <td>2010</td>\n      <td>11</td>\n      <td>27</td>\n      <td>27.7</td>\n      <td>14.2</td>\n      <td>2010-11-27</td>\n    </tr>\n    <tr>\n      <th>29</th>\n      <td>MX17004</td>\n      <td>2010</td>\n      <td>11</td>\n      <td>4</td>\n      <td>27.2</td>\n      <td>12.0</td>\n      <td>2010-11-04</td>\n    </tr>\n    <tr>\n      <th>30</th>\n      <td>MX17004</td>\n      <td>2010</td>\n      <td>11</td>\n      <td>26</td>\n      <td>28.1</td>\n      <td>12.1</td>\n      <td>2010-11-26</td>\n    </tr>\n    <tr>\n      <th>31</th>\n      <td>MX17004</td>\n      <td>2010</td>\n      <td>12</td>\n      <td>1</td>\n      <td>29.9</td>\n      <td>13.8</td>\n      <td>2010-12-01</td>\n    </tr>\n    <tr>\n      <th>32</th>\n      <td>MX17004</td>\n      <td>2010</td>\n      <td>12</td>\n      <td>6</td>\n      <td>27.8</td>\n      <td>10.5</td>\n      <td>2010-12-06</td>\n    </tr>\n  </tbody>\n</table>\n</div>"
     },
     "execution_count": 39,
     "metadata": {},
     "output_type": "execute_result"
    }
   ],
   "source": [
    "weather_data"
   ],
   "metadata": {
    "collapsed": false,
    "ExecuteTime": {
     "end_time": "2023-11-08T11:26:49.278181780Z",
     "start_time": "2023-11-08T11:26:49.263824987Z"
    }
   },
   "id": "23987c75ad45dd37"
  },
  {
   "cell_type": "code",
   "execution_count": 40,
   "outputs": [],
   "source": [
    "weather_data.to_csv('data/ds_l2/clean_data.csv')"
   ],
   "metadata": {
    "collapsed": false,
    "ExecuteTime": {
     "end_time": "2023-11-08T11:28:53.255606996Z",
     "start_time": "2023-11-08T11:28:53.213341304Z"
    }
   },
   "id": "a80e3bf71db0e968"
  },
  {
   "cell_type": "code",
   "execution_count": null,
   "outputs": [],
   "source": [],
   "metadata": {
    "collapsed": false
   },
   "id": "68a425bf02ca7786"
  }
 ],
 "metadata": {
  "kernelspec": {
   "display_name": "Python 3",
   "language": "python",
   "name": "python3"
  },
  "language_info": {
   "codemirror_mode": {
    "name": "ipython",
    "version": 2
   },
   "file_extension": ".py",
   "mimetype": "text/x-python",
   "name": "python",
   "nbconvert_exporter": "python",
   "pygments_lexer": "ipython2",
   "version": "2.7.6"
  }
 },
 "nbformat": 4,
 "nbformat_minor": 5
}
