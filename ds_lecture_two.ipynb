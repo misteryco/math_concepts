{
 "cells": [
  {
   "cell_type": "code",
   "execution_count": 2,
   "outputs": [],
   "source": [
    "%matplotlib inline"
   ],
   "metadata": {
    "collapsed": false,
    "ExecuteTime": {
     "end_time": "2023-11-07T14:20:52.562663725Z",
     "start_time": "2023-11-07T14:20:51.892022369Z"
    }
   },
   "id": "a7e753ba5378ec7c"
  },
  {
   "cell_type": "code",
   "execution_count": 3,
   "outputs": [],
   "source": [
    "import numpy as np\n",
    "import pandas as pd"
   ],
   "metadata": {
    "collapsed": false,
    "ExecuteTime": {
     "end_time": "2023-11-07T14:20:52.563457612Z",
     "start_time": "2023-11-07T14:20:52.552506280Z"
    }
   },
   "id": "a97543ac5e035899"
  },
  {
   "cell_type": "markdown",
   "source": [
    "==========================\n",
    "Data Tidying and Cleaning\n",
    "=========================="
   ],
   "metadata": {
    "collapsed": false
   },
   "id": "1e4c4e71220584fd"
  },
  {
   "cell_type": "code",
   "execution_count": null,
   "outputs": [],
   "source": [],
   "metadata": {
    "collapsed": false
   },
   "id": "4e92d3148d0f5f01"
  }
 ],
 "metadata": {
  "kernelspec": {
   "display_name": "Python 3",
   "language": "python",
   "name": "python3"
  },
  "language_info": {
   "codemirror_mode": {
    "name": "ipython",
    "version": 2
   },
   "file_extension": ".py",
   "mimetype": "text/x-python",
   "name": "python",
   "nbconvert_exporter": "python",
   "pygments_lexer": "ipython2",
   "version": "2.7.6"
  }
 },
 "nbformat": 4,
 "nbformat_minor": 5
}
