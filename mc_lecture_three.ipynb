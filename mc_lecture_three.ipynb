{
 "cells": [
  {
   "cell_type": "code",
   "execution_count": 60,
   "outputs": [],
   "source": [
    "%matplotlib inline"
   ],
   "metadata": {
    "collapsed": false,
    "ExecuteTime": {
     "end_time": "2023-11-19T10:27:37.473312064Z",
     "start_time": "2023-11-19T10:27:35.515281013Z"
    }
   },
   "id": "e021a8f409a1b311"
  },
  {
   "cell_type": "code",
   "execution_count": 61,
   "outputs": [],
   "source": [
    "import math\n",
    "import cmath\n",
    "\n",
    "import matplotlib.pyplot as plt\n",
    "import numpy as np\n",
    "import numpy.polynomial.polynomial as p\n",
    "import sympy\n"
   ],
   "metadata": {
    "collapsed": false,
    "ExecuteTime": {
     "end_time": "2023-11-19T10:27:37.589732049Z",
     "start_time": "2023-11-19T10:27:35.604739187Z"
    }
   },
   "id": "e83e874398f858eb"
  },
  {
   "cell_type": "markdown",
   "source": [
    "# Basic algebra"
   ],
   "metadata": {
    "collapsed": false
   },
   "id": "8abbb6435dae3483"
  },
  {
   "cell_type": "code",
   "execution_count": 62,
   "outputs": [
    {
     "data": {
      "text/plain": "(2, [])"
     },
     "execution_count": 62,
     "metadata": {},
     "output_type": "execute_result"
    }
   ],
   "source": [
    "my_list = [2, 8, -18, 0, 3, 5]\n",
    "my_list[0], []"
   ],
   "metadata": {
    "collapsed": false,
    "ExecuteTime": {
     "end_time": "2023-11-19T10:27:37.591844476Z",
     "start_time": "2023-11-19T10:27:35.605748574Z"
    }
   },
   "id": "5150c4fa36855bb1"
  },
  {
   "cell_type": "markdown",
   "source": [
    "![alternative text]('/data/mc_l3/Screenshot from 2023-11-17 11-25-21.png')"
   ],
   "metadata": {
    "collapsed": false
   },
   "id": "a730309e7abbb41a"
  },
  {
   "cell_type": "markdown",
   "source": [],
   "metadata": {
    "collapsed": false
   },
   "id": "c406eaa73b767243"
  },
  {
   "cell_type": "code",
   "execution_count": 63,
   "outputs": [
    {
     "data": {
      "text/plain": "(array([  3.,   0.,   2.,   5., -10.]),\n array([  6.,  15., -24.,   0.,  -4., -10.,  16.]))"
     },
     "execution_count": 63,
     "metadata": {},
     "output_type": "execute_result"
    }
   ],
   "source": [
    "a = p.polyadd([-8, 5, 2], [-2, 0, 0, 0, 3])\n",
    "b = p.polymul([-8, 5, 2], [-2, 0, 0, 0, 3])\n",
    "a[::-1], b[::-1]  # Exact form of indexes"
   ],
   "metadata": {
    "collapsed": false,
    "ExecuteTime": {
     "end_time": "2023-11-19T10:27:37.614501306Z",
     "start_time": "2023-11-19T10:27:35.616567354Z"
    }
   },
   "id": "3e0a79d1c6efefec"
  },
  {
   "cell_type": "markdown",
   "source": [],
   "metadata": {
    "collapsed": false
   },
   "id": "8d6dd0eadb9702a1"
  },
  {
   "cell_type": "code",
   "execution_count": 64,
   "outputs": [
    {
     "data": {
      "text/plain": "x",
      "text/latex": "$\\displaystyle x$"
     },
     "execution_count": 64,
     "metadata": {},
     "output_type": "execute_result"
    }
   ],
   "source": [
    "x = sympy.symbols('x')\n",
    "x"
   ],
   "metadata": {
    "collapsed": false,
    "ExecuteTime": {
     "end_time": "2023-11-19T10:27:37.616195572Z",
     "start_time": "2023-11-19T10:27:35.630065910Z"
    }
   },
   "id": "854622588e1dc559"
  },
  {
   "cell_type": "code",
   "execution_count": 65,
   "outputs": [
    {
     "data": {
      "text/plain": "3.0*x**4 + 2.0*x**2 + 5.0*x - 10.0",
      "text/latex": "$\\displaystyle 3.0 x^{4} + 2.0 x^{2} + 5.0 x - 10.0$"
     },
     "execution_count": 65,
     "metadata": {},
     "output_type": "execute_result"
    }
   ],
   "source": [
    "sympy.Poly(a[::-1], x).as_expr()"
   ],
   "metadata": {
    "collapsed": false,
    "ExecuteTime": {
     "end_time": "2023-11-19T10:27:37.620395661Z",
     "start_time": "2023-11-19T10:27:35.669877520Z"
    }
   },
   "id": "7817ec5e6fbb8ecb"
  },
  {
   "cell_type": "code",
   "execution_count": 66,
   "outputs": [
    {
     "data": {
      "text/plain": "6.0*x**6 + 15.0*x**5 - 24.0*x**4 - 4.0*x**2 - 10.0*x + 16.0",
      "text/latex": "$\\displaystyle 6.0 x^{6} + 15.0 x^{5} - 24.0 x^{4} - 4.0 x^{2} - 10.0 x + 16.0$"
     },
     "execution_count": 66,
     "metadata": {},
     "output_type": "execute_result"
    }
   ],
   "source": [
    "sympy.Poly(b[::-1], x).as_expr()"
   ],
   "metadata": {
    "collapsed": false,
    "ExecuteTime": {
     "end_time": "2023-11-19T10:27:37.624601456Z",
     "start_time": "2023-11-19T10:27:35.765996058Z"
    }
   },
   "id": "e225a8a2e9e9f6dd"
  },
  {
   "cell_type": "code",
   "execution_count": 67,
   "outputs": [
    {
     "data": {
      "text/plain": "({-11, -2, -1, 1, 2, 3, 4}, {-11, -2, -1, 1, 2, 3, 4, 22})"
     },
     "execution_count": 67,
     "metadata": {},
     "output_type": "execute_result"
    }
   ],
   "source": [
    "set_one = {1, 2, 3, 1, 2, 3, 1, 2, 3, 1, 2, 3, 1, 2, 1, 2, 3, 1, 2, 3, 1, -11, 3, 1, 2, 3, 1, 2, 4, -1, -2}\n",
    "set_two = {1, 2, 3, 1, 2, 3, 1, 2, 22, 1, 2, 3, 1, 2, 3, 1, -11, 3, 1, 2, 3, 1, 2, 4, -1, -2}\n",
    "set_one, set_two"
   ],
   "metadata": {
    "collapsed": false,
    "ExecuteTime": {
     "end_time": "2023-11-19T10:27:37.636891953Z",
     "start_time": "2023-11-19T10:27:35.800443598Z"
    }
   },
   "id": "c77200952eb246f8"
  },
  {
   "cell_type": "code",
   "execution_count": 68,
   "outputs": [
    {
     "data": {
      "text/plain": "7"
     },
     "execution_count": 68,
     "metadata": {},
     "output_type": "execute_result"
    }
   ],
   "source": [
    "len(set_one)"
   ],
   "metadata": {
    "collapsed": false,
    "ExecuteTime": {
     "end_time": "2023-11-19T10:27:37.637671027Z",
     "start_time": "2023-11-19T10:27:35.840922288Z"
    }
   },
   "id": "4a053bfbfba9abb9"
  },
  {
   "cell_type": "code",
   "execution_count": 69,
   "outputs": [
    {
     "data": {
      "text/plain": "{-11, -2, -1, 1, 2, 3, 4, 22}"
     },
     "execution_count": 69,
     "metadata": {},
     "output_type": "execute_result"
    }
   ],
   "source": [
    "set_one.union(set_two, set_two)"
   ],
   "metadata": {
    "collapsed": false,
    "ExecuteTime": {
     "end_time": "2023-11-19T10:27:37.638237617Z",
     "start_time": "2023-11-19T10:27:35.841897190Z"
    }
   },
   "id": "b6d9b2c5826cfe9a"
  },
  {
   "cell_type": "code",
   "execution_count": 70,
   "outputs": [
    {
     "data": {
      "text/plain": "{-11, -2, -1, 1, 2, 3, 4}"
     },
     "execution_count": 70,
     "metadata": {},
     "output_type": "execute_result"
    }
   ],
   "source": [
    "set_one.intersection(set_two)"
   ],
   "metadata": {
    "collapsed": false,
    "ExecuteTime": {
     "end_time": "2023-11-19T10:27:37.639009732Z",
     "start_time": "2023-11-19T10:27:35.884623055Z"
    }
   },
   "id": "9262e0362081e86b"
  },
  {
   "cell_type": "code",
   "execution_count": 71,
   "outputs": [
    {
     "data": {
      "text/plain": "set()"
     },
     "execution_count": 71,
     "metadata": {},
     "output_type": "execute_result"
    }
   ],
   "source": [
    "set_one.difference(set_two)"
   ],
   "metadata": {
    "collapsed": false,
    "ExecuteTime": {
     "end_time": "2023-11-19T10:27:37.639447834Z",
     "start_time": "2023-11-19T10:27:35.885488591Z"
    }
   },
   "id": "3eb7bb83f9c15209"
  },
  {
   "cell_type": "code",
   "execution_count": 72,
   "outputs": [
    {
     "data": {
      "text/plain": "{22}"
     },
     "execution_count": 72,
     "metadata": {},
     "output_type": "execute_result"
    }
   ],
   "source": [
    "set_two.difference(set_one)"
   ],
   "metadata": {
    "collapsed": false,
    "ExecuteTime": {
     "end_time": "2023-11-19T10:27:37.639913870Z",
     "start_time": "2023-11-19T10:27:35.886356421Z"
    }
   },
   "id": "2d7e988e5562b84d"
  },
  {
   "cell_type": "code",
   "execution_count": 73,
   "outputs": [
    {
     "data": {
      "text/plain": "{22}"
     },
     "execution_count": 73,
     "metadata": {},
     "output_type": "execute_result"
    }
   ],
   "source": [
    "set_two.symmetric_difference(set_one)"
   ],
   "metadata": {
    "collapsed": false,
    "ExecuteTime": {
     "end_time": "2023-11-19T10:27:37.640430263Z",
     "start_time": "2023-11-19T10:27:35.887042552Z"
    }
   },
   "id": "3f0496f8423a202"
  },
  {
   "cell_type": "code",
   "execution_count": 74,
   "outputs": [
    {
     "data": {
      "text/plain": "{22}"
     },
     "execution_count": 74,
     "metadata": {},
     "output_type": "execute_result"
    }
   ],
   "source": [
    "set_one.symmetric_difference(set_two)"
   ],
   "metadata": {
    "collapsed": false,
    "ExecuteTime": {
     "end_time": "2023-11-19T10:27:37.641056396Z",
     "start_time": "2023-11-19T10:27:35.933203727Z"
    }
   },
   "id": "c52a0b496e5bcdc2"
  },
  {
   "cell_type": "code",
   "execution_count": 75,
   "outputs": [
    {
     "data": {
      "text/plain": "<Figure size 432x288 with 1 Axes>",
      "image/png": "[encoded data removed]"
     },
     "metadata": {
      "needs_background": "light"
     },
     "output_type": "display_data"
    }
   ],
   "source": [
    "def plot_function(f, x_min=-10, x_max=10, n_values=1000):\n",
    "    x = np.linspace(x_min, x_max, n_values)\n",
    "    y = f(x)\n",
    "\n",
    "    plt.plot(x, y)\n",
    "    ax = plt.gca()\n",
    "\n",
    "    ax.spines[\"bottom\"].set_position(\"zero\")\n",
    "    ax.spines[\"left\"].set_position(\"zero\")\n",
    "    ax.spines[\"top\"].set_visible(False)\n",
    "    ax.spines[\"right\"].set_visible(False)\n",
    "    ax.set_aspect('equal')\n",
    "\n",
    "\n",
    "plot_function(lambda x: np.sin(x))"
   ],
   "metadata": {
    "collapsed": false,
    "ExecuteTime": {
     "end_time": "2023-11-19T10:27:37.683112169Z",
     "start_time": "2023-11-19T10:27:35.934127626Z"
    }
   },
   "id": "ce1260fea92943f"
  },
  {
   "cell_type": "code",
   "execution_count": 76,
   "outputs": [
    {
     "data": {
      "text/plain": "<Figure size 432x288 with 1 Axes>",
      "image/png": "[encoded data removed]"
     },
     "metadata": {
      "needs_background": "light"
     },
     "output_type": "display_data"
    }
   ],
   "source": [
    "def step_function(x):\n",
    "    return x > 0\n",
    "\n",
    "\n",
    "plot_function(step_function)"
   ],
   "metadata": {
    "collapsed": false,
    "ExecuteTime": {
     "end_time": "2023-11-19T10:27:37.689869019Z",
     "start_time": "2023-11-19T10:27:37.123456694Z"
    }
   },
   "id": "bdd2a12bcfa62cff"
  },
  {
   "cell_type": "code",
   "execution_count": 77,
   "outputs": [
    {
     "data": {
      "text/plain": "<Figure size 432x288 with 1 Axes>",
      "image/png": "[encoded data removed]"
     },
     "metadata": {
      "needs_background": "light"
     },
     "output_type": "display_data"
    }
   ],
   "source": [
    "r = 1\n",
    "phi = np.linspace(0, 2 * np.pi, 1000)\n",
    "x = r * np.cos(phi)\n",
    "y = r * np.sin(phi)\n",
    "\n",
    "\n",
    "def axis_plt(px, py):\n",
    "    plt.plot(px, py)\n",
    "    ax = plt.gca()\n",
    "\n",
    "    ax.spines[\"bottom\"].set_position(\"zero\")\n",
    "    ax.spines[\"left\"].set_position(\"zero\")\n",
    "    ax.spines[\"top\"].set_visible(False)\n",
    "    ax.spines[\"right\"].set_visible(False)\n",
    "    ax.set_aspect('equal')\n",
    "    plt.show()\n",
    "\n",
    "\n",
    "axis_plt(x, y)"
   ],
   "metadata": {
    "collapsed": false,
    "ExecuteTime": {
     "end_time": "2023-11-19T10:27:38.677305114Z",
     "start_time": "2023-11-19T10:27:37.490602200Z"
    }
   },
   "id": "f37bbfb21a5d987a"
  },
  {
   "cell_type": "code",
   "execution_count": 78,
   "outputs": [
    {
     "ename": "KeyError",
     "evalue": "'bottom'",
     "output_type": "error",
     "traceback": [
      "\u001B[0;31m---------------------------------------------------------------------------\u001B[0m",
      "\u001B[0;31mKeyError\u001B[0m                                  Traceback (most recent call last)",
      "\u001B[0;32m/tmp/ipykernel_853834/1107149608.py\u001B[0m in \u001B[0;36m<module>\u001B[0;34m\u001B[0m\n\u001B[1;32m     17\u001B[0m \u001B[0;34m\u001B[0m\u001B[0m\n\u001B[1;32m     18\u001B[0m \u001B[0;34m\u001B[0m\u001B[0m\n\u001B[0;32m---> 19\u001B[0;31m \u001B[0maxis_plt\u001B[0m\u001B[0;34m(\u001B[0m\u001B[0mphi\u001B[0m\u001B[0;34m,\u001B[0m \u001B[0mphi\u001B[0m\u001B[0;34m)\u001B[0m\u001B[0;34m\u001B[0m\u001B[0;34m\u001B[0m\u001B[0m\n\u001B[0m",
      "\u001B[0;32m/tmp/ipykernel_853834/1107149608.py\u001B[0m in \u001B[0;36maxis_plt\u001B[0;34m(px, py)\u001B[0m\n\u001B[1;32m      9\u001B[0m     \u001B[0max\u001B[0m \u001B[0;34m=\u001B[0m \u001B[0mplt\u001B[0m\u001B[0;34m.\u001B[0m\u001B[0mgca\u001B[0m\u001B[0;34m(\u001B[0m\u001B[0;34m)\u001B[0m\u001B[0;34m\u001B[0m\u001B[0;34m\u001B[0m\u001B[0m\n\u001B[1;32m     10\u001B[0m \u001B[0;34m\u001B[0m\u001B[0m\n\u001B[0;32m---> 11\u001B[0;31m     \u001B[0max\u001B[0m\u001B[0;34m.\u001B[0m\u001B[0mspines\u001B[0m\u001B[0;34m[\u001B[0m\u001B[0;34m\"bottom\"\u001B[0m\u001B[0;34m]\u001B[0m\u001B[0;34m.\u001B[0m\u001B[0mset_position\u001B[0m\u001B[0;34m(\u001B[0m\u001B[0;34m\"zero\"\u001B[0m\u001B[0;34m)\u001B[0m\u001B[0;34m\u001B[0m\u001B[0;34m\u001B[0m\u001B[0m\n\u001B[0m\u001B[1;32m     12\u001B[0m     \u001B[0max\u001B[0m\u001B[0;34m.\u001B[0m\u001B[0mspines\u001B[0m\u001B[0;34m[\u001B[0m\u001B[0;34m\"left\"\u001B[0m\u001B[0;34m]\u001B[0m\u001B[0;34m.\u001B[0m\u001B[0mset_position\u001B[0m\u001B[0;34m(\u001B[0m\u001B[0;34m\"zero\"\u001B[0m\u001B[0;34m)\u001B[0m\u001B[0;34m\u001B[0m\u001B[0;34m\u001B[0m\u001B[0m\n\u001B[1;32m     13\u001B[0m     \u001B[0max\u001B[0m\u001B[0;34m.\u001B[0m\u001B[0mspines\u001B[0m\u001B[0;34m[\u001B[0m\u001B[0;34m\"top\"\u001B[0m\u001B[0;34m]\u001B[0m\u001B[0;34m.\u001B[0m\u001B[0mset_visible\u001B[0m\u001B[0;34m(\u001B[0m\u001B[0;32mFalse\u001B[0m\u001B[0;34m)\u001B[0m\u001B[0;34m\u001B[0m\u001B[0;34m\u001B[0m\u001B[0m\n",
      "\u001B[0;32m/usr/local/lib/python3.10/dist-packages/matplotlib/spines.py\u001B[0m in \u001B[0;36m__getitem__\u001B[0;34m(self, key)\u001B[0m\n\u001B[1;32m    572\u001B[0m                     \u001B[0;34m'Spines does not support slicing except for the fully '\u001B[0m\u001B[0;34m\u001B[0m\u001B[0;34m\u001B[0m\u001B[0m\n\u001B[1;32m    573\u001B[0m                     'open slice [:] to access all spines.')\n\u001B[0;32m--> 574\u001B[0;31m         \u001B[0;32mreturn\u001B[0m \u001B[0mself\u001B[0m\u001B[0;34m.\u001B[0m\u001B[0m_dict\u001B[0m\u001B[0;34m[\u001B[0m\u001B[0mkey\u001B[0m\u001B[0;34m]\u001B[0m\u001B[0;34m\u001B[0m\u001B[0;34m\u001B[0m\u001B[0m\n\u001B[0m\u001B[1;32m    575\u001B[0m \u001B[0;34m\u001B[0m\u001B[0m\n\u001B[1;32m    576\u001B[0m     \u001B[0;32mdef\u001B[0m \u001B[0m__setitem__\u001B[0m\u001B[0;34m(\u001B[0m\u001B[0mself\u001B[0m\u001B[0;34m,\u001B[0m \u001B[0mkey\u001B[0m\u001B[0;34m,\u001B[0m \u001B[0mvalue\u001B[0m\u001B[0;34m)\u001B[0m\u001B[0;34m:\u001B[0m\u001B[0;34m\u001B[0m\u001B[0;34m\u001B[0m\u001B[0m\n",
      "\u001B[0;31mKeyError\u001B[0m: 'bottom'"
     ]
    },
    {
     "data": {
      "text/plain": "<Figure size 432x288 with 1 Axes>",
      "image/png": "[encoded data removed]"
     },
     "metadata": {
      "needs_background": "light"
     },
     "output_type": "display_data"
    }
   ],
   "source": [
    "r = 1\n",
    "phi = np.linspace(0, 2 * np.pi, 1000)\n",
    "x = r * np.cos(phi)\n",
    "y = r * np.sin(phi)\n",
    "\n",
    "\n",
    "def axis_plt(px, py):\n",
    "    plt.polar(px, py)\n",
    "    ax = plt.gca()\n",
    "\n",
    "    ax.spines[\"bottom\"].set_position(\"zero\")\n",
    "    ax.spines[\"left\"].set_position(\"zero\")\n",
    "    ax.spines[\"top\"].set_visible(False)\n",
    "    ax.spines[\"right\"].set_visible(False)\n",
    "    ax.set_aspect('equal')\n",
    "    plt.show()\n",
    "\n",
    "\n",
    "axis_plt(phi, phi)"
   ],
   "metadata": {
    "collapsed": false,
    "ExecuteTime": {
     "end_time": "2023-11-19T10:27:38.808931055Z",
     "start_time": "2023-11-19T10:27:37.708809223Z"
    }
   },
   "id": "5cd4fb1d830d6f45"
  },
  {
   "cell_type": "code",
   "execution_count": null,
   "outputs": [],
   "source": [
    "axis_plt(phi, [1] * len(phi))"
   ],
   "metadata": {
    "collapsed": false,
    "ExecuteTime": {
     "start_time": "2023-11-19T10:27:38.340264124Z"
    }
   },
   "id": "343034d6f1747467"
  },
  {
   "cell_type": "code",
   "execution_count": null,
   "outputs": [],
   "source": [
    "def solve_quadratic_eq(a_, b_, c_):\n",
    "    discr = cmath.sqrt(b_ * b_ - 4 * a_ * c_)\n",
    "    return [(-b_ + discr) / (2 * a_),\n",
    "            (-b_ - discr) / (2 * a_)]\n",
    "\n",
    "\n",
    "print(solve_quadratic_eq(1, -3, -4))\n",
    "print(solve_quadratic_eq(1, 0, -4))\n",
    "print(solve_quadratic_eq(1, 2, 1))\n",
    "print(solve_quadratic_eq(1, 4, 5))"
   ],
   "metadata": {
    "collapsed": false,
    "ExecuteTime": {
     "start_time": "2023-11-19T10:27:38.340698852Z"
    }
   },
   "id": "e48c14f346626d19"
  },
  {
   "cell_type": "code",
   "execution_count": null,
   "outputs": [],
   "source": [
    "points = np.array([(0, 0), (1, 0.8), (2, 0.9), (3, 0.1), (4, -0.8), (5, -1.0)])"
   ],
   "metadata": {
    "collapsed": false,
    "ExecuteTime": {
     "start_time": "2023-11-19T10:27:38.340989337Z"
    }
   },
   "id": "67612b5c60063823"
  },
  {
   "cell_type": "code",
   "execution_count": null,
   "outputs": [],
   "source": [
    "x__ = points[:, 0]\n",
    "y__ = points[:, 1]"
   ],
   "metadata": {
    "collapsed": false,
    "ExecuteTime": {
     "start_time": "2023-11-19T10:27:38.341207474Z"
    }
   },
   "id": "25594b67e7091954"
  },
  {
   "cell_type": "code",
   "execution_count": 84,
   "outputs": [
    {
     "data": {
      "text/plain": "poly1d([-8.33333333e-03,  1.25000000e-01, -5.75000000e-01,  6.25000000e-01,\n        6.33333333e-01,  4.35116786e-15])"
     },
     "execution_count": 84,
     "metadata": {},
     "output_type": "execute_result"
    }
   ],
   "source": [
    "coefficients = np.polyfit(x__, y__, len(points) - 1)\n",
    "poly = np.poly1d(coefficients)\n",
    "poly"
   ],
   "metadata": {
    "collapsed": false,
    "ExecuteTime": {
     "end_time": "2023-11-19T10:30:14.827762123Z",
     "start_time": "2023-11-19T10:30:14.755836261Z"
    }
   },
   "id": "8f5e0b4624e261f2"
  },
  {
   "cell_type": "code",
   "execution_count": 81,
   "outputs": [],
   "source": [
    "plot_x = np.linspace(np.min(x__), np.max(x__), 1000)\n",
    "plot_y = poly(plot_x)"
   ],
   "metadata": {
    "collapsed": false,
    "ExecuteTime": {
     "end_time": "2023-11-19T10:28:55.137448510Z",
     "start_time": "2023-11-19T10:28:55.090596146Z"
    }
   },
   "id": "45a32a7e4f79b4d9"
  },
  {
   "cell_type": "code",
   "execution_count": 82,
   "outputs": [
    {
     "data": {
      "text/plain": "<Figure size 432x288 with 1 Axes>",
      "image/png": "[encoded data removed]"
     },
     "metadata": {
      "needs_background": "light"
     },
     "output_type": "display_data"
    }
   ],
   "source": [
    "plt.plot(plot_x, plot_y, c=\"green\")\n",
    "plt.scatter(x__, y__)\n",
    "plt.xlabel(\"x\")\n",
    "plt.ylabel(\"y\")\n",
    "plt.show()"
   ],
   "metadata": {
    "collapsed": false,
    "ExecuteTime": {
     "end_time": "2023-11-19T10:28:58.122144147Z",
     "start_time": "2023-11-19T10:28:57.777188705Z"
    }
   },
   "id": "6d944cba73d0e3"
  },
  {
   "cell_type": "code",
   "execution_count": 94,
   "outputs": [
    {
     "data": {
      "text/plain": "<Figure size 432x288 with 1 Axes>",
      "image/png": "[encoded data removed]"
     },
     "metadata": {
      "needs_background": "light"
     },
     "output_type": "display_data"
    }
   ],
   "source": [
    "z = 5 + 4j\n",
    "def draw_vector_from_complex_num(z):\n",
    "    plt.quiver(0, 0, z.real, z.imag, angles=\"xy\", scale_units=\"xy\", scale=1)\n",
    "    ax = plt.gca()\n",
    "    ax.spines[\"bottom\"].set_position(\"zero\")\n",
    "    ax.spines[\"left\"].set_position(\"zero\")\n",
    "    ax.spines[\"top\"].set_visible(False)\n",
    "    ax.spines[\"right\"].set_visible(False)\n",
    "    plt.xticks(range(0, 10))\n",
    "    plt.yticks(range(0, 10))\n",
    "    plt.xlabel('Real Axis')\n",
    "    plt.ylabel('Imaginery Axis')\n",
    "\n",
    "draw_vector_from_complex_num(z)"
   ],
   "metadata": {
    "collapsed": false,
    "ExecuteTime": {
     "end_time": "2023-11-19T10:59:03.992780761Z",
     "start_time": "2023-11-19T10:59:03.710349535Z"
    }
   },
   "id": "caeed6999cd90f1e"
  }
 ],
 "metadata": {
  "kernelspec": {
   "display_name": "Python 3",
   "language": "python",
   "name": "python3"
  },
  "language_info": {
   "codemirror_mode": {
    "name": "ipython",
    "version": 2
   },
   "file_extension": ".py",
   "mimetype": "text/x-python",
   "name": "python",
   "nbconvert_exporter": "python",
   "pygments_lexer": "ipython2",
   "version": "2.7.6"
  }
 },
 "nbformat": 4,
 "nbformat_minor": 5
}
