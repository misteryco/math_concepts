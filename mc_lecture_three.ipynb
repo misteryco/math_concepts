{
 "cells": [
  {
   "cell_type": "code",
   "execution_count": 1,
   "outputs": [],
   "source": [
    "%matplotlib inline"
   ],
   "metadata": {
    "collapsed": false,
    "ExecuteTime": {
     "end_time": "2023-11-17T09:15:07.920179529Z",
     "start_time": "2023-11-17T09:15:07.105422387Z"
    }
   },
   "id": "e021a8f409a1b311"
  },
  {
   "cell_type": "code",
   "execution_count": 14,
   "outputs": [],
   "source": [
    "import numpy as np\n",
    "import numpy.polynomial.polynomial as p\n",
    "import matplotlib as plt\n",
    "import sympy\n"
   ],
   "metadata": {
    "collapsed": false,
    "ExecuteTime": {
     "end_time": "2023-11-17T09:36:22.492909903Z",
     "start_time": "2023-11-17T09:36:21.325461337Z"
    }
   },
   "id": "e83e874398f858eb"
  },
  {
   "cell_type": "markdown",
   "source": [
    "# Basic algebra"
   ],
   "metadata": {
    "collapsed": false
   },
   "id": "8abbb6435dae3483"
  },
  {
   "cell_type": "code",
   "execution_count": 7,
   "outputs": [
    {
     "data": {
      "text/plain": "2"
     },
     "execution_count": 7,
     "metadata": {},
     "output_type": "execute_result"
    }
   ],
   "source": [
    "my_list = [2, 8, -18, 0, 3, 5]\n",
    "my_list[0], []"
   ],
   "metadata": {
    "collapsed": false,
    "ExecuteTime": {
     "end_time": "2023-11-17T09:18:16.899635098Z",
     "start_time": "2023-11-17T09:18:16.890159759Z"
    }
   },
   "id": "5150c4fa36855bb1"
  },
  {
   "cell_type": "markdown",
   "source": [
    "![alternative text]('/data/mc_l3/Screenshot from 2023-11-17 11-25-21.png')"
   ],
   "metadata": {
    "collapsed": false
   },
   "id": "a730309e7abbb41a"
  },
  {
   "cell_type": "markdown",
   "source": [],
   "metadata": {
    "collapsed": false
   },
   "id": "c406eaa73b767243"
  },
  {
   "cell_type": "code",
   "execution_count": 13,
   "outputs": [
    {
     "data": {
      "text/plain": "(array([  3.,   0.,   2.,   5., -10.]), array([  3.,   0.,   2.,   5., -10.]))"
     },
     "execution_count": 13,
     "metadata": {},
     "output_type": "execute_result"
    }
   ],
   "source": [
    "a = p.polyadd([-8, 5, 2], [-2, 0, 0, 0, 3])\n",
    "b = p.polyadd([-8, 5, 2], [-2, 0, 0, 0, 3])\n",
    "a[::-1], b[::-1]  # Exact form of indexes"
   ],
   "metadata": {
    "collapsed": false,
    "ExecuteTime": {
     "end_time": "2023-11-17T09:33:42.706773669Z",
     "start_time": "2023-11-17T09:33:42.656506013Z"
    }
   },
   "id": "3e0a79d1c6efefec"
  },
  {
   "cell_type": "markdown",
   "source": [],
   "metadata": {
    "collapsed": false
   },
   "id": "8d6dd0eadb9702a1"
  },
  {
   "cell_type": "code",
   "execution_count": 16,
   "outputs": [
    {
     "data": {
      "text/plain": "x",
      "text/latex": "$\\displaystyle x$"
     },
     "execution_count": 16,
     "metadata": {},
     "output_type": "execute_result"
    }
   ],
   "source": [
    "x = sympy.symbols('x')\n",
    "x"
   ],
   "metadata": {
    "collapsed": false,
    "ExecuteTime": {
     "end_time": "2023-11-17T09:37:58.878957039Z",
     "start_time": "2023-11-17T09:37:58.768902026Z"
    }
   },
   "id": "854622588e1dc559"
  },
  {
   "cell_type": "code",
   "execution_count": 20,
   "outputs": [
    {
     "data": {
      "text/plain": "3.0*x**4 + 2.0*x**2 + 5.0*x - 10.0",
      "text/latex": "$\\displaystyle 3.0 x^{4} + 2.0 x^{2} + 5.0 x - 10.0$"
     },
     "execution_count": 20,
     "metadata": {},
     "output_type": "execute_result"
    }
   ],
   "source": [
    "sympy.Poly(a[::-1], x).as_expr()"
   ],
   "metadata": {
    "collapsed": false,
    "ExecuteTime": {
     "end_time": "2023-11-17T09:41:35.984704082Z",
     "start_time": "2023-11-17T09:41:35.567935329Z"
    }
   },
   "id": "7817ec5e6fbb8ecb"
  },
  {
   "cell_type": "code",
   "execution_count": 22,
   "outputs": [
    {
     "data": {
      "text/plain": "3.0*x**4 + 2.0*x**2 + 5.0*x - 10.0",
      "text/latex": "$\\displaystyle 3.0 x^{4} + 2.0 x^{2} + 5.0 x - 10.0$"
     },
     "execution_count": 22,
     "metadata": {},
     "output_type": "execute_result"
    }
   ],
   "source": [
    "sympy.Poly(b[::-1], x).as_expr()"
   ],
   "metadata": {
    "collapsed": false,
    "ExecuteTime": {
     "end_time": "2023-11-17T09:41:50.607734655Z",
     "start_time": "2023-11-17T09:41:50.584902946Z"
    }
   },
   "id": "e225a8a2e9e9f6dd"
  },
  {
   "cell_type": "code",
   "execution_count": null,
   "outputs": [],
   "source": [],
   "metadata": {
    "collapsed": false
   },
   "id": "c77200952eb246f8"
  }
 ],
 "metadata": {
  "kernelspec": {
   "display_name": "Python 3",
   "language": "python",
   "name": "python3"
  },
  "language_info": {
   "codemirror_mode": {
    "name": "ipython",
    "version": 2
   },
   "file_extension": ".py",
   "mimetype": "text/x-python",
   "name": "python",
   "nbconvert_exporter": "python",
   "pygments_lexer": "ipython2",
   "version": "2.7.6"
  }
 },
 "nbformat": 4,
 "nbformat_minor": 5
}
