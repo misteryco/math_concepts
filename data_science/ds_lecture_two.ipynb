{
 "cells": [
  {
   "cell_type": "code",
   "execution_count": 2,
   "outputs": [],
   "source": [
    "%matplotlib inline"
   ],
   "metadata": {
    "collapsed": false,
    "ExecuteTime": {
     "end_time": "2023-11-08T11:13:14.615629321Z",
     "start_time": "2023-11-08T11:13:14.074671821Z"
    }
   },
   "id": "a7e753ba5378ec7c"
  },
  {
   "cell_type": "code",
   "execution_count": 65,
   "outputs": [],
   "source": [
    "import numpy as np\n",
    "import pandas as pd\n",
    "import matplotlib.pyplot as plt"
   ],
   "metadata": {
    "collapsed": false,
    "ExecuteTime": {
     "end_time": "2023-11-08T12:06:26.119605521Z",
     "start_time": "2023-11-08T12:06:26.113796654Z"
    }
   },
   "id": "a97543ac5e035899"
  },
  {
   "cell_type": "markdown",
   "source": [
    "==========================\n",
    "Data Tidying and Cleaning\n",
    "=========================="
   ],
   "metadata": {
    "collapsed": false
   },
   "id": "1e4c4e71220584fd"
  },
  {
   "cell_type": "code",
   "execution_count": 4,
   "outputs": [
    {
     "data": {
      "text/plain": "                   religion  <$10k  $10-20k  $20-30k  $30-40k  $40-50k  \\\n0                  Agnostic     27       34       60       81       76   \n1                   Atheist     12       27       37       52       35   \n2                  Buddhist     27       21       30       34       33   \n3                  Catholic    418      617      732      670      638   \n4        Don’t know/refused     15       14       15       11       10   \n5          Evangelical Prot    575      869     1064      982      881   \n6                     Hindu      1        9        7        9       11   \n7   Historically Black Prot    228      244      236      238      197   \n8         Jehovah's Witness     20       27       24       24       21   \n9                    Jewish     19       19       25       25       30   \n10            Mainline Prot    289      495      619      655      651   \n11                   Mormon     29       40       48       51       56   \n12                   Muslim      6        7        9       10        9   \n13                 Orthodox     13       17       23       32       32   \n14          Other Christian      9        7       11       13       13   \n15             Other Faiths     20       33       40       46       49   \n16    Other World Religions      5        2        3        4        2   \n17             Unaffiliated    217      299      374      365      341   \n\n    $50-75k  $75-100k  $100-150k  >150k  Don't know/refused  \n0       137       122        109     84                  96  \n1        70        73         59     74                  76  \n2        58        62         39     53                  54  \n3      1116       949        792    633                1489  \n4        35        21         17     18                 116  \n5      1486       949        723    414                1529  \n6        34        47         48     54                  37  \n7       223       131         81     78                 339  \n8        30        15         11      6                  37  \n9        95        69         87    151                 162  \n10     1107       939        753    634                1328  \n11      112        85         49     42                  69  \n12       23        16          8      6                  22  \n13       47        38         42     46                  73  \n14       14        18         14     12                  18  \n15       63        46         40     41                  71  \n16        7         3          4      4                   8  \n17      528       407        321    258                 597  ",
      "text/html": "<div>\n<style scoped>\n    .dataframe tbody tr th:only-of-type {\n        vertical-align: middle;\n    }\n\n    .dataframe tbody tr th {\n        vertical-align: top;\n    }\n\n    .dataframe thead th {\n        text-align: right;\n    }\n</style>\n<table border=\"1\" class=\"dataframe\">\n  <thead>\n    <tr style=\"text-align: right;\">\n      <th></th>\n      <th>religion</th>\n      <th>&lt;$10k</th>\n      <th>$10-20k</th>\n      <th>$20-30k</th>\n      <th>$30-40k</th>\n      <th>$40-50k</th>\n      <th>$50-75k</th>\n      <th>$75-100k</th>\n      <th>$100-150k</th>\n      <th>&gt;150k</th>\n      <th>Don't know/refused</th>\n    </tr>\n  </thead>\n  <tbody>\n    <tr>\n      <th>0</th>\n      <td>Agnostic</td>\n      <td>27</td>\n      <td>34</td>\n      <td>60</td>\n      <td>81</td>\n      <td>76</td>\n      <td>137</td>\n      <td>122</td>\n      <td>109</td>\n      <td>84</td>\n      <td>96</td>\n    </tr>\n    <tr>\n      <th>1</th>\n      <td>Atheist</td>\n      <td>12</td>\n      <td>27</td>\n      <td>37</td>\n      <td>52</td>\n      <td>35</td>\n      <td>70</td>\n      <td>73</td>\n      <td>59</td>\n      <td>74</td>\n      <td>76</td>\n    </tr>\n    <tr>\n      <th>2</th>\n      <td>Buddhist</td>\n      <td>27</td>\n      <td>21</td>\n      <td>30</td>\n      <td>34</td>\n      <td>33</td>\n      <td>58</td>\n      <td>62</td>\n      <td>39</td>\n      <td>53</td>\n      <td>54</td>\n    </tr>\n    <tr>\n      <th>3</th>\n      <td>Catholic</td>\n      <td>418</td>\n      <td>617</td>\n      <td>732</td>\n      <td>670</td>\n      <td>638</td>\n      <td>1116</td>\n      <td>949</td>\n      <td>792</td>\n      <td>633</td>\n      <td>1489</td>\n    </tr>\n    <tr>\n      <th>4</th>\n      <td>Don’t know/refused</td>\n      <td>15</td>\n      <td>14</td>\n      <td>15</td>\n      <td>11</td>\n      <td>10</td>\n      <td>35</td>\n      <td>21</td>\n      <td>17</td>\n      <td>18</td>\n      <td>116</td>\n    </tr>\n    <tr>\n      <th>5</th>\n      <td>Evangelical Prot</td>\n      <td>575</td>\n      <td>869</td>\n      <td>1064</td>\n      <td>982</td>\n      <td>881</td>\n      <td>1486</td>\n      <td>949</td>\n      <td>723</td>\n      <td>414</td>\n      <td>1529</td>\n    </tr>\n    <tr>\n      <th>6</th>\n      <td>Hindu</td>\n      <td>1</td>\n      <td>9</td>\n      <td>7</td>\n      <td>9</td>\n      <td>11</td>\n      <td>34</td>\n      <td>47</td>\n      <td>48</td>\n      <td>54</td>\n      <td>37</td>\n    </tr>\n    <tr>\n      <th>7</th>\n      <td>Historically Black Prot</td>\n      <td>228</td>\n      <td>244</td>\n      <td>236</td>\n      <td>238</td>\n      <td>197</td>\n      <td>223</td>\n      <td>131</td>\n      <td>81</td>\n      <td>78</td>\n      <td>339</td>\n    </tr>\n    <tr>\n      <th>8</th>\n      <td>Jehovah's Witness</td>\n      <td>20</td>\n      <td>27</td>\n      <td>24</td>\n      <td>24</td>\n      <td>21</td>\n      <td>30</td>\n      <td>15</td>\n      <td>11</td>\n      <td>6</td>\n      <td>37</td>\n    </tr>\n    <tr>\n      <th>9</th>\n      <td>Jewish</td>\n      <td>19</td>\n      <td>19</td>\n      <td>25</td>\n      <td>25</td>\n      <td>30</td>\n      <td>95</td>\n      <td>69</td>\n      <td>87</td>\n      <td>151</td>\n      <td>162</td>\n    </tr>\n    <tr>\n      <th>10</th>\n      <td>Mainline Prot</td>\n      <td>289</td>\n      <td>495</td>\n      <td>619</td>\n      <td>655</td>\n      <td>651</td>\n      <td>1107</td>\n      <td>939</td>\n      <td>753</td>\n      <td>634</td>\n      <td>1328</td>\n    </tr>\n    <tr>\n      <th>11</th>\n      <td>Mormon</td>\n      <td>29</td>\n      <td>40</td>\n      <td>48</td>\n      <td>51</td>\n      <td>56</td>\n      <td>112</td>\n      <td>85</td>\n      <td>49</td>\n      <td>42</td>\n      <td>69</td>\n    </tr>\n    <tr>\n      <th>12</th>\n      <td>Muslim</td>\n      <td>6</td>\n      <td>7</td>\n      <td>9</td>\n      <td>10</td>\n      <td>9</td>\n      <td>23</td>\n      <td>16</td>\n      <td>8</td>\n      <td>6</td>\n      <td>22</td>\n    </tr>\n    <tr>\n      <th>13</th>\n      <td>Orthodox</td>\n      <td>13</td>\n      <td>17</td>\n      <td>23</td>\n      <td>32</td>\n      <td>32</td>\n      <td>47</td>\n      <td>38</td>\n      <td>42</td>\n      <td>46</td>\n      <td>73</td>\n    </tr>\n    <tr>\n      <th>14</th>\n      <td>Other Christian</td>\n      <td>9</td>\n      <td>7</td>\n      <td>11</td>\n      <td>13</td>\n      <td>13</td>\n      <td>14</td>\n      <td>18</td>\n      <td>14</td>\n      <td>12</td>\n      <td>18</td>\n    </tr>\n    <tr>\n      <th>15</th>\n      <td>Other Faiths</td>\n      <td>20</td>\n      <td>33</td>\n      <td>40</td>\n      <td>46</td>\n      <td>49</td>\n      <td>63</td>\n      <td>46</td>\n      <td>40</td>\n      <td>41</td>\n      <td>71</td>\n    </tr>\n    <tr>\n      <th>16</th>\n      <td>Other World Religions</td>\n      <td>5</td>\n      <td>2</td>\n      <td>3</td>\n      <td>4</td>\n      <td>2</td>\n      <td>7</td>\n      <td>3</td>\n      <td>4</td>\n      <td>4</td>\n      <td>8</td>\n    </tr>\n    <tr>\n      <th>17</th>\n      <td>Unaffiliated</td>\n      <td>217</td>\n      <td>299</td>\n      <td>374</td>\n      <td>365</td>\n      <td>341</td>\n      <td>528</td>\n      <td>407</td>\n      <td>321</td>\n      <td>258</td>\n      <td>597</td>\n    </tr>\n  </tbody>\n</table>\n</div>"
     },
     "execution_count": 4,
     "metadata": {},
     "output_type": "execute_result"
    }
   ],
   "source": [
    "pew = pd.read_csv('data/ds_l2/pew.csv')\n",
    "pew"
   ],
   "metadata": {
    "collapsed": false,
    "ExecuteTime": {
     "end_time": "2023-11-08T11:13:14.865306100Z",
     "start_time": "2023-11-08T11:13:14.841669901Z"
    }
   },
   "id": "4e92d3148d0f5f01"
  },
  {
   "cell_type": "code",
   "execution_count": 5,
   "outputs": [
    {
     "data": {
      "text/plain": "                  religion              income  frequency\n0                 Agnostic               <$10k         27\n1                  Atheist               <$10k         12\n2                 Buddhist               <$10k         27\n3                 Catholic               <$10k        418\n4       Don’t know/refused               <$10k         15\n..                     ...                 ...        ...\n175               Orthodox  Don't know/refused         73\n176        Other Christian  Don't know/refused         18\n177           Other Faiths  Don't know/refused         71\n178  Other World Religions  Don't know/refused          8\n179           Unaffiliated  Don't know/refused        597\n\n[180 rows x 3 columns]",
      "text/html": "<div>\n<style scoped>\n    .dataframe tbody tr th:only-of-type {\n        vertical-align: middle;\n    }\n\n    .dataframe tbody tr th {\n        vertical-align: top;\n    }\n\n    .dataframe thead th {\n        text-align: right;\n    }\n</style>\n<table border=\"1\" class=\"dataframe\">\n  <thead>\n    <tr style=\"text-align: right;\">\n      <th></th>\n      <th>religion</th>\n      <th>income</th>\n      <th>frequency</th>\n    </tr>\n  </thead>\n  <tbody>\n    <tr>\n      <th>0</th>\n      <td>Agnostic</td>\n      <td>&lt;$10k</td>\n      <td>27</td>\n    </tr>\n    <tr>\n      <th>1</th>\n      <td>Atheist</td>\n      <td>&lt;$10k</td>\n      <td>12</td>\n    </tr>\n    <tr>\n      <th>2</th>\n      <td>Buddhist</td>\n      <td>&lt;$10k</td>\n      <td>27</td>\n    </tr>\n    <tr>\n      <th>3</th>\n      <td>Catholic</td>\n      <td>&lt;$10k</td>\n      <td>418</td>\n    </tr>\n    <tr>\n      <th>4</th>\n      <td>Don’t know/refused</td>\n      <td>&lt;$10k</td>\n      <td>15</td>\n    </tr>\n    <tr>\n      <th>...</th>\n      <td>...</td>\n      <td>...</td>\n      <td>...</td>\n    </tr>\n    <tr>\n      <th>175</th>\n      <td>Orthodox</td>\n      <td>Don't know/refused</td>\n      <td>73</td>\n    </tr>\n    <tr>\n      <th>176</th>\n      <td>Other Christian</td>\n      <td>Don't know/refused</td>\n      <td>18</td>\n    </tr>\n    <tr>\n      <th>177</th>\n      <td>Other Faiths</td>\n      <td>Don't know/refused</td>\n      <td>71</td>\n    </tr>\n    <tr>\n      <th>178</th>\n      <td>Other World Religions</td>\n      <td>Don't know/refused</td>\n      <td>8</td>\n    </tr>\n    <tr>\n      <th>179</th>\n      <td>Unaffiliated</td>\n      <td>Don't know/refused</td>\n      <td>597</td>\n    </tr>\n  </tbody>\n</table>\n<p>180 rows × 3 columns</p>\n</div>"
     },
     "execution_count": 5,
     "metadata": {},
     "output_type": "execute_result"
    }
   ],
   "source": [
    "pew_tidy = pew.melt(id_vars='religion', var_name='income', value_name='frequency')\n",
    "pew_tidy"
   ],
   "metadata": {
    "collapsed": false,
    "ExecuteTime": {
     "end_time": "2023-11-08T11:13:14.893442650Z",
     "start_time": "2023-11-08T11:13:14.863260223Z"
    }
   },
   "id": "d1365a274257ea2d"
  },
  {
   "cell_type": "code",
   "execution_count": 6,
   "outputs": [
    {
     "data": {
      "text/plain": "     iso2  year  m04   m514   m014  m1524   m2534   m3544   m4554  m5564  ...  \\\n0      AD  1989  NaN    NaN    NaN    NaN     NaN     NaN     NaN    NaN  ...   \n1      AD  1990  NaN    NaN    NaN    NaN     NaN     NaN     NaN    NaN  ...   \n2      AD  1991  NaN    NaN    NaN    NaN     NaN     NaN     NaN    NaN  ...   \n3      AD  1992  NaN    NaN    NaN    NaN     NaN     NaN     NaN    NaN  ...   \n4      AD  1993  NaN    NaN    NaN    NaN     NaN     NaN     NaN    NaN  ...   \n...   ...   ...  ...    ...    ...    ...     ...     ...     ...    ...  ...   \n5764   ZW  2004  NaN    NaN  187.0  833.0  2908.0  2298.0  1056.0  366.0  ...   \n5765   ZW  2005  NaN    NaN  210.0  837.0  2264.0  1855.0   762.0  295.0  ...   \n5766   ZW  2006  NaN    NaN  215.0  736.0  2391.0  1939.0   896.0  348.0  ...   \n5767   ZW  2007  6.0  132.0  138.0  500.0  3693.0     0.0   716.0  292.0  ...   \n5768   ZW  2008  NaN    NaN  127.0  614.0     0.0  3316.0   704.0  263.0  ...   \n\n      f04   f514   f014   f1524   f2534   f3544  f4554  f5564    f65   fu  \n0     NaN    NaN    NaN     NaN     NaN     NaN    NaN    NaN    NaN  NaN  \n1     NaN    NaN    NaN     NaN     NaN     NaN    NaN    NaN    NaN  NaN  \n2     NaN    NaN    NaN     NaN     NaN     NaN    NaN    NaN    NaN  NaN  \n3     NaN    NaN    NaN     NaN     NaN     NaN    NaN    NaN    NaN  NaN  \n4     NaN    NaN    NaN     NaN     NaN     NaN    NaN    NaN    NaN  NaN  \n...   ...    ...    ...     ...     ...     ...    ...    ...    ...  ...  \n5764  NaN    NaN  225.0  1140.0  2858.0  1565.0  622.0  214.0  111.0  NaN  \n5765  NaN    NaN  269.0  1136.0  2242.0  1255.0  578.0  193.0  603.0  NaN  \n5766  NaN    NaN  237.0  1020.0  2424.0  1355.0  632.0  230.0   96.0  NaN  \n5767  7.0  178.0  185.0   739.0  3311.0     0.0  553.0  213.0   90.0  NaN  \n5768  NaN    NaN  145.0   840.0     0.0  2890.0  467.0  174.0  105.0  0.0  \n\n[5769 rows x 22 columns]",
      "text/html": "<div>\n<style scoped>\n    .dataframe tbody tr th:only-of-type {\n        vertical-align: middle;\n    }\n\n    .dataframe tbody tr th {\n        vertical-align: top;\n    }\n\n    .dataframe thead th {\n        text-align: right;\n    }\n</style>\n<table border=\"1\" class=\"dataframe\">\n  <thead>\n    <tr style=\"text-align: right;\">\n      <th></th>\n      <th>iso2</th>\n      <th>year</th>\n      <th>m04</th>\n      <th>m514</th>\n      <th>m014</th>\n      <th>m1524</th>\n      <th>m2534</th>\n      <th>m3544</th>\n      <th>m4554</th>\n      <th>m5564</th>\n      <th>...</th>\n      <th>f04</th>\n      <th>f514</th>\n      <th>f014</th>\n      <th>f1524</th>\n      <th>f2534</th>\n      <th>f3544</th>\n      <th>f4554</th>\n      <th>f5564</th>\n      <th>f65</th>\n      <th>fu</th>\n    </tr>\n  </thead>\n  <tbody>\n    <tr>\n      <th>0</th>\n      <td>AD</td>\n      <td>1989</td>\n      <td>NaN</td>\n      <td>NaN</td>\n      <td>NaN</td>\n      <td>NaN</td>\n      <td>NaN</td>\n      <td>NaN</td>\n      <td>NaN</td>\n      <td>NaN</td>\n      <td>...</td>\n      <td>NaN</td>\n      <td>NaN</td>\n      <td>NaN</td>\n      <td>NaN</td>\n      <td>NaN</td>\n      <td>NaN</td>\n      <td>NaN</td>\n      <td>NaN</td>\n      <td>NaN</td>\n      <td>NaN</td>\n    </tr>\n    <tr>\n      <th>1</th>\n      <td>AD</td>\n      <td>1990</td>\n      <td>NaN</td>\n      <td>NaN</td>\n      <td>NaN</td>\n      <td>NaN</td>\n      <td>NaN</td>\n      <td>NaN</td>\n      <td>NaN</td>\n      <td>NaN</td>\n      <td>...</td>\n      <td>NaN</td>\n      <td>NaN</td>\n      <td>NaN</td>\n      <td>NaN</td>\n      <td>NaN</td>\n      <td>NaN</td>\n      <td>NaN</td>\n      <td>NaN</td>\n      <td>NaN</td>\n      <td>NaN</td>\n    </tr>\n    <tr>\n      <th>2</th>\n      <td>AD</td>\n      <td>1991</td>\n      <td>NaN</td>\n      <td>NaN</td>\n      <td>NaN</td>\n      <td>NaN</td>\n      <td>NaN</td>\n      <td>NaN</td>\n      <td>NaN</td>\n      <td>NaN</td>\n      <td>...</td>\n      <td>NaN</td>\n      <td>NaN</td>\n      <td>NaN</td>\n      <td>NaN</td>\n      <td>NaN</td>\n      <td>NaN</td>\n      <td>NaN</td>\n      <td>NaN</td>\n      <td>NaN</td>\n      <td>NaN</td>\n    </tr>\n    <tr>\n      <th>3</th>\n      <td>AD</td>\n      <td>1992</td>\n      <td>NaN</td>\n      <td>NaN</td>\n      <td>NaN</td>\n      <td>NaN</td>\n      <td>NaN</td>\n      <td>NaN</td>\n      <td>NaN</td>\n      <td>NaN</td>\n      <td>...</td>\n      <td>NaN</td>\n      <td>NaN</td>\n      <td>NaN</td>\n      <td>NaN</td>\n      <td>NaN</td>\n      <td>NaN</td>\n      <td>NaN</td>\n      <td>NaN</td>\n      <td>NaN</td>\n      <td>NaN</td>\n    </tr>\n    <tr>\n      <th>4</th>\n      <td>AD</td>\n      <td>1993</td>\n      <td>NaN</td>\n      <td>NaN</td>\n      <td>NaN</td>\n      <td>NaN</td>\n      <td>NaN</td>\n      <td>NaN</td>\n      <td>NaN</td>\n      <td>NaN</td>\n      <td>...</td>\n      <td>NaN</td>\n      <td>NaN</td>\n      <td>NaN</td>\n      <td>NaN</td>\n      <td>NaN</td>\n      <td>NaN</td>\n      <td>NaN</td>\n      <td>NaN</td>\n      <td>NaN</td>\n      <td>NaN</td>\n    </tr>\n    <tr>\n      <th>...</th>\n      <td>...</td>\n      <td>...</td>\n      <td>...</td>\n      <td>...</td>\n      <td>...</td>\n      <td>...</td>\n      <td>...</td>\n      <td>...</td>\n      <td>...</td>\n      <td>...</td>\n      <td>...</td>\n      <td>...</td>\n      <td>...</td>\n      <td>...</td>\n      <td>...</td>\n      <td>...</td>\n      <td>...</td>\n      <td>...</td>\n      <td>...</td>\n      <td>...</td>\n      <td>...</td>\n    </tr>\n    <tr>\n      <th>5764</th>\n      <td>ZW</td>\n      <td>2004</td>\n      <td>NaN</td>\n      <td>NaN</td>\n      <td>187.0</td>\n      <td>833.0</td>\n      <td>2908.0</td>\n      <td>2298.0</td>\n      <td>1056.0</td>\n      <td>366.0</td>\n      <td>...</td>\n      <td>NaN</td>\n      <td>NaN</td>\n      <td>225.0</td>\n      <td>1140.0</td>\n      <td>2858.0</td>\n      <td>1565.0</td>\n      <td>622.0</td>\n      <td>214.0</td>\n      <td>111.0</td>\n      <td>NaN</td>\n    </tr>\n    <tr>\n      <th>5765</th>\n      <td>ZW</td>\n      <td>2005</td>\n      <td>NaN</td>\n      <td>NaN</td>\n      <td>210.0</td>\n      <td>837.0</td>\n      <td>2264.0</td>\n      <td>1855.0</td>\n      <td>762.0</td>\n      <td>295.0</td>\n      <td>...</td>\n      <td>NaN</td>\n      <td>NaN</td>\n      <td>269.0</td>\n      <td>1136.0</td>\n      <td>2242.0</td>\n      <td>1255.0</td>\n      <td>578.0</td>\n      <td>193.0</td>\n      <td>603.0</td>\n      <td>NaN</td>\n    </tr>\n    <tr>\n      <th>5766</th>\n      <td>ZW</td>\n      <td>2006</td>\n      <td>NaN</td>\n      <td>NaN</td>\n      <td>215.0</td>\n      <td>736.0</td>\n      <td>2391.0</td>\n      <td>1939.0</td>\n      <td>896.0</td>\n      <td>348.0</td>\n      <td>...</td>\n      <td>NaN</td>\n      <td>NaN</td>\n      <td>237.0</td>\n      <td>1020.0</td>\n      <td>2424.0</td>\n      <td>1355.0</td>\n      <td>632.0</td>\n      <td>230.0</td>\n      <td>96.0</td>\n      <td>NaN</td>\n    </tr>\n    <tr>\n      <th>5767</th>\n      <td>ZW</td>\n      <td>2007</td>\n      <td>6.0</td>\n      <td>132.0</td>\n      <td>138.0</td>\n      <td>500.0</td>\n      <td>3693.0</td>\n      <td>0.0</td>\n      <td>716.0</td>\n      <td>292.0</td>\n      <td>...</td>\n      <td>7.0</td>\n      <td>178.0</td>\n      <td>185.0</td>\n      <td>739.0</td>\n      <td>3311.0</td>\n      <td>0.0</td>\n      <td>553.0</td>\n      <td>213.0</td>\n      <td>90.0</td>\n      <td>NaN</td>\n    </tr>\n    <tr>\n      <th>5768</th>\n      <td>ZW</td>\n      <td>2008</td>\n      <td>NaN</td>\n      <td>NaN</td>\n      <td>127.0</td>\n      <td>614.0</td>\n      <td>0.0</td>\n      <td>3316.0</td>\n      <td>704.0</td>\n      <td>263.0</td>\n      <td>...</td>\n      <td>NaN</td>\n      <td>NaN</td>\n      <td>145.0</td>\n      <td>840.0</td>\n      <td>0.0</td>\n      <td>2890.0</td>\n      <td>467.0</td>\n      <td>174.0</td>\n      <td>105.0</td>\n      <td>0.0</td>\n    </tr>\n  </tbody>\n</table>\n<p>5769 rows × 22 columns</p>\n</div>"
     },
     "execution_count": 6,
     "metadata": {},
     "output_type": "execute_result"
    }
   ],
   "source": [
    "tb = pd.read_csv('data/ds_l2/tb.csv')\n",
    "tb.loc[tb.iso2.isna(), 'iso2'] = 'NA'\n",
    "tb"
   ],
   "metadata": {
    "collapsed": false,
    "ExecuteTime": {
     "end_time": "2023-11-08T11:13:14.961253678Z",
     "start_time": "2023-11-08T11:13:14.875858666Z"
    }
   },
   "id": "7fd8f4122651fa8a"
  },
  {
   "cell_type": "code",
   "execution_count": 7,
   "outputs": [
    {
     "data": {
      "text/plain": "       iso2  year sex_and_age  cases\n15       AD  2005         m04    0.0\n16       AD  2006         m04    0.0\n18       AD  2008         m04    0.0\n42       AE  2006         m04    0.0\n43       AE  2007         m04    0.0\n...     ...   ...         ...    ...\n115195   VU  2008          fu    0.0\n115269   YE  2008          fu    0.0\n115323   ZA  2008          fu    0.0\n115350   ZM  2008          fu    0.0\n115379   ZW  2008          fu    0.0\n\n[35750 rows x 4 columns]",
      "text/html": "<div>\n<style scoped>\n    .dataframe tbody tr th:only-of-type {\n        vertical-align: middle;\n    }\n\n    .dataframe tbody tr th {\n        vertical-align: top;\n    }\n\n    .dataframe thead th {\n        text-align: right;\n    }\n</style>\n<table border=\"1\" class=\"dataframe\">\n  <thead>\n    <tr style=\"text-align: right;\">\n      <th></th>\n      <th>iso2</th>\n      <th>year</th>\n      <th>sex_and_age</th>\n      <th>cases</th>\n    </tr>\n  </thead>\n  <tbody>\n    <tr>\n      <th>15</th>\n      <td>AD</td>\n      <td>2005</td>\n      <td>m04</td>\n      <td>0.0</td>\n    </tr>\n    <tr>\n      <th>16</th>\n      <td>AD</td>\n      <td>2006</td>\n      <td>m04</td>\n      <td>0.0</td>\n    </tr>\n    <tr>\n      <th>18</th>\n      <td>AD</td>\n      <td>2008</td>\n      <td>m04</td>\n      <td>0.0</td>\n    </tr>\n    <tr>\n      <th>42</th>\n      <td>AE</td>\n      <td>2006</td>\n      <td>m04</td>\n      <td>0.0</td>\n    </tr>\n    <tr>\n      <th>43</th>\n      <td>AE</td>\n      <td>2007</td>\n      <td>m04</td>\n      <td>0.0</td>\n    </tr>\n    <tr>\n      <th>...</th>\n      <td>...</td>\n      <td>...</td>\n      <td>...</td>\n      <td>...</td>\n    </tr>\n    <tr>\n      <th>115195</th>\n      <td>VU</td>\n      <td>2008</td>\n      <td>fu</td>\n      <td>0.0</td>\n    </tr>\n    <tr>\n      <th>115269</th>\n      <td>YE</td>\n      <td>2008</td>\n      <td>fu</td>\n      <td>0.0</td>\n    </tr>\n    <tr>\n      <th>115323</th>\n      <td>ZA</td>\n      <td>2008</td>\n      <td>fu</td>\n      <td>0.0</td>\n    </tr>\n    <tr>\n      <th>115350</th>\n      <td>ZM</td>\n      <td>2008</td>\n      <td>fu</td>\n      <td>0.0</td>\n    </tr>\n    <tr>\n      <th>115379</th>\n      <td>ZW</td>\n      <td>2008</td>\n      <td>fu</td>\n      <td>0.0</td>\n    </tr>\n  </tbody>\n</table>\n<p>35750 rows × 4 columns</p>\n</div>"
     },
     "execution_count": 7,
     "metadata": {},
     "output_type": "execute_result"
    }
   ],
   "source": [
    "tb_tidy = tb.melt(id_vars=['iso2', 'year'], var_name='sex_and_age', value_name='cases')\n",
    "tb_tidy = tb_tidy.dropna()\n",
    "tb_tidy"
   ],
   "metadata": {
    "collapsed": false,
    "ExecuteTime": {
     "end_time": "2023-11-08T11:13:14.961997653Z",
     "start_time": "2023-11-08T11:13:14.906968703Z"
    }
   },
   "id": "8235f50cc05915f0"
  },
  {
   "cell_type": "code",
   "execution_count": 8,
   "outputs": [
    {
     "data": {
      "text/plain": "       iso2  year sex_and_age  cases sex agegroup\n15       AD  2005         m04    0.0   m       04\n16       AD  2006         m04    0.0   m       04\n18       AD  2008         m04    0.0   m       04\n42       AE  2006         m04    0.0   m       04\n43       AE  2007         m04    0.0   m       04\n...     ...   ...         ...    ...  ..      ...\n115195   VU  2008          fu    0.0   f        u\n115269   YE  2008          fu    0.0   f        u\n115323   ZA  2008          fu    0.0   f        u\n115350   ZM  2008          fu    0.0   f        u\n115379   ZW  2008          fu    0.0   f        u\n\n[35750 rows x 6 columns]",
      "text/html": "<div>\n<style scoped>\n    .dataframe tbody tr th:only-of-type {\n        vertical-align: middle;\n    }\n\n    .dataframe tbody tr th {\n        vertical-align: top;\n    }\n\n    .dataframe thead th {\n        text-align: right;\n    }\n</style>\n<table border=\"1\" class=\"dataframe\">\n  <thead>\n    <tr style=\"text-align: right;\">\n      <th></th>\n      <th>iso2</th>\n      <th>year</th>\n      <th>sex_and_age</th>\n      <th>cases</th>\n      <th>sex</th>\n      <th>agegroup</th>\n    </tr>\n  </thead>\n  <tbody>\n    <tr>\n      <th>15</th>\n      <td>AD</td>\n      <td>2005</td>\n      <td>m04</td>\n      <td>0.0</td>\n      <td>m</td>\n      <td>04</td>\n    </tr>\n    <tr>\n      <th>16</th>\n      <td>AD</td>\n      <td>2006</td>\n      <td>m04</td>\n      <td>0.0</td>\n      <td>m</td>\n      <td>04</td>\n    </tr>\n    <tr>\n      <th>18</th>\n      <td>AD</td>\n      <td>2008</td>\n      <td>m04</td>\n      <td>0.0</td>\n      <td>m</td>\n      <td>04</td>\n    </tr>\n    <tr>\n      <th>42</th>\n      <td>AE</td>\n      <td>2006</td>\n      <td>m04</td>\n      <td>0.0</td>\n      <td>m</td>\n      <td>04</td>\n    </tr>\n    <tr>\n      <th>43</th>\n      <td>AE</td>\n      <td>2007</td>\n      <td>m04</td>\n      <td>0.0</td>\n      <td>m</td>\n      <td>04</td>\n    </tr>\n    <tr>\n      <th>...</th>\n      <td>...</td>\n      <td>...</td>\n      <td>...</td>\n      <td>...</td>\n      <td>...</td>\n      <td>...</td>\n    </tr>\n    <tr>\n      <th>115195</th>\n      <td>VU</td>\n      <td>2008</td>\n      <td>fu</td>\n      <td>0.0</td>\n      <td>f</td>\n      <td>u</td>\n    </tr>\n    <tr>\n      <th>115269</th>\n      <td>YE</td>\n      <td>2008</td>\n      <td>fu</td>\n      <td>0.0</td>\n      <td>f</td>\n      <td>u</td>\n    </tr>\n    <tr>\n      <th>115323</th>\n      <td>ZA</td>\n      <td>2008</td>\n      <td>fu</td>\n      <td>0.0</td>\n      <td>f</td>\n      <td>u</td>\n    </tr>\n    <tr>\n      <th>115350</th>\n      <td>ZM</td>\n      <td>2008</td>\n      <td>fu</td>\n      <td>0.0</td>\n      <td>f</td>\n      <td>u</td>\n    </tr>\n    <tr>\n      <th>115379</th>\n      <td>ZW</td>\n      <td>2008</td>\n      <td>fu</td>\n      <td>0.0</td>\n      <td>f</td>\n      <td>u</td>\n    </tr>\n  </tbody>\n</table>\n<p>35750 rows × 6 columns</p>\n</div>"
     },
     "execution_count": 8,
     "metadata": {},
     "output_type": "execute_result"
    }
   ],
   "source": [
    "tb_tidy['sex'] = tb_tidy.sex_and_age.str.slice(0, 1)\n",
    "tb_tidy['agegroup'] = tb_tidy.sex_and_age.str.slice(1)\n",
    "tb_tidy"
   ],
   "metadata": {
    "collapsed": false,
    "ExecuteTime": {
     "end_time": "2023-11-08T11:13:15.061313499Z",
     "start_time": "2023-11-08T11:13:14.940826525Z"
    }
   },
   "id": "b8999933b7f99620"
  },
  {
   "cell_type": "code",
   "execution_count": 9,
   "outputs": [
    {
     "data": {
      "text/plain": "       iso2  year  cases sex agegroup\n15       AD  2005    0.0   m       04\n16       AD  2006    0.0   m       04\n18       AD  2008    0.0   m       04\n42       AE  2006    0.0   m       04\n43       AE  2007    0.0   m       04\n...     ...   ...    ...  ..      ...\n115195   VU  2008    0.0   f        u\n115269   YE  2008    0.0   f        u\n115323   ZA  2008    0.0   f        u\n115350   ZM  2008    0.0   f        u\n115379   ZW  2008    0.0   f        u\n\n[35750 rows x 5 columns]",
      "text/html": "<div>\n<style scoped>\n    .dataframe tbody tr th:only-of-type {\n        vertical-align: middle;\n    }\n\n    .dataframe tbody tr th {\n        vertical-align: top;\n    }\n\n    .dataframe thead th {\n        text-align: right;\n    }\n</style>\n<table border=\"1\" class=\"dataframe\">\n  <thead>\n    <tr style=\"text-align: right;\">\n      <th></th>\n      <th>iso2</th>\n      <th>year</th>\n      <th>cases</th>\n      <th>sex</th>\n      <th>agegroup</th>\n    </tr>\n  </thead>\n  <tbody>\n    <tr>\n      <th>15</th>\n      <td>AD</td>\n      <td>2005</td>\n      <td>0.0</td>\n      <td>m</td>\n      <td>04</td>\n    </tr>\n    <tr>\n      <th>16</th>\n      <td>AD</td>\n      <td>2006</td>\n      <td>0.0</td>\n      <td>m</td>\n      <td>04</td>\n    </tr>\n    <tr>\n      <th>18</th>\n      <td>AD</td>\n      <td>2008</td>\n      <td>0.0</td>\n      <td>m</td>\n      <td>04</td>\n    </tr>\n    <tr>\n      <th>42</th>\n      <td>AE</td>\n      <td>2006</td>\n      <td>0.0</td>\n      <td>m</td>\n      <td>04</td>\n    </tr>\n    <tr>\n      <th>43</th>\n      <td>AE</td>\n      <td>2007</td>\n      <td>0.0</td>\n      <td>m</td>\n      <td>04</td>\n    </tr>\n    <tr>\n      <th>...</th>\n      <td>...</td>\n      <td>...</td>\n      <td>...</td>\n      <td>...</td>\n      <td>...</td>\n    </tr>\n    <tr>\n      <th>115195</th>\n      <td>VU</td>\n      <td>2008</td>\n      <td>0.0</td>\n      <td>f</td>\n      <td>u</td>\n    </tr>\n    <tr>\n      <th>115269</th>\n      <td>YE</td>\n      <td>2008</td>\n      <td>0.0</td>\n      <td>f</td>\n      <td>u</td>\n    </tr>\n    <tr>\n      <th>115323</th>\n      <td>ZA</td>\n      <td>2008</td>\n      <td>0.0</td>\n      <td>f</td>\n      <td>u</td>\n    </tr>\n    <tr>\n      <th>115350</th>\n      <td>ZM</td>\n      <td>2008</td>\n      <td>0.0</td>\n      <td>f</td>\n      <td>u</td>\n    </tr>\n    <tr>\n      <th>115379</th>\n      <td>ZW</td>\n      <td>2008</td>\n      <td>0.0</td>\n      <td>f</td>\n      <td>u</td>\n    </tr>\n  </tbody>\n</table>\n<p>35750 rows × 5 columns</p>\n</div>"
     },
     "execution_count": 9,
     "metadata": {},
     "output_type": "execute_result"
    }
   ],
   "source": [
    "tb_tidy = tb_tidy.drop(columns='sex_and_age')\n",
    "tb_tidy"
   ],
   "metadata": {
    "collapsed": false,
    "ExecuteTime": {
     "end_time": "2023-11-08T11:13:15.084586905Z",
     "start_time": "2023-11-08T11:13:14.968407846Z"
    }
   },
   "id": "17bb18fe15bbdbaa"
  },
  {
   "cell_type": "code",
   "execution_count": 10,
   "outputs": [],
   "source": [
    "\n",
    "def proces_age_groups(age_group):\n",
    "    ages = {\"04\": \"0-4\", \"65\": \"65+\", \"u\": \"unknown\"}\n",
    "    if age_group in ages:\n",
    "        return ages[age_group]\n",
    "    else:\n",
    "        return f\"{age_group[:-2]}-{age_group[-2:]}\"\n",
    "\n",
    "\n",
    "tb_tidy.agegroup = tb_tidy.agegroup.apply(proces_age_groups)"
   ],
   "metadata": {
    "collapsed": false,
    "ExecuteTime": {
     "end_time": "2023-11-08T11:13:15.093901737Z",
     "start_time": "2023-11-08T11:13:14.993391530Z"
    }
   },
   "id": "c136570ca65a1ff3"
  },
  {
   "cell_type": "code",
   "execution_count": 11,
   "outputs": [
    {
     "data": {
      "text/plain": "       iso2  year   cases sex agegroup\n11544    AD  1996     0.0   m     0-14\n17313    AD  1996     0.0   m    15-24\n23082    AD  1996     0.0   m    25-34\n28851    AD  1996     4.0   m    35-44\n34620    AD  1996     1.0   m    45-54\n...     ...   ...     ...  ..      ...\n92303    ZW  2008  2890.0   f    35-44\n98072    ZW  2008   467.0   f    45-54\n103841   ZW  2008   174.0   f    55-64\n109610   ZW  2008   105.0   f      65+\n115379   ZW  2008     0.0   f  unknown\n\n[35750 rows x 5 columns]",
      "text/html": "<div>\n<style scoped>\n    .dataframe tbody tr th:only-of-type {\n        vertical-align: middle;\n    }\n\n    .dataframe tbody tr th {\n        vertical-align: top;\n    }\n\n    .dataframe thead th {\n        text-align: right;\n    }\n</style>\n<table border=\"1\" class=\"dataframe\">\n  <thead>\n    <tr style=\"text-align: right;\">\n      <th></th>\n      <th>iso2</th>\n      <th>year</th>\n      <th>cases</th>\n      <th>sex</th>\n      <th>agegroup</th>\n    </tr>\n  </thead>\n  <tbody>\n    <tr>\n      <th>11544</th>\n      <td>AD</td>\n      <td>1996</td>\n      <td>0.0</td>\n      <td>m</td>\n      <td>0-14</td>\n    </tr>\n    <tr>\n      <th>17313</th>\n      <td>AD</td>\n      <td>1996</td>\n      <td>0.0</td>\n      <td>m</td>\n      <td>15-24</td>\n    </tr>\n    <tr>\n      <th>23082</th>\n      <td>AD</td>\n      <td>1996</td>\n      <td>0.0</td>\n      <td>m</td>\n      <td>25-34</td>\n    </tr>\n    <tr>\n      <th>28851</th>\n      <td>AD</td>\n      <td>1996</td>\n      <td>4.0</td>\n      <td>m</td>\n      <td>35-44</td>\n    </tr>\n    <tr>\n      <th>34620</th>\n      <td>AD</td>\n      <td>1996</td>\n      <td>1.0</td>\n      <td>m</td>\n      <td>45-54</td>\n    </tr>\n    <tr>\n      <th>...</th>\n      <td>...</td>\n      <td>...</td>\n      <td>...</td>\n      <td>...</td>\n      <td>...</td>\n    </tr>\n    <tr>\n      <th>92303</th>\n      <td>ZW</td>\n      <td>2008</td>\n      <td>2890.0</td>\n      <td>f</td>\n      <td>35-44</td>\n    </tr>\n    <tr>\n      <th>98072</th>\n      <td>ZW</td>\n      <td>2008</td>\n      <td>467.0</td>\n      <td>f</td>\n      <td>45-54</td>\n    </tr>\n    <tr>\n      <th>103841</th>\n      <td>ZW</td>\n      <td>2008</td>\n      <td>174.0</td>\n      <td>f</td>\n      <td>55-64</td>\n    </tr>\n    <tr>\n      <th>109610</th>\n      <td>ZW</td>\n      <td>2008</td>\n      <td>105.0</td>\n      <td>f</td>\n      <td>65+</td>\n    </tr>\n    <tr>\n      <th>115379</th>\n      <td>ZW</td>\n      <td>2008</td>\n      <td>0.0</td>\n      <td>f</td>\n      <td>unknown</td>\n    </tr>\n  </tbody>\n</table>\n<p>35750 rows × 5 columns</p>\n</div>"
     },
     "execution_count": 11,
     "metadata": {},
     "output_type": "execute_result"
    }
   ],
   "source": [
    "tb_tidy.sort_values(['iso2', 'year'])"
   ],
   "metadata": {
    "collapsed": false,
    "ExecuteTime": {
     "end_time": "2023-11-08T11:13:15.094707530Z",
     "start_time": "2023-11-08T11:13:14.999429163Z"
    }
   },
   "id": "6ebfa94c2d12dc50"
  },
  {
   "cell_type": "code",
   "execution_count": 12,
   "outputs": [
    {
     "data": {
      "text/plain": "         id  year  month element    d1    d2    d3    d4    d5    d6  ...  \\\n0   MX17004  2010      1    tmax   NaN   NaN   NaN   NaN   NaN   NaN  ...   \n1   MX17004  2010      1    tmin   NaN   NaN   NaN   NaN   NaN   NaN  ...   \n2   MX17004  2010      2    tmax   NaN  27.3  24.1   NaN   NaN   NaN  ...   \n3   MX17004  2010      2    tmin   NaN  14.4  14.4   NaN   NaN   NaN  ...   \n4   MX17004  2010      3    tmax   NaN   NaN   NaN   NaN  32.1   NaN  ...   \n5   MX17004  2010      3    tmin   NaN   NaN   NaN   NaN  14.2   NaN  ...   \n6   MX17004  2010      4    tmax   NaN   NaN   NaN   NaN   NaN   NaN  ...   \n7   MX17004  2010      4    tmin   NaN   NaN   NaN   NaN   NaN   NaN  ...   \n8   MX17004  2010      5    tmax   NaN   NaN   NaN   NaN   NaN   NaN  ...   \n9   MX17004  2010      5    tmin   NaN   NaN   NaN   NaN   NaN   NaN  ...   \n10  MX17004  2010      6    tmax   NaN   NaN   NaN   NaN   NaN   NaN  ...   \n11  MX17004  2010      6    tmin   NaN   NaN   NaN   NaN   NaN   NaN  ...   \n12  MX17004  2010      7    tmax   NaN   NaN  28.6   NaN   NaN   NaN  ...   \n13  MX17004  2010      7    tmin   NaN   NaN  17.5   NaN   NaN   NaN  ...   \n14  MX17004  2010      8    tmax   NaN   NaN   NaN   NaN  29.6   NaN  ...   \n15  MX17004  2010      8    tmin   NaN   NaN   NaN   NaN  15.8   NaN  ...   \n16  MX17004  2010     10    tmax   NaN   NaN   NaN   NaN  27.0   NaN  ...   \n17  MX17004  2010     10    tmin   NaN   NaN   NaN   NaN  14.0   NaN  ...   \n18  MX17004  2010     11    tmax   NaN  31.3   NaN  27.2  26.3   NaN  ...   \n19  MX17004  2010     11    tmin   NaN  16.3   NaN  12.0   7.9   NaN  ...   \n20  MX17004  2010     12    tmax  29.9   NaN   NaN   NaN   NaN  27.8  ...   \n21  MX17004  2010     12    tmin  13.8   NaN   NaN   NaN   NaN  10.5  ...   \n\n    d22   d23  d24   d25   d26   d27   d28   d29   d30   d31  \n0   NaN   NaN  NaN   NaN   NaN   NaN   NaN   NaN  27.8   NaN  \n1   NaN   NaN  NaN   NaN   NaN   NaN   NaN   NaN  14.5   NaN  \n2   NaN  29.9  NaN   NaN   NaN   NaN   NaN   NaN   NaN   NaN  \n3   NaN  10.7  NaN   NaN   NaN   NaN   NaN   NaN   NaN   NaN  \n4   NaN   NaN  NaN   NaN   NaN   NaN   NaN   NaN   NaN   NaN  \n5   NaN   NaN  NaN   NaN   NaN   NaN   NaN   NaN   NaN   NaN  \n6   NaN   NaN  NaN   NaN   NaN  36.3   NaN   NaN   NaN   NaN  \n7   NaN   NaN  NaN   NaN   NaN  16.7   NaN   NaN   NaN   NaN  \n8   NaN   NaN  NaN   NaN   NaN  33.2   NaN   NaN   NaN   NaN  \n9   NaN   NaN  NaN   NaN   NaN  18.2   NaN   NaN   NaN   NaN  \n10  NaN   NaN  NaN   NaN   NaN   NaN   NaN  30.1   NaN   NaN  \n11  NaN   NaN  NaN   NaN   NaN   NaN   NaN  18.0   NaN   NaN  \n12  NaN   NaN  NaN   NaN   NaN   NaN   NaN   NaN   NaN   NaN  \n13  NaN   NaN  NaN   NaN   NaN   NaN   NaN   NaN   NaN   NaN  \n14  NaN  26.4  NaN  29.7   NaN   NaN   NaN  28.0   NaN  25.4  \n15  NaN  15.0  NaN  15.6   NaN   NaN   NaN  15.3   NaN  15.4  \n16  NaN   NaN  NaN   NaN   NaN   NaN  31.2   NaN   NaN   NaN  \n17  NaN   NaN  NaN   NaN   NaN   NaN  15.0   NaN   NaN   NaN  \n18  NaN   NaN  NaN   NaN  28.1  27.7   NaN   NaN   NaN   NaN  \n19  NaN   NaN  NaN   NaN  12.1  14.2   NaN   NaN   NaN   NaN  \n20  NaN   NaN  NaN   NaN   NaN   NaN   NaN   NaN   NaN   NaN  \n21  NaN   NaN  NaN   NaN   NaN   NaN   NaN   NaN   NaN   NaN  \n\n[22 rows x 35 columns]",
      "text/html": "<div>\n<style scoped>\n    .dataframe tbody tr th:only-of-type {\n        vertical-align: middle;\n    }\n\n    .dataframe tbody tr th {\n        vertical-align: top;\n    }\n\n    .dataframe thead th {\n        text-align: right;\n    }\n</style>\n<table border=\"1\" class=\"dataframe\">\n  <thead>\n    <tr style=\"text-align: right;\">\n      <th></th>\n      <th>id</th>\n      <th>year</th>\n      <th>month</th>\n      <th>element</th>\n      <th>d1</th>\n      <th>d2</th>\n      <th>d3</th>\n      <th>d4</th>\n      <th>d5</th>\n      <th>d6</th>\n      <th>...</th>\n      <th>d22</th>\n      <th>d23</th>\n      <th>d24</th>\n      <th>d25</th>\n      <th>d26</th>\n      <th>d27</th>\n      <th>d28</th>\n      <th>d29</th>\n      <th>d30</th>\n      <th>d31</th>\n    </tr>\n  </thead>\n  <tbody>\n    <tr>\n      <th>0</th>\n      <td>MX17004</td>\n      <td>2010</td>\n      <td>1</td>\n      <td>tmax</td>\n      <td>NaN</td>\n      <td>NaN</td>\n      <td>NaN</td>\n      <td>NaN</td>\n      <td>NaN</td>\n      <td>NaN</td>\n      <td>...</td>\n      <td>NaN</td>\n      <td>NaN</td>\n      <td>NaN</td>\n      <td>NaN</td>\n      <td>NaN</td>\n      <td>NaN</td>\n      <td>NaN</td>\n      <td>NaN</td>\n      <td>27.8</td>\n      <td>NaN</td>\n    </tr>\n    <tr>\n      <th>1</th>\n      <td>MX17004</td>\n      <td>2010</td>\n      <td>1</td>\n      <td>tmin</td>\n      <td>NaN</td>\n      <td>NaN</td>\n      <td>NaN</td>\n      <td>NaN</td>\n      <td>NaN</td>\n      <td>NaN</td>\n      <td>...</td>\n      <td>NaN</td>\n      <td>NaN</td>\n      <td>NaN</td>\n      <td>NaN</td>\n      <td>NaN</td>\n      <td>NaN</td>\n      <td>NaN</td>\n      <td>NaN</td>\n      <td>14.5</td>\n      <td>NaN</td>\n    </tr>\n    <tr>\n      <th>2</th>\n      <td>MX17004</td>\n      <td>2010</td>\n      <td>2</td>\n      <td>tmax</td>\n      <td>NaN</td>\n      <td>27.3</td>\n      <td>24.1</td>\n      <td>NaN</td>\n      <td>NaN</td>\n      <td>NaN</td>\n      <td>...</td>\n      <td>NaN</td>\n      <td>29.9</td>\n      <td>NaN</td>\n      <td>NaN</td>\n      <td>NaN</td>\n      <td>NaN</td>\n      <td>NaN</td>\n      <td>NaN</td>\n      <td>NaN</td>\n      <td>NaN</td>\n    </tr>\n    <tr>\n      <th>3</th>\n      <td>MX17004</td>\n      <td>2010</td>\n      <td>2</td>\n      <td>tmin</td>\n      <td>NaN</td>\n      <td>14.4</td>\n      <td>14.4</td>\n      <td>NaN</td>\n      <td>NaN</td>\n      <td>NaN</td>\n      <td>...</td>\n      <td>NaN</td>\n      <td>10.7</td>\n      <td>NaN</td>\n      <td>NaN</td>\n      <td>NaN</td>\n      <td>NaN</td>\n      <td>NaN</td>\n      <td>NaN</td>\n      <td>NaN</td>\n      <td>NaN</td>\n    </tr>\n    <tr>\n      <th>4</th>\n      <td>MX17004</td>\n      <td>2010</td>\n      <td>3</td>\n      <td>tmax</td>\n      <td>NaN</td>\n      <td>NaN</td>\n      <td>NaN</td>\n      <td>NaN</td>\n      <td>32.1</td>\n      <td>NaN</td>\n      <td>...</td>\n      <td>NaN</td>\n      <td>NaN</td>\n      <td>NaN</td>\n      <td>NaN</td>\n      <td>NaN</td>\n      <td>NaN</td>\n      <td>NaN</td>\n      <td>NaN</td>\n      <td>NaN</td>\n      <td>NaN</td>\n    </tr>\n    <tr>\n      <th>5</th>\n      <td>MX17004</td>\n      <td>2010</td>\n      <td>3</td>\n      <td>tmin</td>\n      <td>NaN</td>\n      <td>NaN</td>\n      <td>NaN</td>\n      <td>NaN</td>\n      <td>14.2</td>\n      <td>NaN</td>\n      <td>...</td>\n      <td>NaN</td>\n      <td>NaN</td>\n      <td>NaN</td>\n      <td>NaN</td>\n      <td>NaN</td>\n      <td>NaN</td>\n      <td>NaN</td>\n      <td>NaN</td>\n      <td>NaN</td>\n      <td>NaN</td>\n    </tr>\n    <tr>\n      <th>6</th>\n      <td>MX17004</td>\n      <td>2010</td>\n      <td>4</td>\n      <td>tmax</td>\n      <td>NaN</td>\n      <td>NaN</td>\n      <td>NaN</td>\n      <td>NaN</td>\n      <td>NaN</td>\n      <td>NaN</td>\n      <td>...</td>\n      <td>NaN</td>\n      <td>NaN</td>\n      <td>NaN</td>\n      <td>NaN</td>\n      <td>NaN</td>\n      <td>36.3</td>\n      <td>NaN</td>\n      <td>NaN</td>\n      <td>NaN</td>\n      <td>NaN</td>\n    </tr>\n    <tr>\n      <th>7</th>\n      <td>MX17004</td>\n      <td>2010</td>\n      <td>4</td>\n      <td>tmin</td>\n      <td>NaN</td>\n      <td>NaN</td>\n      <td>NaN</td>\n      <td>NaN</td>\n      <td>NaN</td>\n      <td>NaN</td>\n      <td>...</td>\n      <td>NaN</td>\n      <td>NaN</td>\n      <td>NaN</td>\n      <td>NaN</td>\n      <td>NaN</td>\n      <td>16.7</td>\n      <td>NaN</td>\n      <td>NaN</td>\n      <td>NaN</td>\n      <td>NaN</td>\n    </tr>\n    <tr>\n      <th>8</th>\n      <td>MX17004</td>\n      <td>2010</td>\n      <td>5</td>\n      <td>tmax</td>\n      <td>NaN</td>\n      <td>NaN</td>\n      <td>NaN</td>\n      <td>NaN</td>\n      <td>NaN</td>\n      <td>NaN</td>\n      <td>...</td>\n      <td>NaN</td>\n      <td>NaN</td>\n      <td>NaN</td>\n      <td>NaN</td>\n      <td>NaN</td>\n      <td>33.2</td>\n      <td>NaN</td>\n      <td>NaN</td>\n      <td>NaN</td>\n      <td>NaN</td>\n    </tr>\n    <tr>\n      <th>9</th>\n      <td>MX17004</td>\n      <td>2010</td>\n      <td>5</td>\n      <td>tmin</td>\n      <td>NaN</td>\n      <td>NaN</td>\n      <td>NaN</td>\n      <td>NaN</td>\n      <td>NaN</td>\n      <td>NaN</td>\n      <td>...</td>\n      <td>NaN</td>\n      <td>NaN</td>\n      <td>NaN</td>\n      <td>NaN</td>\n      <td>NaN</td>\n      <td>18.2</td>\n      <td>NaN</td>\n      <td>NaN</td>\n      <td>NaN</td>\n      <td>NaN</td>\n    </tr>\n    <tr>\n      <th>10</th>\n      <td>MX17004</td>\n      <td>2010</td>\n      <td>6</td>\n      <td>tmax</td>\n      <td>NaN</td>\n      <td>NaN</td>\n      <td>NaN</td>\n      <td>NaN</td>\n      <td>NaN</td>\n      <td>NaN</td>\n      <td>...</td>\n      <td>NaN</td>\n      <td>NaN</td>\n      <td>NaN</td>\n      <td>NaN</td>\n      <td>NaN</td>\n      <td>NaN</td>\n      <td>NaN</td>\n      <td>30.1</td>\n      <td>NaN</td>\n      <td>NaN</td>\n    </tr>\n    <tr>\n      <th>11</th>\n      <td>MX17004</td>\n      <td>2010</td>\n      <td>6</td>\n      <td>tmin</td>\n      <td>NaN</td>\n      <td>NaN</td>\n      <td>NaN</td>\n      <td>NaN</td>\n      <td>NaN</td>\n      <td>NaN</td>\n      <td>...</td>\n      <td>NaN</td>\n      <td>NaN</td>\n      <td>NaN</td>\n      <td>NaN</td>\n      <td>NaN</td>\n      <td>NaN</td>\n      <td>NaN</td>\n      <td>18.0</td>\n      <td>NaN</td>\n      <td>NaN</td>\n    </tr>\n    <tr>\n      <th>12</th>\n      <td>MX17004</td>\n      <td>2010</td>\n      <td>7</td>\n      <td>tmax</td>\n      <td>NaN</td>\n      <td>NaN</td>\n      <td>28.6</td>\n      <td>NaN</td>\n      <td>NaN</td>\n      <td>NaN</td>\n      <td>...</td>\n      <td>NaN</td>\n      <td>NaN</td>\n      <td>NaN</td>\n      <td>NaN</td>\n      <td>NaN</td>\n      <td>NaN</td>\n      <td>NaN</td>\n      <td>NaN</td>\n      <td>NaN</td>\n      <td>NaN</td>\n    </tr>\n    <tr>\n      <th>13</th>\n      <td>MX17004</td>\n      <td>2010</td>\n      <td>7</td>\n      <td>tmin</td>\n      <td>NaN</td>\n      <td>NaN</td>\n      <td>17.5</td>\n      <td>NaN</td>\n      <td>NaN</td>\n      <td>NaN</td>\n      <td>...</td>\n      <td>NaN</td>\n      <td>NaN</td>\n      <td>NaN</td>\n      <td>NaN</td>\n      <td>NaN</td>\n      <td>NaN</td>\n      <td>NaN</td>\n      <td>NaN</td>\n      <td>NaN</td>\n      <td>NaN</td>\n    </tr>\n    <tr>\n      <th>14</th>\n      <td>MX17004</td>\n      <td>2010</td>\n      <td>8</td>\n      <td>tmax</td>\n      <td>NaN</td>\n      <td>NaN</td>\n      <td>NaN</td>\n      <td>NaN</td>\n      <td>29.6</td>\n      <td>NaN</td>\n      <td>...</td>\n      <td>NaN</td>\n      <td>26.4</td>\n      <td>NaN</td>\n      <td>29.7</td>\n      <td>NaN</td>\n      <td>NaN</td>\n      <td>NaN</td>\n      <td>28.0</td>\n      <td>NaN</td>\n      <td>25.4</td>\n    </tr>\n    <tr>\n      <th>15</th>\n      <td>MX17004</td>\n      <td>2010</td>\n      <td>8</td>\n      <td>tmin</td>\n      <td>NaN</td>\n      <td>NaN</td>\n      <td>NaN</td>\n      <td>NaN</td>\n      <td>15.8</td>\n      <td>NaN</td>\n      <td>...</td>\n      <td>NaN</td>\n      <td>15.0</td>\n      <td>NaN</td>\n      <td>15.6</td>\n      <td>NaN</td>\n      <td>NaN</td>\n      <td>NaN</td>\n      <td>15.3</td>\n      <td>NaN</td>\n      <td>15.4</td>\n    </tr>\n    <tr>\n      <th>16</th>\n      <td>MX17004</td>\n      <td>2010</td>\n      <td>10</td>\n      <td>tmax</td>\n      <td>NaN</td>\n      <td>NaN</td>\n      <td>NaN</td>\n      <td>NaN</td>\n      <td>27.0</td>\n      <td>NaN</td>\n      <td>...</td>\n      <td>NaN</td>\n      <td>NaN</td>\n      <td>NaN</td>\n      <td>NaN</td>\n      <td>NaN</td>\n      <td>NaN</td>\n      <td>31.2</td>\n      <td>NaN</td>\n      <td>NaN</td>\n      <td>NaN</td>\n    </tr>\n    <tr>\n      <th>17</th>\n      <td>MX17004</td>\n      <td>2010</td>\n      <td>10</td>\n      <td>tmin</td>\n      <td>NaN</td>\n      <td>NaN</td>\n      <td>NaN</td>\n      <td>NaN</td>\n      <td>14.0</td>\n      <td>NaN</td>\n      <td>...</td>\n      <td>NaN</td>\n      <td>NaN</td>\n      <td>NaN</td>\n      <td>NaN</td>\n      <td>NaN</td>\n      <td>NaN</td>\n      <td>15.0</td>\n      <td>NaN</td>\n      <td>NaN</td>\n      <td>NaN</td>\n    </tr>\n    <tr>\n      <th>18</th>\n      <td>MX17004</td>\n      <td>2010</td>\n      <td>11</td>\n      <td>tmax</td>\n      <td>NaN</td>\n      <td>31.3</td>\n      <td>NaN</td>\n      <td>27.2</td>\n      <td>26.3</td>\n      <td>NaN</td>\n      <td>...</td>\n      <td>NaN</td>\n      <td>NaN</td>\n      <td>NaN</td>\n      <td>NaN</td>\n      <td>28.1</td>\n      <td>27.7</td>\n      <td>NaN</td>\n      <td>NaN</td>\n      <td>NaN</td>\n      <td>NaN</td>\n    </tr>\n    <tr>\n      <th>19</th>\n      <td>MX17004</td>\n      <td>2010</td>\n      <td>11</td>\n      <td>tmin</td>\n      <td>NaN</td>\n      <td>16.3</td>\n      <td>NaN</td>\n      <td>12.0</td>\n      <td>7.9</td>\n      <td>NaN</td>\n      <td>...</td>\n      <td>NaN</td>\n      <td>NaN</td>\n      <td>NaN</td>\n      <td>NaN</td>\n      <td>12.1</td>\n      <td>14.2</td>\n      <td>NaN</td>\n      <td>NaN</td>\n      <td>NaN</td>\n      <td>NaN</td>\n    </tr>\n    <tr>\n      <th>20</th>\n      <td>MX17004</td>\n      <td>2010</td>\n      <td>12</td>\n      <td>tmax</td>\n      <td>29.9</td>\n      <td>NaN</td>\n      <td>NaN</td>\n      <td>NaN</td>\n      <td>NaN</td>\n      <td>27.8</td>\n      <td>...</td>\n      <td>NaN</td>\n      <td>NaN</td>\n      <td>NaN</td>\n      <td>NaN</td>\n      <td>NaN</td>\n      <td>NaN</td>\n      <td>NaN</td>\n      <td>NaN</td>\n      <td>NaN</td>\n      <td>NaN</td>\n    </tr>\n    <tr>\n      <th>21</th>\n      <td>MX17004</td>\n      <td>2010</td>\n      <td>12</td>\n      <td>tmin</td>\n      <td>13.8</td>\n      <td>NaN</td>\n      <td>NaN</td>\n      <td>NaN</td>\n      <td>NaN</td>\n      <td>10.5</td>\n      <td>...</td>\n      <td>NaN</td>\n      <td>NaN</td>\n      <td>NaN</td>\n      <td>NaN</td>\n      <td>NaN</td>\n      <td>NaN</td>\n      <td>NaN</td>\n      <td>NaN</td>\n      <td>NaN</td>\n      <td>NaN</td>\n    </tr>\n  </tbody>\n</table>\n<p>22 rows × 35 columns</p>\n</div>"
     },
     "execution_count": 12,
     "metadata": {},
     "output_type": "execute_result"
    }
   ],
   "source": [
    "weather_data = pd.read_csv('data/ds_l2/weather.csv')\n",
    "weather_data"
   ],
   "metadata": {
    "collapsed": false,
    "ExecuteTime": {
     "end_time": "2023-11-08T11:13:15.095171114Z",
     "start_time": "2023-11-08T11:13:15.043506739Z"
    }
   },
   "id": "d6c95cba6182fadf"
  },
  {
   "cell_type": "markdown",
   "source": [],
   "metadata": {
    "collapsed": false
   },
   "id": "42a57eecf2cf1a3c"
  },
  {
   "cell_type": "code",
   "execution_count": 13,
   "outputs": [],
   "source": [
    "weather_data = weather_data.melt(id_vars=['id', 'year', 'month', 'element'], var_name='day')\n",
    "# tb_tidy = tb.melt(id_vars=['iso2', 'year'], var_name='sex_and_age', value_name='cases')"
   ],
   "metadata": {
    "collapsed": false,
    "ExecuteTime": {
     "end_time": "2023-11-08T11:13:15.095216405Z",
     "start_time": "2023-11-08T11:13:15.043777640Z"
    }
   },
   "id": "6286d69f68f9ee"
  },
  {
   "cell_type": "code",
   "execution_count": 14,
   "outputs": [],
   "source": [
    "weather_data.day = weather_data.day.str.slice(1).astype(int)"
   ],
   "metadata": {
    "collapsed": false,
    "ExecuteTime": {
     "end_time": "2023-11-08T11:13:15.097333245Z",
     "start_time": "2023-11-08T11:13:15.087507260Z"
    }
   },
   "id": "dd8cdae278cdaee1"
  },
  {
   "cell_type": "code",
   "execution_count": 15,
   "outputs": [],
   "source": [
    "weather_data = weather_data.pivot_table(index=['id', 'year', 'month', 'day'], columns='element', values='value')\n",
    "weather_data = weather_data.reset_index()"
   ],
   "metadata": {
    "collapsed": false,
    "ExecuteTime": {
     "end_time": "2023-11-08T11:13:15.097460820Z",
     "start_time": "2023-11-08T11:13:15.087607183Z"
    }
   },
   "id": "cfedd3534537b1d"
  },
  {
   "cell_type": "code",
   "execution_count": 38,
   "outputs": [],
   "source": [
    "weather_data['date'] = pd.to_datetime(weather_data[['year', 'month', 'day']])"
   ],
   "metadata": {
    "collapsed": false,
    "ExecuteTime": {
     "end_time": "2023-11-08T11:26:42.935864936Z",
     "start_time": "2023-11-08T11:26:42.893940476Z"
    }
   },
   "id": "ec7962a38b94665c"
  },
  {
   "cell_type": "code",
   "execution_count": 39,
   "outputs": [
    {
     "data": {
      "text/plain": "element       id  year  month  day  tmax  tmin       date\n0        MX17004  2010      1   30  27.8  14.5 2010-01-30\n1        MX17004  2010      2    2  27.3  14.4 2010-02-02\n2        MX17004  2010      2    3  24.1  14.4 2010-02-03\n3        MX17004  2010      2   11  29.7  13.4 2010-02-11\n4        MX17004  2010      2   23  29.9  10.7 2010-02-23\n5        MX17004  2010      3    5  32.1  14.2 2010-03-05\n6        MX17004  2010      3   10  34.5  16.8 2010-03-10\n7        MX17004  2010      3   16  31.1  17.6 2010-03-16\n8        MX17004  2010      4   27  36.3  16.7 2010-04-27\n9        MX17004  2010      5   27  33.2  18.2 2010-05-27\n10       MX17004  2010      6   17  28.0  17.5 2010-06-17\n11       MX17004  2010      6   29  30.1  18.0 2010-06-29\n12       MX17004  2010      7    3  28.6  17.5 2010-07-03\n13       MX17004  2010      7   14  29.9  16.5 2010-07-14\n14       MX17004  2010      8   23  26.4  15.0 2010-08-23\n15       MX17004  2010      8    5  29.6  15.8 2010-08-05\n16       MX17004  2010      8   29  28.0  15.3 2010-08-29\n17       MX17004  2010      8    8  29.0  17.3 2010-08-08\n18       MX17004  2010      8   13  29.8  16.5 2010-08-13\n19       MX17004  2010      8   25  29.7  15.6 2010-08-25\n20       MX17004  2010      8   31  25.4  15.4 2010-08-31\n21       MX17004  2010     10    5  27.0  14.0 2010-10-05\n22       MX17004  2010     10   14  29.5  13.0 2010-10-14\n23       MX17004  2010     10    7  28.1  12.9 2010-10-07\n24       MX17004  2010     10   15  28.7  10.5 2010-10-15\n25       MX17004  2010     10   28  31.2  15.0 2010-10-28\n26       MX17004  2010     11    2  31.3  16.3 2010-11-02\n27       MX17004  2010     11    5  26.3   7.9 2010-11-05\n28       MX17004  2010     11   27  27.7  14.2 2010-11-27\n29       MX17004  2010     11    4  27.2  12.0 2010-11-04\n30       MX17004  2010     11   26  28.1  12.1 2010-11-26\n31       MX17004  2010     12    1  29.9  13.8 2010-12-01\n32       MX17004  2010     12    6  27.8  10.5 2010-12-06",
      "text/html": "<div>\n<style scoped>\n    .dataframe tbody tr th:only-of-type {\n        vertical-align: middle;\n    }\n\n    .dataframe tbody tr th {\n        vertical-align: top;\n    }\n\n    .dataframe thead th {\n        text-align: right;\n    }\n</style>\n<table border=\"1\" class=\"dataframe\">\n  <thead>\n    <tr style=\"text-align: right;\">\n      <th>element</th>\n      <th>id</th>\n      <th>year</th>\n      <th>month</th>\n      <th>day</th>\n      <th>tmax</th>\n      <th>tmin</th>\n      <th>date</th>\n    </tr>\n  </thead>\n  <tbody>\n    <tr>\n      <th>0</th>\n      <td>MX17004</td>\n      <td>2010</td>\n      <td>1</td>\n      <td>30</td>\n      <td>27.8</td>\n      <td>14.5</td>\n      <td>2010-01-30</td>\n    </tr>\n    <tr>\n      <th>1</th>\n      <td>MX17004</td>\n      <td>2010</td>\n      <td>2</td>\n      <td>2</td>\n      <td>27.3</td>\n      <td>14.4</td>\n      <td>2010-02-02</td>\n    </tr>\n    <tr>\n      <th>2</th>\n      <td>MX17004</td>\n      <td>2010</td>\n      <td>2</td>\n      <td>3</td>\n      <td>24.1</td>\n      <td>14.4</td>\n      <td>2010-02-03</td>\n    </tr>\n    <tr>\n      <th>3</th>\n      <td>MX17004</td>\n      <td>2010</td>\n      <td>2</td>\n      <td>11</td>\n      <td>29.7</td>\n      <td>13.4</td>\n      <td>2010-02-11</td>\n    </tr>\n    <tr>\n      <th>4</th>\n      <td>MX17004</td>\n      <td>2010</td>\n      <td>2</td>\n      <td>23</td>\n      <td>29.9</td>\n      <td>10.7</td>\n      <td>2010-02-23</td>\n    </tr>\n    <tr>\n      <th>5</th>\n      <td>MX17004</td>\n      <td>2010</td>\n      <td>3</td>\n      <td>5</td>\n      <td>32.1</td>\n      <td>14.2</td>\n      <td>2010-03-05</td>\n    </tr>\n    <tr>\n      <th>6</th>\n      <td>MX17004</td>\n      <td>2010</td>\n      <td>3</td>\n      <td>10</td>\n      <td>34.5</td>\n      <td>16.8</td>\n      <td>2010-03-10</td>\n    </tr>\n    <tr>\n      <th>7</th>\n      <td>MX17004</td>\n      <td>2010</td>\n      <td>3</td>\n      <td>16</td>\n      <td>31.1</td>\n      <td>17.6</td>\n      <td>2010-03-16</td>\n    </tr>\n    <tr>\n      <th>8</th>\n      <td>MX17004</td>\n      <td>2010</td>\n      <td>4</td>\n      <td>27</td>\n      <td>36.3</td>\n      <td>16.7</td>\n      <td>2010-04-27</td>\n    </tr>\n    <tr>\n      <th>9</th>\n      <td>MX17004</td>\n      <td>2010</td>\n      <td>5</td>\n      <td>27</td>\n      <td>33.2</td>\n      <td>18.2</td>\n      <td>2010-05-27</td>\n    </tr>\n    <tr>\n      <th>10</th>\n      <td>MX17004</td>\n      <td>2010</td>\n      <td>6</td>\n      <td>17</td>\n      <td>28.0</td>\n      <td>17.5</td>\n      <td>2010-06-17</td>\n    </tr>\n    <tr>\n      <th>11</th>\n      <td>MX17004</td>\n      <td>2010</td>\n      <td>6</td>\n      <td>29</td>\n      <td>30.1</td>\n      <td>18.0</td>\n      <td>2010-06-29</td>\n    </tr>\n    <tr>\n      <th>12</th>\n      <td>MX17004</td>\n      <td>2010</td>\n      <td>7</td>\n      <td>3</td>\n      <td>28.6</td>\n      <td>17.5</td>\n      <td>2010-07-03</td>\n    </tr>\n    <tr>\n      <th>13</th>\n      <td>MX17004</td>\n      <td>2010</td>\n      <td>7</td>\n      <td>14</td>\n      <td>29.9</td>\n      <td>16.5</td>\n      <td>2010-07-14</td>\n    </tr>\n    <tr>\n      <th>14</th>\n      <td>MX17004</td>\n      <td>2010</td>\n      <td>8</td>\n      <td>23</td>\n      <td>26.4</td>\n      <td>15.0</td>\n      <td>2010-08-23</td>\n    </tr>\n    <tr>\n      <th>15</th>\n      <td>MX17004</td>\n      <td>2010</td>\n      <td>8</td>\n      <td>5</td>\n      <td>29.6</td>\n      <td>15.8</td>\n      <td>2010-08-05</td>\n    </tr>\n    <tr>\n      <th>16</th>\n      <td>MX17004</td>\n      <td>2010</td>\n      <td>8</td>\n      <td>29</td>\n      <td>28.0</td>\n      <td>15.3</td>\n      <td>2010-08-29</td>\n    </tr>\n    <tr>\n      <th>17</th>\n      <td>MX17004</td>\n      <td>2010</td>\n      <td>8</td>\n      <td>8</td>\n      <td>29.0</td>\n      <td>17.3</td>\n      <td>2010-08-08</td>\n    </tr>\n    <tr>\n      <th>18</th>\n      <td>MX17004</td>\n      <td>2010</td>\n      <td>8</td>\n      <td>13</td>\n      <td>29.8</td>\n      <td>16.5</td>\n      <td>2010-08-13</td>\n    </tr>\n    <tr>\n      <th>19</th>\n      <td>MX17004</td>\n      <td>2010</td>\n      <td>8</td>\n      <td>25</td>\n      <td>29.7</td>\n      <td>15.6</td>\n      <td>2010-08-25</td>\n    </tr>\n    <tr>\n      <th>20</th>\n      <td>MX17004</td>\n      <td>2010</td>\n      <td>8</td>\n      <td>31</td>\n      <td>25.4</td>\n      <td>15.4</td>\n      <td>2010-08-31</td>\n    </tr>\n    <tr>\n      <th>21</th>\n      <td>MX17004</td>\n      <td>2010</td>\n      <td>10</td>\n      <td>5</td>\n      <td>27.0</td>\n      <td>14.0</td>\n      <td>2010-10-05</td>\n    </tr>\n    <tr>\n      <th>22</th>\n      <td>MX17004</td>\n      <td>2010</td>\n      <td>10</td>\n      <td>14</td>\n      <td>29.5</td>\n      <td>13.0</td>\n      <td>2010-10-14</td>\n    </tr>\n    <tr>\n      <th>23</th>\n      <td>MX17004</td>\n      <td>2010</td>\n      <td>10</td>\n      <td>7</td>\n      <td>28.1</td>\n      <td>12.9</td>\n      <td>2010-10-07</td>\n    </tr>\n    <tr>\n      <th>24</th>\n      <td>MX17004</td>\n      <td>2010</td>\n      <td>10</td>\n      <td>15</td>\n      <td>28.7</td>\n      <td>10.5</td>\n      <td>2010-10-15</td>\n    </tr>\n    <tr>\n      <th>25</th>\n      <td>MX17004</td>\n      <td>2010</td>\n      <td>10</td>\n      <td>28</td>\n      <td>31.2</td>\n      <td>15.0</td>\n      <td>2010-10-28</td>\n    </tr>\n    <tr>\n      <th>26</th>\n      <td>MX17004</td>\n      <td>2010</td>\n      <td>11</td>\n      <td>2</td>\n      <td>31.3</td>\n      <td>16.3</td>\n      <td>2010-11-02</td>\n    </tr>\n    <tr>\n      <th>27</th>\n      <td>MX17004</td>\n      <td>2010</td>\n      <td>11</td>\n      <td>5</td>\n      <td>26.3</td>\n      <td>7.9</td>\n      <td>2010-11-05</td>\n    </tr>\n    <tr>\n      <th>28</th>\n      <td>MX17004</td>\n      <td>2010</td>\n      <td>11</td>\n      <td>27</td>\n      <td>27.7</td>\n      <td>14.2</td>\n      <td>2010-11-27</td>\n    </tr>\n    <tr>\n      <th>29</th>\n      <td>MX17004</td>\n      <td>2010</td>\n      <td>11</td>\n      <td>4</td>\n      <td>27.2</td>\n      <td>12.0</td>\n      <td>2010-11-04</td>\n    </tr>\n    <tr>\n      <th>30</th>\n      <td>MX17004</td>\n      <td>2010</td>\n      <td>11</td>\n      <td>26</td>\n      <td>28.1</td>\n      <td>12.1</td>\n      <td>2010-11-26</td>\n    </tr>\n    <tr>\n      <th>31</th>\n      <td>MX17004</td>\n      <td>2010</td>\n      <td>12</td>\n      <td>1</td>\n      <td>29.9</td>\n      <td>13.8</td>\n      <td>2010-12-01</td>\n    </tr>\n    <tr>\n      <th>32</th>\n      <td>MX17004</td>\n      <td>2010</td>\n      <td>12</td>\n      <td>6</td>\n      <td>27.8</td>\n      <td>10.5</td>\n      <td>2010-12-06</td>\n    </tr>\n  </tbody>\n</table>\n</div>"
     },
     "execution_count": 39,
     "metadata": {},
     "output_type": "execute_result"
    }
   ],
   "source": [
    "weather_data"
   ],
   "metadata": {
    "collapsed": false,
    "ExecuteTime": {
     "end_time": "2023-11-08T11:26:49.278181780Z",
     "start_time": "2023-11-08T11:26:49.263824987Z"
    }
   },
   "id": "23987c75ad45dd37"
  },
  {
   "cell_type": "code",
   "execution_count": 40,
   "outputs": [],
   "source": [
    "weather_data.to_csv('data/ds_l2/clean_data.csv')"
   ],
   "metadata": {
    "collapsed": false,
    "ExecuteTime": {
     "end_time": "2023-11-08T11:28:53.255606996Z",
     "start_time": "2023-11-08T11:28:53.213341304Z"
    }
   },
   "id": "a80e3bf71db0e968"
  },
  {
   "cell_type": "code",
   "execution_count": 41,
   "outputs": [
    {
     "data": {
      "text/plain": "     year            artist                    track  time date.entered  wk1  \\\n0    2000             2 Pac  Baby Don't Cry (Keep...  4:22   2000-02-26   87   \n1    2000           2Ge+her  The Hardest Part Of ...  3:15   2000-09-02   91   \n2    2000      3 Doors Down               Kryptonite  3:53   2000-04-08   81   \n3    2000      3 Doors Down                    Loser  4:24   2000-10-21   76   \n4    2000          504 Boyz            Wobble Wobble  3:35   2000-04-15   57   \n..    ...               ...                      ...   ...          ...  ...   \n312  2000       Yankee Grey     Another Nine Minutes  3:10   2000-04-29   86   \n313  2000  Yearwood, Trisha          Real Live Woman  3:55   2000-04-01   85   \n314  2000   Ying Yang Twins  Whistle While You Tw...  4:19   2000-03-18   95   \n315  2000     Zombie Nation            Kernkraft 400  3:30   2000-09-02   99   \n316  2000   matchbox twenty                     Bent  4:12   2000-04-29   60   \n\n      wk2   wk3   wk4   wk5  ...  wk67  wk68  wk69  wk70  wk71  wk72  wk73  \\\n0    82.0  72.0  77.0  87.0  ...   NaN   NaN   NaN   NaN   NaN   NaN   NaN   \n1    87.0  92.0   NaN   NaN  ...   NaN   NaN   NaN   NaN   NaN   NaN   NaN   \n2    70.0  68.0  67.0  66.0  ...   NaN   NaN   NaN   NaN   NaN   NaN   NaN   \n3    76.0  72.0  69.0  67.0  ...   NaN   NaN   NaN   NaN   NaN   NaN   NaN   \n4    34.0  25.0  17.0  17.0  ...   NaN   NaN   NaN   NaN   NaN   NaN   NaN   \n..    ...   ...   ...   ...  ...   ...   ...   ...   ...   ...   ...   ...   \n312  83.0  77.0  74.0  83.0  ...   NaN   NaN   NaN   NaN   NaN   NaN   NaN   \n313  83.0  83.0  82.0  81.0  ...   NaN   NaN   NaN   NaN   NaN   NaN   NaN   \n314  94.0  91.0  85.0  84.0  ...   NaN   NaN   NaN   NaN   NaN   NaN   NaN   \n315  99.0   NaN   NaN   NaN  ...   NaN   NaN   NaN   NaN   NaN   NaN   NaN   \n316  37.0  29.0  24.0  22.0  ...   NaN   NaN   NaN   NaN   NaN   NaN   NaN   \n\n     wk74  wk75  wk76  \n0     NaN   NaN   NaN  \n1     NaN   NaN   NaN  \n2     NaN   NaN   NaN  \n3     NaN   NaN   NaN  \n4     NaN   NaN   NaN  \n..    ...   ...   ...  \n312   NaN   NaN   NaN  \n313   NaN   NaN   NaN  \n314   NaN   NaN   NaN  \n315   NaN   NaN   NaN  \n316   NaN   NaN   NaN  \n\n[317 rows x 81 columns]",
      "text/html": "<div>\n<style scoped>\n    .dataframe tbody tr th:only-of-type {\n        vertical-align: middle;\n    }\n\n    .dataframe tbody tr th {\n        vertical-align: top;\n    }\n\n    .dataframe thead th {\n        text-align: right;\n    }\n</style>\n<table border=\"1\" class=\"dataframe\">\n  <thead>\n    <tr style=\"text-align: right;\">\n      <th></th>\n      <th>year</th>\n      <th>artist</th>\n      <th>track</th>\n      <th>time</th>\n      <th>date.entered</th>\n      <th>wk1</th>\n      <th>wk2</th>\n      <th>wk3</th>\n      <th>wk4</th>\n      <th>wk5</th>\n      <th>...</th>\n      <th>wk67</th>\n      <th>wk68</th>\n      <th>wk69</th>\n      <th>wk70</th>\n      <th>wk71</th>\n      <th>wk72</th>\n      <th>wk73</th>\n      <th>wk74</th>\n      <th>wk75</th>\n      <th>wk76</th>\n    </tr>\n  </thead>\n  <tbody>\n    <tr>\n      <th>0</th>\n      <td>2000</td>\n      <td>2 Pac</td>\n      <td>Baby Don't Cry (Keep...</td>\n      <td>4:22</td>\n      <td>2000-02-26</td>\n      <td>87</td>\n      <td>82.0</td>\n      <td>72.0</td>\n      <td>77.0</td>\n      <td>87.0</td>\n      <td>...</td>\n      <td>NaN</td>\n      <td>NaN</td>\n      <td>NaN</td>\n      <td>NaN</td>\n      <td>NaN</td>\n      <td>NaN</td>\n      <td>NaN</td>\n      <td>NaN</td>\n      <td>NaN</td>\n      <td>NaN</td>\n    </tr>\n    <tr>\n      <th>1</th>\n      <td>2000</td>\n      <td>2Ge+her</td>\n      <td>The Hardest Part Of ...</td>\n      <td>3:15</td>\n      <td>2000-09-02</td>\n      <td>91</td>\n      <td>87.0</td>\n      <td>92.0</td>\n      <td>NaN</td>\n      <td>NaN</td>\n      <td>...</td>\n      <td>NaN</td>\n      <td>NaN</td>\n      <td>NaN</td>\n      <td>NaN</td>\n      <td>NaN</td>\n      <td>NaN</td>\n      <td>NaN</td>\n      <td>NaN</td>\n      <td>NaN</td>\n      <td>NaN</td>\n    </tr>\n    <tr>\n      <th>2</th>\n      <td>2000</td>\n      <td>3 Doors Down</td>\n      <td>Kryptonite</td>\n      <td>3:53</td>\n      <td>2000-04-08</td>\n      <td>81</td>\n      <td>70.0</td>\n      <td>68.0</td>\n      <td>67.0</td>\n      <td>66.0</td>\n      <td>...</td>\n      <td>NaN</td>\n      <td>NaN</td>\n      <td>NaN</td>\n      <td>NaN</td>\n      <td>NaN</td>\n      <td>NaN</td>\n      <td>NaN</td>\n      <td>NaN</td>\n      <td>NaN</td>\n      <td>NaN</td>\n    </tr>\n    <tr>\n      <th>3</th>\n      <td>2000</td>\n      <td>3 Doors Down</td>\n      <td>Loser</td>\n      <td>4:24</td>\n      <td>2000-10-21</td>\n      <td>76</td>\n      <td>76.0</td>\n      <td>72.0</td>\n      <td>69.0</td>\n      <td>67.0</td>\n      <td>...</td>\n      <td>NaN</td>\n      <td>NaN</td>\n      <td>NaN</td>\n      <td>NaN</td>\n      <td>NaN</td>\n      <td>NaN</td>\n      <td>NaN</td>\n      <td>NaN</td>\n      <td>NaN</td>\n      <td>NaN</td>\n    </tr>\n    <tr>\n      <th>4</th>\n      <td>2000</td>\n      <td>504 Boyz</td>\n      <td>Wobble Wobble</td>\n      <td>3:35</td>\n      <td>2000-04-15</td>\n      <td>57</td>\n      <td>34.0</td>\n      <td>25.0</td>\n      <td>17.0</td>\n      <td>17.0</td>\n      <td>...</td>\n      <td>NaN</td>\n      <td>NaN</td>\n      <td>NaN</td>\n      <td>NaN</td>\n      <td>NaN</td>\n      <td>NaN</td>\n      <td>NaN</td>\n      <td>NaN</td>\n      <td>NaN</td>\n      <td>NaN</td>\n    </tr>\n    <tr>\n      <th>...</th>\n      <td>...</td>\n      <td>...</td>\n      <td>...</td>\n      <td>...</td>\n      <td>...</td>\n      <td>...</td>\n      <td>...</td>\n      <td>...</td>\n      <td>...</td>\n      <td>...</td>\n      <td>...</td>\n      <td>...</td>\n      <td>...</td>\n      <td>...</td>\n      <td>...</td>\n      <td>...</td>\n      <td>...</td>\n      <td>...</td>\n      <td>...</td>\n      <td>...</td>\n      <td>...</td>\n    </tr>\n    <tr>\n      <th>312</th>\n      <td>2000</td>\n      <td>Yankee Grey</td>\n      <td>Another Nine Minutes</td>\n      <td>3:10</td>\n      <td>2000-04-29</td>\n      <td>86</td>\n      <td>83.0</td>\n      <td>77.0</td>\n      <td>74.0</td>\n      <td>83.0</td>\n      <td>...</td>\n      <td>NaN</td>\n      <td>NaN</td>\n      <td>NaN</td>\n      <td>NaN</td>\n      <td>NaN</td>\n      <td>NaN</td>\n      <td>NaN</td>\n      <td>NaN</td>\n      <td>NaN</td>\n      <td>NaN</td>\n    </tr>\n    <tr>\n      <th>313</th>\n      <td>2000</td>\n      <td>Yearwood, Trisha</td>\n      <td>Real Live Woman</td>\n      <td>3:55</td>\n      <td>2000-04-01</td>\n      <td>85</td>\n      <td>83.0</td>\n      <td>83.0</td>\n      <td>82.0</td>\n      <td>81.0</td>\n      <td>...</td>\n      <td>NaN</td>\n      <td>NaN</td>\n      <td>NaN</td>\n      <td>NaN</td>\n      <td>NaN</td>\n      <td>NaN</td>\n      <td>NaN</td>\n      <td>NaN</td>\n      <td>NaN</td>\n      <td>NaN</td>\n    </tr>\n    <tr>\n      <th>314</th>\n      <td>2000</td>\n      <td>Ying Yang Twins</td>\n      <td>Whistle While You Tw...</td>\n      <td>4:19</td>\n      <td>2000-03-18</td>\n      <td>95</td>\n      <td>94.0</td>\n      <td>91.0</td>\n      <td>85.0</td>\n      <td>84.0</td>\n      <td>...</td>\n      <td>NaN</td>\n      <td>NaN</td>\n      <td>NaN</td>\n      <td>NaN</td>\n      <td>NaN</td>\n      <td>NaN</td>\n      <td>NaN</td>\n      <td>NaN</td>\n      <td>NaN</td>\n      <td>NaN</td>\n    </tr>\n    <tr>\n      <th>315</th>\n      <td>2000</td>\n      <td>Zombie Nation</td>\n      <td>Kernkraft 400</td>\n      <td>3:30</td>\n      <td>2000-09-02</td>\n      <td>99</td>\n      <td>99.0</td>\n      <td>NaN</td>\n      <td>NaN</td>\n      <td>NaN</td>\n      <td>...</td>\n      <td>NaN</td>\n      <td>NaN</td>\n      <td>NaN</td>\n      <td>NaN</td>\n      <td>NaN</td>\n      <td>NaN</td>\n      <td>NaN</td>\n      <td>NaN</td>\n      <td>NaN</td>\n      <td>NaN</td>\n    </tr>\n    <tr>\n      <th>316</th>\n      <td>2000</td>\n      <td>matchbox twenty</td>\n      <td>Bent</td>\n      <td>4:12</td>\n      <td>2000-04-29</td>\n      <td>60</td>\n      <td>37.0</td>\n      <td>29.0</td>\n      <td>24.0</td>\n      <td>22.0</td>\n      <td>...</td>\n      <td>NaN</td>\n      <td>NaN</td>\n      <td>NaN</td>\n      <td>NaN</td>\n      <td>NaN</td>\n      <td>NaN</td>\n      <td>NaN</td>\n      <td>NaN</td>\n      <td>NaN</td>\n      <td>NaN</td>\n    </tr>\n  </tbody>\n</table>\n<p>317 rows × 81 columns</p>\n</div>"
     },
     "execution_count": 41,
     "metadata": {},
     "output_type": "execute_result"
    }
   ],
   "source": [
    "bilboard = pd.read_csv('data/ds_l2/billboard.csv')\n",
    "bilboard"
   ],
   "metadata": {
    "collapsed": false,
    "ExecuteTime": {
     "end_time": "2023-11-08T11:41:12.538183828Z",
     "start_time": "2023-11-08T11:41:12.505835620Z"
    }
   },
   "id": "68a425bf02ca7786"
  },
  {
   "cell_type": "code",
   "execution_count": 43,
   "outputs": [
    {
     "data": {
      "text/plain": "    year artist   track  time date.entered  wk1   wk2   wk3   wk4   wk5  ...  \\\n62  2000  Creed  Higher  5:16   1999-09-11   81  77.0  73.0  63.0  61.0  ...   \n\n    wk67  wk68  wk69  wk70  wk71  wk72  wk73  wk74  wk75  wk76  \n62   NaN   NaN   NaN   NaN   NaN   NaN   NaN   NaN   NaN   NaN  \n\n[1 rows x 81 columns]",
      "text/html": "<div>\n<style scoped>\n    .dataframe tbody tr th:only-of-type {\n        vertical-align: middle;\n    }\n\n    .dataframe tbody tr th {\n        vertical-align: top;\n    }\n\n    .dataframe thead th {\n        text-align: right;\n    }\n</style>\n<table border=\"1\" class=\"dataframe\">\n  <thead>\n    <tr style=\"text-align: right;\">\n      <th></th>\n      <th>year</th>\n      <th>artist</th>\n      <th>track</th>\n      <th>time</th>\n      <th>date.entered</th>\n      <th>wk1</th>\n      <th>wk2</th>\n      <th>wk3</th>\n      <th>wk4</th>\n      <th>wk5</th>\n      <th>...</th>\n      <th>wk67</th>\n      <th>wk68</th>\n      <th>wk69</th>\n      <th>wk70</th>\n      <th>wk71</th>\n      <th>wk72</th>\n      <th>wk73</th>\n      <th>wk74</th>\n      <th>wk75</th>\n      <th>wk76</th>\n    </tr>\n  </thead>\n  <tbody>\n    <tr>\n      <th>62</th>\n      <td>2000</td>\n      <td>Creed</td>\n      <td>Higher</td>\n      <td>5:16</td>\n      <td>1999-09-11</td>\n      <td>81</td>\n      <td>77.0</td>\n      <td>73.0</td>\n      <td>63.0</td>\n      <td>61.0</td>\n      <td>...</td>\n      <td>NaN</td>\n      <td>NaN</td>\n      <td>NaN</td>\n      <td>NaN</td>\n      <td>NaN</td>\n      <td>NaN</td>\n      <td>NaN</td>\n      <td>NaN</td>\n      <td>NaN</td>\n      <td>NaN</td>\n    </tr>\n  </tbody>\n</table>\n<p>1 rows × 81 columns</p>\n</div>"
     },
     "execution_count": 43,
     "metadata": {},
     "output_type": "execute_result"
    }
   ],
   "source": [
    "bilboard[bilboard.wk65.notna()]"
   ],
   "metadata": {
    "collapsed": false,
    "ExecuteTime": {
     "end_time": "2023-11-08T11:43:09.266569482Z",
     "start_time": "2023-11-08T11:43:09.261671620Z"
    }
   },
   "id": "678a358b55dcfd3b"
  },
  {
   "cell_type": "code",
   "execution_count": 50,
   "outputs": [],
   "source": [
    "bilboard = bilboard.rename(columns={'date.entered': 'date_entered'})"
   ],
   "metadata": {
    "collapsed": false,
    "ExecuteTime": {
     "end_time": "2023-11-08T11:50:02.389948634Z",
     "start_time": "2023-11-08T11:50:02.378079562Z"
    }
   },
   "id": "cdf2d5fab7c2b46c"
  },
  {
   "cell_type": "code",
   "execution_count": 52,
   "outputs": [],
   "source": [
    "bilboard_tidy = bilboard.melt(\n",
    "    id_vars=['year', 'artist', 'track', 'time', 'date_entered'],\n",
    "    var_name='week',\n",
    "    value_name='position')"
   ],
   "metadata": {
    "collapsed": false,
    "ExecuteTime": {
     "end_time": "2023-11-08T11:53:55.771633474Z",
     "start_time": "2023-11-08T11:53:55.724475449Z"
    }
   },
   "id": "d1c19213e4f1ae23"
  },
  {
   "cell_type": "code",
   "execution_count": 54,
   "outputs": [
    {
     "data": {
      "text/plain": "True"
     },
     "execution_count": 54,
     "metadata": {},
     "output_type": "execute_result"
    }
   ],
   "source": [
    "bilboard_tidy.week.str.startswith('wk').all()"
   ],
   "metadata": {
    "collapsed": false,
    "ExecuteTime": {
     "end_time": "2023-11-08T11:55:09.107899905Z",
     "start_time": "2023-11-08T11:55:09.065623466Z"
    }
   },
   "id": "93c08e76d57e3a64"
  },
  {
   "cell_type": "code",
   "execution_count": 56,
   "outputs": [],
   "source": [
    "bilboard_tidy.week = bilboard_tidy.week.str.slice(2).astype(int)"
   ],
   "metadata": {
    "collapsed": false,
    "ExecuteTime": {
     "end_time": "2023-11-08T11:56:56.315808881Z",
     "start_time": "2023-11-08T11:56:56.273563202Z"
    }
   },
   "id": "7f50034a26557a2e"
  },
  {
   "cell_type": "code",
   "execution_count": 57,
   "outputs": [
    {
     "data": {
      "text/plain": "       year            artist                    track  time date_entered  \\\n0      2000             2 Pac  Baby Don't Cry (Keep...  4:22   2000-02-26   \n1      2000           2Ge+her  The Hardest Part Of ...  3:15   2000-09-02   \n2      2000      3 Doors Down               Kryptonite  3:53   2000-04-08   \n3      2000      3 Doors Down                    Loser  4:24   2000-10-21   \n4      2000          504 Boyz            Wobble Wobble  3:35   2000-04-15   \n...     ...               ...                      ...   ...          ...   \n24087  2000       Yankee Grey     Another Nine Minutes  3:10   2000-04-29   \n24088  2000  Yearwood, Trisha          Real Live Woman  3:55   2000-04-01   \n24089  2000   Ying Yang Twins  Whistle While You Tw...  4:19   2000-03-18   \n24090  2000     Zombie Nation            Kernkraft 400  3:30   2000-09-02   \n24091  2000   matchbox twenty                     Bent  4:12   2000-04-29   \n\n       week  position  \n0         1      87.0  \n1         1      91.0  \n2         1      81.0  \n3         1      76.0  \n4         1      57.0  \n...     ...       ...  \n24087    76       NaN  \n24088    76       NaN  \n24089    76       NaN  \n24090    76       NaN  \n24091    76       NaN  \n\n[24092 rows x 7 columns]",
      "text/html": "<div>\n<style scoped>\n    .dataframe tbody tr th:only-of-type {\n        vertical-align: middle;\n    }\n\n    .dataframe tbody tr th {\n        vertical-align: top;\n    }\n\n    .dataframe thead th {\n        text-align: right;\n    }\n</style>\n<table border=\"1\" class=\"dataframe\">\n  <thead>\n    <tr style=\"text-align: right;\">\n      <th></th>\n      <th>year</th>\n      <th>artist</th>\n      <th>track</th>\n      <th>time</th>\n      <th>date_entered</th>\n      <th>week</th>\n      <th>position</th>\n    </tr>\n  </thead>\n  <tbody>\n    <tr>\n      <th>0</th>\n      <td>2000</td>\n      <td>2 Pac</td>\n      <td>Baby Don't Cry (Keep...</td>\n      <td>4:22</td>\n      <td>2000-02-26</td>\n      <td>1</td>\n      <td>87.0</td>\n    </tr>\n    <tr>\n      <th>1</th>\n      <td>2000</td>\n      <td>2Ge+her</td>\n      <td>The Hardest Part Of ...</td>\n      <td>3:15</td>\n      <td>2000-09-02</td>\n      <td>1</td>\n      <td>91.0</td>\n    </tr>\n    <tr>\n      <th>2</th>\n      <td>2000</td>\n      <td>3 Doors Down</td>\n      <td>Kryptonite</td>\n      <td>3:53</td>\n      <td>2000-04-08</td>\n      <td>1</td>\n      <td>81.0</td>\n    </tr>\n    <tr>\n      <th>3</th>\n      <td>2000</td>\n      <td>3 Doors Down</td>\n      <td>Loser</td>\n      <td>4:24</td>\n      <td>2000-10-21</td>\n      <td>1</td>\n      <td>76.0</td>\n    </tr>\n    <tr>\n      <th>4</th>\n      <td>2000</td>\n      <td>504 Boyz</td>\n      <td>Wobble Wobble</td>\n      <td>3:35</td>\n      <td>2000-04-15</td>\n      <td>1</td>\n      <td>57.0</td>\n    </tr>\n    <tr>\n      <th>...</th>\n      <td>...</td>\n      <td>...</td>\n      <td>...</td>\n      <td>...</td>\n      <td>...</td>\n      <td>...</td>\n      <td>...</td>\n    </tr>\n    <tr>\n      <th>24087</th>\n      <td>2000</td>\n      <td>Yankee Grey</td>\n      <td>Another Nine Minutes</td>\n      <td>3:10</td>\n      <td>2000-04-29</td>\n      <td>76</td>\n      <td>NaN</td>\n    </tr>\n    <tr>\n      <th>24088</th>\n      <td>2000</td>\n      <td>Yearwood, Trisha</td>\n      <td>Real Live Woman</td>\n      <td>3:55</td>\n      <td>2000-04-01</td>\n      <td>76</td>\n      <td>NaN</td>\n    </tr>\n    <tr>\n      <th>24089</th>\n      <td>2000</td>\n      <td>Ying Yang Twins</td>\n      <td>Whistle While You Tw...</td>\n      <td>4:19</td>\n      <td>2000-03-18</td>\n      <td>76</td>\n      <td>NaN</td>\n    </tr>\n    <tr>\n      <th>24090</th>\n      <td>2000</td>\n      <td>Zombie Nation</td>\n      <td>Kernkraft 400</td>\n      <td>3:30</td>\n      <td>2000-09-02</td>\n      <td>76</td>\n      <td>NaN</td>\n    </tr>\n    <tr>\n      <th>24091</th>\n      <td>2000</td>\n      <td>matchbox twenty</td>\n      <td>Bent</td>\n      <td>4:12</td>\n      <td>2000-04-29</td>\n      <td>76</td>\n      <td>NaN</td>\n    </tr>\n  </tbody>\n</table>\n<p>24092 rows × 7 columns</p>\n</div>"
     },
     "execution_count": 57,
     "metadata": {},
     "output_type": "execute_result"
    }
   ],
   "source": [
    "bilboard_tidy"
   ],
   "metadata": {
    "collapsed": false,
    "ExecuteTime": {
     "end_time": "2023-11-08T11:57:02.608050645Z",
     "start_time": "2023-11-08T11:57:02.584944626Z"
    }
   },
   "id": "f282be19b8c63e3b"
  },
  {
   "cell_type": "code",
   "execution_count": 58,
   "outputs": [
    {
     "data": {
      "text/plain": "array([2000])"
     },
     "execution_count": 58,
     "metadata": {},
     "output_type": "execute_result"
    }
   ],
   "source": [
    "bilboard_tidy.year.unique()"
   ],
   "metadata": {
    "collapsed": false,
    "ExecuteTime": {
     "end_time": "2023-11-08T11:58:57.415957717Z",
     "start_time": "2023-11-08T11:58:57.370253366Z"
    }
   },
   "id": "316e05d0d73aad03"
  },
  {
   "cell_type": "code",
   "execution_count": 59,
   "outputs": [],
   "source": [
    "bilboard_tidy = bilboard_tidy.dropna()"
   ],
   "metadata": {
    "collapsed": false,
    "ExecuteTime": {
     "end_time": "2023-11-08T12:00:54.265941174Z",
     "start_time": "2023-11-08T12:00:54.213285614Z"
    }
   },
   "id": "3d0e228b32cf4c2d"
  },
  {
   "cell_type": "code",
   "execution_count": 60,
   "outputs": [
    {
     "data": {
      "text/plain": "       year        artist                    track  time date_entered  week  \\\n0      2000         2 Pac  Baby Don't Cry (Keep...  4:22   2000-02-26     1   \n1      2000       2Ge+her  The Hardest Part Of ...  3:15   2000-09-02     1   \n2      2000  3 Doors Down               Kryptonite  3:53   2000-04-08     1   \n3      2000  3 Doors Down                    Loser  4:24   2000-10-21     1   \n4      2000      504 Boyz            Wobble Wobble  3:35   2000-04-15     1   \n...     ...           ...                      ...   ...          ...   ...   \n19716  2000         Creed                   Higher  5:16   1999-09-11    63   \n19833  2000      Lonestar                   Amazed  4:25   1999-06-05    63   \n20033  2000         Creed                   Higher  5:16   1999-09-11    64   \n20150  2000      Lonestar                   Amazed  4:25   1999-06-05    64   \n20350  2000         Creed                   Higher  5:16   1999-09-11    65   \n\n       position  \n0          87.0  \n1          91.0  \n2          81.0  \n3          76.0  \n4          57.0  \n...         ...  \n19716      50.0  \n19833      45.0  \n20033      50.0  \n20150      50.0  \n20350      49.0  \n\n[5307 rows x 7 columns]",
      "text/html": "<div>\n<style scoped>\n    .dataframe tbody tr th:only-of-type {\n        vertical-align: middle;\n    }\n\n    .dataframe tbody tr th {\n        vertical-align: top;\n    }\n\n    .dataframe thead th {\n        text-align: right;\n    }\n</style>\n<table border=\"1\" class=\"dataframe\">\n  <thead>\n    <tr style=\"text-align: right;\">\n      <th></th>\n      <th>year</th>\n      <th>artist</th>\n      <th>track</th>\n      <th>time</th>\n      <th>date_entered</th>\n      <th>week</th>\n      <th>position</th>\n    </tr>\n  </thead>\n  <tbody>\n    <tr>\n      <th>0</th>\n      <td>2000</td>\n      <td>2 Pac</td>\n      <td>Baby Don't Cry (Keep...</td>\n      <td>4:22</td>\n      <td>2000-02-26</td>\n      <td>1</td>\n      <td>87.0</td>\n    </tr>\n    <tr>\n      <th>1</th>\n      <td>2000</td>\n      <td>2Ge+her</td>\n      <td>The Hardest Part Of ...</td>\n      <td>3:15</td>\n      <td>2000-09-02</td>\n      <td>1</td>\n      <td>91.0</td>\n    </tr>\n    <tr>\n      <th>2</th>\n      <td>2000</td>\n      <td>3 Doors Down</td>\n      <td>Kryptonite</td>\n      <td>3:53</td>\n      <td>2000-04-08</td>\n      <td>1</td>\n      <td>81.0</td>\n    </tr>\n    <tr>\n      <th>3</th>\n      <td>2000</td>\n      <td>3 Doors Down</td>\n      <td>Loser</td>\n      <td>4:24</td>\n      <td>2000-10-21</td>\n      <td>1</td>\n      <td>76.0</td>\n    </tr>\n    <tr>\n      <th>4</th>\n      <td>2000</td>\n      <td>504 Boyz</td>\n      <td>Wobble Wobble</td>\n      <td>3:35</td>\n      <td>2000-04-15</td>\n      <td>1</td>\n      <td>57.0</td>\n    </tr>\n    <tr>\n      <th>...</th>\n      <td>...</td>\n      <td>...</td>\n      <td>...</td>\n      <td>...</td>\n      <td>...</td>\n      <td>...</td>\n      <td>...</td>\n    </tr>\n    <tr>\n      <th>19716</th>\n      <td>2000</td>\n      <td>Creed</td>\n      <td>Higher</td>\n      <td>5:16</td>\n      <td>1999-09-11</td>\n      <td>63</td>\n      <td>50.0</td>\n    </tr>\n    <tr>\n      <th>19833</th>\n      <td>2000</td>\n      <td>Lonestar</td>\n      <td>Amazed</td>\n      <td>4:25</td>\n      <td>1999-06-05</td>\n      <td>63</td>\n      <td>45.0</td>\n    </tr>\n    <tr>\n      <th>20033</th>\n      <td>2000</td>\n      <td>Creed</td>\n      <td>Higher</td>\n      <td>5:16</td>\n      <td>1999-09-11</td>\n      <td>64</td>\n      <td>50.0</td>\n    </tr>\n    <tr>\n      <th>20150</th>\n      <td>2000</td>\n      <td>Lonestar</td>\n      <td>Amazed</td>\n      <td>4:25</td>\n      <td>1999-06-05</td>\n      <td>64</td>\n      <td>50.0</td>\n    </tr>\n    <tr>\n      <th>20350</th>\n      <td>2000</td>\n      <td>Creed</td>\n      <td>Higher</td>\n      <td>5:16</td>\n      <td>1999-09-11</td>\n      <td>65</td>\n      <td>49.0</td>\n    </tr>\n  </tbody>\n</table>\n<p>5307 rows × 7 columns</p>\n</div>"
     },
     "execution_count": 60,
     "metadata": {},
     "output_type": "execute_result"
    }
   ],
   "source": [
    "bilboard_tidy"
   ],
   "metadata": {
    "collapsed": false,
    "ExecuteTime": {
     "end_time": "2023-11-08T12:01:00.015372795Z",
     "start_time": "2023-11-08T12:00:59.997055898Z"
    }
   },
   "id": "adc99fa907afb946"
  },
  {
   "cell_type": "code",
   "execution_count": 61,
   "outputs": [
    {
     "data": {
      "text/plain": "      year           artist                    track  time date_entered  week  \\\n2855  2000     3 Doors Down               Kryptonite  3:53   2000-04-08    10   \n2856  2000     3 Doors Down                    Loser  4:24   2000-10-21    10   \n2857  2000         504 Boyz            Wobble Wobble  3:35   2000-04-15    10   \n2858  2000             98^0  Give Me Just One Nig...  3:24   2000-08-19    10   \n2860  2000          Aaliyah            I Don't Wanna  4:15   2000-01-29    10   \n...    ...              ...                      ...   ...          ...   ...   \n3162  2000      Wills, Mark              Back At One  4:00   2000-01-15    10   \n3163  2000   Worley, Darryl  When You Need My Lov...  3:35   2000-06-17    10   \n3164  2000    Wright, Chely                   It Was  3:51   2000-03-04    10   \n3167  2000  Ying Yang Twins  Whistle While You Tw...  4:19   2000-03-18    10   \n3169  2000  matchbox twenty                     Bent  4:12   2000-04-29    10   \n\n      position  \n2855      51.0  \n2856      61.0  \n2857      57.0  \n2858       6.0  \n2860      36.0  \n...        ...  \n3162      46.0  \n3163      80.0  \n3164      98.0  \n3167      89.0  \n3169      12.0  \n\n[244 rows x 7 columns]",
      "text/html": "<div>\n<style scoped>\n    .dataframe tbody tr th:only-of-type {\n        vertical-align: middle;\n    }\n\n    .dataframe tbody tr th {\n        vertical-align: top;\n    }\n\n    .dataframe thead th {\n        text-align: right;\n    }\n</style>\n<table border=\"1\" class=\"dataframe\">\n  <thead>\n    <tr style=\"text-align: right;\">\n      <th></th>\n      <th>year</th>\n      <th>artist</th>\n      <th>track</th>\n      <th>time</th>\n      <th>date_entered</th>\n      <th>week</th>\n      <th>position</th>\n    </tr>\n  </thead>\n  <tbody>\n    <tr>\n      <th>2855</th>\n      <td>2000</td>\n      <td>3 Doors Down</td>\n      <td>Kryptonite</td>\n      <td>3:53</td>\n      <td>2000-04-08</td>\n      <td>10</td>\n      <td>51.0</td>\n    </tr>\n    <tr>\n      <th>2856</th>\n      <td>2000</td>\n      <td>3 Doors Down</td>\n      <td>Loser</td>\n      <td>4:24</td>\n      <td>2000-10-21</td>\n      <td>10</td>\n      <td>61.0</td>\n    </tr>\n    <tr>\n      <th>2857</th>\n      <td>2000</td>\n      <td>504 Boyz</td>\n      <td>Wobble Wobble</td>\n      <td>3:35</td>\n      <td>2000-04-15</td>\n      <td>10</td>\n      <td>57.0</td>\n    </tr>\n    <tr>\n      <th>2858</th>\n      <td>2000</td>\n      <td>98^0</td>\n      <td>Give Me Just One Nig...</td>\n      <td>3:24</td>\n      <td>2000-08-19</td>\n      <td>10</td>\n      <td>6.0</td>\n    </tr>\n    <tr>\n      <th>2860</th>\n      <td>2000</td>\n      <td>Aaliyah</td>\n      <td>I Don't Wanna</td>\n      <td>4:15</td>\n      <td>2000-01-29</td>\n      <td>10</td>\n      <td>36.0</td>\n    </tr>\n    <tr>\n      <th>...</th>\n      <td>...</td>\n      <td>...</td>\n      <td>...</td>\n      <td>...</td>\n      <td>...</td>\n      <td>...</td>\n      <td>...</td>\n    </tr>\n    <tr>\n      <th>3162</th>\n      <td>2000</td>\n      <td>Wills, Mark</td>\n      <td>Back At One</td>\n      <td>4:00</td>\n      <td>2000-01-15</td>\n      <td>10</td>\n      <td>46.0</td>\n    </tr>\n    <tr>\n      <th>3163</th>\n      <td>2000</td>\n      <td>Worley, Darryl</td>\n      <td>When You Need My Lov...</td>\n      <td>3:35</td>\n      <td>2000-06-17</td>\n      <td>10</td>\n      <td>80.0</td>\n    </tr>\n    <tr>\n      <th>3164</th>\n      <td>2000</td>\n      <td>Wright, Chely</td>\n      <td>It Was</td>\n      <td>3:51</td>\n      <td>2000-03-04</td>\n      <td>10</td>\n      <td>98.0</td>\n    </tr>\n    <tr>\n      <th>3167</th>\n      <td>2000</td>\n      <td>Ying Yang Twins</td>\n      <td>Whistle While You Tw...</td>\n      <td>4:19</td>\n      <td>2000-03-18</td>\n      <td>10</td>\n      <td>89.0</td>\n    </tr>\n    <tr>\n      <th>3169</th>\n      <td>2000</td>\n      <td>matchbox twenty</td>\n      <td>Bent</td>\n      <td>4:12</td>\n      <td>2000-04-29</td>\n      <td>10</td>\n      <td>12.0</td>\n    </tr>\n  </tbody>\n</table>\n<p>244 rows × 7 columns</p>\n</div>"
     },
     "execution_count": 61,
     "metadata": {},
     "output_type": "execute_result"
    }
   ],
   "source": [
    "bilboard_tidy[bilboard_tidy.week == 10]"
   ],
   "metadata": {
    "collapsed": false,
    "ExecuteTime": {
     "end_time": "2023-11-08T12:02:15.182677035Z",
     "start_time": "2023-11-08T12:02:15.163109664Z"
    }
   },
   "id": "9081989e88aaab2e"
  },
  {
   "cell_type": "code",
   "execution_count": 67,
   "outputs": [
    {
     "data": {
      "text/plain": "[<matplotlib.lines.Line2D at 0x7f5eeae4e050>]"
     },
     "execution_count": 67,
     "metadata": {},
     "output_type": "execute_result"
    },
    {
     "data": {
      "text/plain": "<Figure size 432x288 with 1 Axes>",
      "image/png": "[encoded data removed]"
     },
     "metadata": {
      "needs_background": "light"
     },
     "output_type": "display_data"
    }
   ],
   "source": [
    "plt.plot(bilboard_tidy[(bilboard_tidy.artist == '3 Doors Down') & (bilboard_tidy.track == 'Kryptonite')].position)"
   ],
   "metadata": {
    "collapsed": false,
    "ExecuteTime": {
     "end_time": "2023-11-08T12:06:55.559025656Z",
     "start_time": "2023-11-08T12:06:55.419814672Z"
    }
   },
   "id": "feadeb9882c6773c"
  },
  {
   "cell_type": "code",
   "execution_count": 69,
   "outputs": [
    {
     "data": {
      "text/plain": "                       track            artist  time\n0    Baby Don't Cry (Keep...             2 Pac  4:22\n1    The Hardest Part Of ...           2Ge+her  3:15\n2                 Kryptonite      3 Doors Down  3:53\n3                      Loser      3 Doors Down  4:24\n4              Wobble Wobble          504 Boyz  3:35\n..                       ...               ...   ...\n312     Another Nine Minutes       Yankee Grey  3:10\n313          Real Live Woman  Yearwood, Trisha  3:55\n314  Whistle While You Tw...   Ying Yang Twins  4:19\n315            Kernkraft 400     Zombie Nation  3:30\n316                     Bent   matchbox twenty  4:12\n\n[317 rows x 3 columns]",
      "text/html": "<div>\n<style scoped>\n    .dataframe tbody tr th:only-of-type {\n        vertical-align: middle;\n    }\n\n    .dataframe tbody tr th {\n        vertical-align: top;\n    }\n\n    .dataframe thead th {\n        text-align: right;\n    }\n</style>\n<table border=\"1\" class=\"dataframe\">\n  <thead>\n    <tr style=\"text-align: right;\">\n      <th></th>\n      <th>track</th>\n      <th>artist</th>\n      <th>time</th>\n    </tr>\n  </thead>\n  <tbody>\n    <tr>\n      <th>0</th>\n      <td>Baby Don't Cry (Keep...</td>\n      <td>2 Pac</td>\n      <td>4:22</td>\n    </tr>\n    <tr>\n      <th>1</th>\n      <td>The Hardest Part Of ...</td>\n      <td>2Ge+her</td>\n      <td>3:15</td>\n    </tr>\n    <tr>\n      <th>2</th>\n      <td>Kryptonite</td>\n      <td>3 Doors Down</td>\n      <td>3:53</td>\n    </tr>\n    <tr>\n      <th>3</th>\n      <td>Loser</td>\n      <td>3 Doors Down</td>\n      <td>4:24</td>\n    </tr>\n    <tr>\n      <th>4</th>\n      <td>Wobble Wobble</td>\n      <td>504 Boyz</td>\n      <td>3:35</td>\n    </tr>\n    <tr>\n      <th>...</th>\n      <td>...</td>\n      <td>...</td>\n      <td>...</td>\n    </tr>\n    <tr>\n      <th>312</th>\n      <td>Another Nine Minutes</td>\n      <td>Yankee Grey</td>\n      <td>3:10</td>\n    </tr>\n    <tr>\n      <th>313</th>\n      <td>Real Live Woman</td>\n      <td>Yearwood, Trisha</td>\n      <td>3:55</td>\n    </tr>\n    <tr>\n      <th>314</th>\n      <td>Whistle While You Tw...</td>\n      <td>Ying Yang Twins</td>\n      <td>4:19</td>\n    </tr>\n    <tr>\n      <th>315</th>\n      <td>Kernkraft 400</td>\n      <td>Zombie Nation</td>\n      <td>3:30</td>\n    </tr>\n    <tr>\n      <th>316</th>\n      <td>Bent</td>\n      <td>matchbox twenty</td>\n      <td>4:12</td>\n    </tr>\n  </tbody>\n</table>\n<p>317 rows × 3 columns</p>\n</div>"
     },
     "execution_count": 69,
     "metadata": {},
     "output_type": "execute_result"
    }
   ],
   "source": [
    "bilboard_tidy[['track', 'artist', 'time']].drop_duplicates()"
   ],
   "metadata": {
    "collapsed": false,
    "ExecuteTime": {
     "end_time": "2023-11-08T12:08:54.756099629Z",
     "start_time": "2023-11-08T12:08:54.712057332Z"
    }
   },
   "id": "e2e5a62c55c9afb0"
  },
  {
   "cell_type": "code",
   "execution_count": 74,
   "outputs": [],
   "source": [
    "us_weather_data = pd.read_csv('data/ds_l2/us_weather_year.csv')\n"
   ],
   "metadata": {
    "collapsed": false,
    "ExecuteTime": {
     "end_time": "2023-11-09T09:34:41.516036745Z",
     "start_time": "2023-11-09T09:34:41.458404086Z"
    }
   },
   "id": "4c7ae892252f9eb1"
  },
  {
   "cell_type": "code",
   "execution_count": 89,
   "outputs": [
    {
     "data": {
      "text/plain": "EDT                           object\nMax TemperatureF               int64\nMean TemperatureF              int64\nMin TemperatureF               int64\nMax Dew PointF                 int64\nMeanDew PointF                 int64\nMin DewpointF                  int64\nMax Humidity                   int64\nMean Humidity                  int64\nMin Humidity                   int64\nMax Sea Level PressureIn     float64\nMean Sea Level PressureIn    float64\nMin Sea Level PressureIn     float64\nMax VisibilityMiles            int64\nMean VisibilityMiles           int64\nMin VisibilityMiles            int64\nMax Wind SpeedMPH              int64\nMean Wind SpeedMPH             int64\nMax Gust SpeedMPH            float64\nPrecipitationIn               object\nCloudCover                     int64\nEvents                        object\nWindDirDegrees                 int64\ndtype: object"
     },
     "execution_count": 89,
     "metadata": {},
     "output_type": "execute_result"
    }
   ],
   "source": [
    "us_weather_data.dtypes"
   ],
   "metadata": {
    "collapsed": false,
    "ExecuteTime": {
     "end_time": "2023-11-09T09:40:48.158908306Z",
     "start_time": "2023-11-09T09:40:48.059891854Z"
    }
   },
   "id": "6fadc841ef4555b5"
  },
  {
   "cell_type": "code",
   "execution_count": 78,
   "outputs": [],
   "source": [
    "cols = us_weather_data.columns"
   ],
   "metadata": {
    "collapsed": false,
    "ExecuteTime": {
     "end_time": "2023-11-09T09:35:43.611006256Z",
     "start_time": "2023-11-09T09:35:43.558340358Z"
    }
   },
   "id": "f5a8ce629101aa75"
  },
  {
   "cell_type": "code",
   "execution_count": 83,
   "outputs": [],
   "source": [
    "us_weather_data.columns = [col.strip() for col in us_weather_data.columns]"
   ],
   "metadata": {
    "collapsed": false,
    "ExecuteTime": {
     "end_time": "2023-11-09T09:38:08.064933990Z",
     "start_time": "2023-11-09T09:38:08.056283399Z"
    }
   },
   "id": "202a94f8e85a4fd4"
  },
  {
   "cell_type": "code",
   "execution_count": 85,
   "outputs": [],
   "source": [
    "us_weather_data = us_weather_data.rename(columns=lambda x: x.strip())"
   ],
   "metadata": {
    "collapsed": false,
    "ExecuteTime": {
     "end_time": "2023-11-09T09:39:28.075687468Z",
     "start_time": "2023-11-09T09:39:28.027535673Z"
    }
   },
   "id": "47276863153ea0c7"
  },
  {
   "cell_type": "code",
   "execution_count": 86,
   "outputs": [
    {
     "data": {
      "text/plain": "Index(['EDT', 'Max TemperatureF', 'Mean TemperatureF', 'Min TemperatureF',\n       'Max Dew PointF', 'MeanDew PointF', 'Min DewpointF', 'Max Humidity',\n       'Mean Humidity', 'Min Humidity', 'Max Sea Level PressureIn',\n       'Mean Sea Level PressureIn', 'Min Sea Level PressureIn',\n       'Max VisibilityMiles', 'Mean VisibilityMiles', 'Min VisibilityMiles',\n       'Max Wind SpeedMPH', 'Mean Wind SpeedMPH', 'Max Gust SpeedMPH',\n       'PrecipitationIn', 'CloudCover', 'Events', 'WindDirDegrees'],\n      dtype='object')"
     },
     "execution_count": 86,
     "metadata": {},
     "output_type": "execute_result"
    }
   ],
   "source": [
    "us_weather_data.columns"
   ],
   "metadata": {
    "collapsed": false,
    "ExecuteTime": {
     "end_time": "2023-11-09T09:39:45.127890616Z",
     "start_time": "2023-11-09T09:39:45.056571347Z"
    }
   },
   "id": "d5ddbd3df92d8c18"
  },
  {
   "cell_type": "code",
   "execution_count": 88,
   "outputs": [
    {
     "data": {
      "text/plain": "EDT                           object\nMax TemperatureF               int64\nMean TemperatureF              int64\nMin TemperatureF               int64\nMax Dew PointF                 int64\nMeanDew PointF                 int64\nMin DewpointF                  int64\nMax Humidity                   int64\nMean Humidity                  int64\nMin Humidity                   int64\nMax Sea Level PressureIn     float64\nMean Sea Level PressureIn    float64\nMin Sea Level PressureIn     float64\nMax VisibilityMiles            int64\nMean VisibilityMiles           int64\nMin VisibilityMiles            int64\nMax Wind SpeedMPH              int64\nMean Wind SpeedMPH             int64\nMax Gust SpeedMPH            float64\nPrecipitationIn               object\nCloudCover                     int64\nEvents                        object\nWindDirDegrees                 int64\ndtype: object"
     },
     "execution_count": 88,
     "metadata": {},
     "output_type": "execute_result"
    }
   ],
   "source": [
    "us_weather_data.dtypes"
   ],
   "metadata": {
    "collapsed": false,
    "ExecuteTime": {
     "end_time": "2023-11-09T09:40:39.251343218Z",
     "start_time": "2023-11-09T09:40:39.164293935Z"
    }
   },
   "id": "21f45b919d7cc6e0"
  },
  {
   "cell_type": "code",
   "execution_count": 90,
   "outputs": [],
   "source": [
    "us_weather_data.columns = [\"date\", \"max_temp\", \"mean_temp\", \"min_temp\", \"max_dew\",\n",
    "                           \"mean_dew\", \"min_dew\", \"max_humidity\", \"mean_humidity\",\n",
    "                           \"min_humidity\", \"max_pressure\", \"mean_pressure\",\n",
    "                           \"min_pressure\", \"max_visibility\", \"mean_visibility\",\n",
    "                           \"min_visibility\", \"max_wind\", \"mean_wind\", \"max_gusts\",\n",
    "                           \"precipitation\", \"cloud_cover\", \"events\", \"wind_dir\"]"
   ],
   "metadata": {
    "collapsed": false,
    "ExecuteTime": {
     "end_time": "2023-11-09T09:42:27.408192230Z",
     "start_time": "2023-11-09T09:42:27.320021955Z"
    }
   },
   "id": "84a5dc00f3b230d3"
  },
  {
   "cell_type": "code",
   "execution_count": 93,
   "outputs": [
    {
     "data": {
      "text/plain": "array(['0.00', 'T', '0.03', '0.04', '0.14', '0.86', '0.06', '0.01',\n       '0.51', '0.69', '1.45', '0.38', '0.19', '0.15', '0.49', '0.29',\n       '0.09', '0.90', '0.02', '0.07', '0.13', '0.10', '0.36', '0.27',\n       '0.16', '0.26', '0.31', '0.05', '0.32', '1.85', '0.53', '2.00',\n       '0.92', '1.10', '0.17', '1.13', '0.63', '0.50', '0.71', '0.73',\n       '1.52', '0.47', '0.39', '0.18', '0.77', '0.08', '0.33', '0.44',\n       '0.48', '0.20', '0.12', '0.82', '1.16', '1.73', '0.40', '0.99',\n       '0.30', '1.17'], dtype=object)"
     },
     "execution_count": 93,
     "metadata": {},
     "output_type": "execute_result"
    }
   ],
   "source": [
    "us_weather_data.precipitation.unique()\n"
   ],
   "metadata": {
    "collapsed": false,
    "ExecuteTime": {
     "end_time": "2023-11-09T09:43:27.313434176Z",
     "start_time": "2023-11-09T09:43:27.180371767Z"
    }
   },
   "id": "1a37917ff0160e38"
  },
  {
   "cell_type": "code",
   "execution_count": 97,
   "outputs": [],
   "source": [
    "us_weather_data.loc[us_weather_data.precipitation == 'T', 'precipitation'] = 1e-5"
   ],
   "metadata": {
    "collapsed": false,
    "ExecuteTime": {
     "end_time": "2023-11-09T09:45:25.511522865Z",
     "start_time": "2023-11-09T09:45:25.453223298Z"
    }
   },
   "id": "35fe064865fdd30d"
  },
  {
   "cell_type": "code",
   "execution_count": 98,
   "outputs": [
    {
     "data": {
      "text/plain": "array(['0.00', 1e-05, '0.03', '0.04', '0.14', '0.86', '0.06', '0.01',\n       '0.51', '0.69', '1.45', '0.38', '0.19', '0.15', '0.49', '0.29',\n       '0.09', '0.90', '0.02', '0.07', '0.13', '0.10', '0.36', '0.27',\n       '0.16', '0.26', '0.31', '0.05', '0.32', '1.85', '0.53', '2.00',\n       '0.92', '1.10', '0.17', '1.13', '0.63', '0.50', '0.71', '0.73',\n       '1.52', '0.47', '0.39', '0.18', '0.77', '0.08', '0.33', '0.44',\n       '0.48', '0.20', '0.12', '0.82', '1.16', '1.73', '0.40', '0.99',\n       '0.30', '1.17'], dtype=object)"
     },
     "execution_count": 98,
     "metadata": {},
     "output_type": "execute_result"
    }
   ],
   "source": [
    "us_weather_data.precipitation.unique()"
   ],
   "metadata": {
    "collapsed": false,
    "ExecuteTime": {
     "end_time": "2023-11-09T09:45:40.882465892Z",
     "start_time": "2023-11-09T09:45:40.795417037Z"
    }
   },
   "id": "4f63cd85b812f30a"
  },
  {
   "cell_type": "code",
   "execution_count": 110,
   "outputs": [
    {
     "data": {
      "text/plain": "date\n2012-03-10    0.00000\n2012-03-11    0.00001\n2012-03-12    0.03000\n2012-03-13    0.00000\n2012-03-14    0.00000\n               ...   \n2013-03-06    0.04000\n2013-03-07    0.00000\n2013-03-08    0.00000\n2013-03-09    0.00001\n2013-03-10    0.00000\nName: precipitation, Length: 366, dtype: float64"
     },
     "execution_count": 110,
     "metadata": {},
     "output_type": "execute_result"
    }
   ],
   "source": [
    "us_weather_data.precipitation = us_weather_data.precipitation.astype(float)\n",
    "us_weather_data.precipitation"
   ],
   "metadata": {
    "collapsed": false,
    "ExecuteTime": {
     "end_time": "2023-11-09T09:51:08.761385762Z",
     "start_time": "2023-11-09T09:51:08.733345848Z"
    }
   },
   "id": "b452472b7353bd81"
  },
  {
   "cell_type": "code",
   "execution_count": 111,
   "outputs": [
    {
     "ename": "AttributeError",
     "evalue": "'DataFrame' object has no attribute 'date'",
     "output_type": "error",
     "traceback": [
      "\u001B[0;31m---------------------------------------------------------------------------\u001B[0m",
      "\u001B[0;31mAttributeError\u001B[0m                            Traceback (most recent call last)",
      "\u001B[0;32m/tmp/ipykernel_751744/793479825.py\u001B[0m in \u001B[0;36m<module>\u001B[0;34m\u001B[0m\n\u001B[0;32m----> 1\u001B[0;31m \u001B[0mus_weather_data\u001B[0m\u001B[0;34m.\u001B[0m\u001B[0mdate\u001B[0m \u001B[0;34m=\u001B[0m \u001B[0mpd\u001B[0m\u001B[0;34m.\u001B[0m\u001B[0mto_datetime\u001B[0m\u001B[0;34m(\u001B[0m\u001B[0mus_weather_data\u001B[0m\u001B[0;34m.\u001B[0m\u001B[0mdate\u001B[0m\u001B[0;34m)\u001B[0m\u001B[0;34m\u001B[0m\u001B[0;34m\u001B[0m\u001B[0m\n\u001B[0m\u001B[1;32m      2\u001B[0m \u001B[0mus_weather_data\u001B[0m\u001B[0;34m\u001B[0m\u001B[0;34m\u001B[0m\u001B[0m\n",
      "\u001B[0;32m~/.local/lib/python3.10/site-packages/pandas/core/generic.py\u001B[0m in \u001B[0;36m__getattr__\u001B[0;34m(self, name)\u001B[0m\n\u001B[1;32m   6202\u001B[0m         ):\n\u001B[1;32m   6203\u001B[0m             \u001B[0;32mreturn\u001B[0m \u001B[0mself\u001B[0m\u001B[0;34m[\u001B[0m\u001B[0mname\u001B[0m\u001B[0;34m]\u001B[0m\u001B[0;34m\u001B[0m\u001B[0;34m\u001B[0m\u001B[0m\n\u001B[0;32m-> 6204\u001B[0;31m         \u001B[0;32mreturn\u001B[0m \u001B[0mobject\u001B[0m\u001B[0;34m.\u001B[0m\u001B[0m__getattribute__\u001B[0m\u001B[0;34m(\u001B[0m\u001B[0mself\u001B[0m\u001B[0;34m,\u001B[0m \u001B[0mname\u001B[0m\u001B[0;34m)\u001B[0m\u001B[0;34m\u001B[0m\u001B[0;34m\u001B[0m\u001B[0m\n\u001B[0m\u001B[1;32m   6205\u001B[0m \u001B[0;34m\u001B[0m\u001B[0m\n\u001B[1;32m   6206\u001B[0m     \u001B[0;34m@\u001B[0m\u001B[0mfinal\u001B[0m\u001B[0;34m\u001B[0m\u001B[0;34m\u001B[0m\u001B[0m\n",
      "\u001B[0;31mAttributeError\u001B[0m: 'DataFrame' object has no attribute 'date'"
     ]
    }
   ],
   "source": [
    "us_weather_data.date = pd.to_datetime(us_weather_data.date)\n",
    "us_weather_data"
   ],
   "metadata": {
    "collapsed": false,
    "ExecuteTime": {
     "end_time": "2023-11-09T09:51:12.531602711Z",
     "start_time": "2023-11-09T09:51:12.487073864Z"
    }
   },
   "id": "b97d68272b50718a"
  },
  {
   "cell_type": "code",
   "execution_count": 108,
   "outputs": [
    {
     "ename": "KeyError",
     "evalue": "\"None of ['date'] are in the columns\"",
     "output_type": "error",
     "traceback": [
      "\u001B[0;31m---------------------------------------------------------------------------\u001B[0m",
      "\u001B[0;31mKeyError\u001B[0m                                  Traceback (most recent call last)",
      "\u001B[0;32m/tmp/ipykernel_751744/651582309.py\u001B[0m in \u001B[0;36m<module>\u001B[0;34m\u001B[0m\n\u001B[0;32m----> 1\u001B[0;31m \u001B[0mus_weather_data\u001B[0m \u001B[0;34m=\u001B[0m \u001B[0mus_weather_data\u001B[0m\u001B[0;34m.\u001B[0m\u001B[0mset_index\u001B[0m\u001B[0;34m(\u001B[0m\u001B[0;34m'date'\u001B[0m\u001B[0;34m)\u001B[0m\u001B[0;34m\u001B[0m\u001B[0;34m\u001B[0m\u001B[0m\n\u001B[0m\u001B[1;32m      2\u001B[0m \u001B[0mus_weather_data\u001B[0m\u001B[0;34m\u001B[0m\u001B[0;34m\u001B[0m\u001B[0m\n",
      "\u001B[0;32m~/.local/lib/python3.10/site-packages/pandas/core/frame.py\u001B[0m in \u001B[0;36mset_index\u001B[0;34m(self, keys, drop, append, inplace, verify_integrity)\u001B[0m\n\u001B[1;32m   5868\u001B[0m \u001B[0;34m\u001B[0m\u001B[0m\n\u001B[1;32m   5869\u001B[0m         \u001B[0;32mif\u001B[0m \u001B[0mmissing\u001B[0m\u001B[0;34m:\u001B[0m\u001B[0;34m\u001B[0m\u001B[0;34m\u001B[0m\u001B[0m\n\u001B[0;32m-> 5870\u001B[0;31m             \u001B[0;32mraise\u001B[0m \u001B[0mKeyError\u001B[0m\u001B[0;34m(\u001B[0m\u001B[0;34mf\"None of {missing} are in the columns\"\u001B[0m\u001B[0;34m)\u001B[0m\u001B[0;34m\u001B[0m\u001B[0;34m\u001B[0m\u001B[0m\n\u001B[0m\u001B[1;32m   5871\u001B[0m \u001B[0;34m\u001B[0m\u001B[0m\n\u001B[1;32m   5872\u001B[0m         \u001B[0;32mif\u001B[0m \u001B[0minplace\u001B[0m\u001B[0;34m:\u001B[0m\u001B[0;34m\u001B[0m\u001B[0;34m\u001B[0m\u001B[0m\n",
      "\u001B[0;31mKeyError\u001B[0m: \"None of ['date'] are in the columns\""
     ]
    }
   ],
   "source": [
    "us_weather_data = us_weather_data.set_index('date')\n"
   ],
   "metadata": {
    "collapsed": false,
    "ExecuteTime": {
     "end_time": "2023-11-09T09:50:57.320008793Z",
     "start_time": "2023-11-09T09:50:57.287798471Z"
    }
   },
   "id": "83fc08b2b82b8719"
  },
  {
   "cell_type": "code",
   "execution_count": 115,
   "outputs": [
    {
     "data": {
      "text/plain": "max_temp              80\nmean_temp             62\nmin_temp              44\nmax_dew               58\nmean_dew              52\nmin_dew               43\nmax_humidity          93\nmean_humidity         68\nmin_humidity          42\nmax_pressure       30.15\nmean_pressure       30.1\nmin_pressure       30.04\nmax_visibility        10\nmean_visibility       10\nmin_visibility        10\nmax_wind              16\nmean_wind              6\nmax_gusts           22.0\nprecipitation        0.0\ncloud_cover            0\nevents               NaN\nwind_dir             202\nName: 2012-03-14 00:00:00, dtype: object"
     },
     "execution_count": 115,
     "metadata": {},
     "output_type": "execute_result"
    }
   ],
   "source": [
    "us_weather_data.loc['2012-03-14']\n"
   ],
   "metadata": {
    "collapsed": false,
    "ExecuteTime": {
     "end_time": "2023-11-09T09:52:36.516378130Z",
     "start_time": "2023-11-09T09:52:36.444413308Z"
    }
   },
   "id": "3311b626cd33af29"
  },
  {
   "cell_type": "code",
   "execution_count": 116,
   "outputs": [
    {
     "data": {
      "text/plain": "Index(['max_temp', 'mean_temp', 'min_temp'], dtype='object')"
     },
     "execution_count": 116,
     "metadata": {},
     "output_type": "execute_result"
    }
   ],
   "source": [
    "us_weather_data.columns[us_weather_data.columns.str.contains('temp')]"
   ],
   "metadata": {
    "collapsed": false,
    "ExecuteTime": {
     "end_time": "2023-11-09T09:54:26.834801795Z",
     "start_time": "2023-11-09T09:54:26.751074160Z"
    }
   },
   "id": "d991121e285d1808"
  },
  {
   "cell_type": "code",
   "execution_count": 118,
   "outputs": [
    {
     "data": {
      "text/plain": "            max_temp  mean_temp  min_temp  max_dew  mean_dew  min_dew\ndate                                                                 \n2012-03-10        56         40        24       24        20       16\n2012-03-11        67         49        30       43        31       24\n2012-03-12        71         62        53       59        55       43\n2012-03-13        76         63        50       57        53       47\n2012-03-14        80         62        44       58        52       43\n...              ...        ...       ...      ...       ...      ...\n2013-03-06        32         31        29       27        26       25\n2013-03-07        36         32        28       27        25       22\n2013-03-08        47         35        23       27        24       21\n2013-03-09        56         45        33       32        29       23\n2013-03-10        60         52        50       37        34       32\n\n[366 rows x 6 columns]",
      "text/html": "<div>\n<style scoped>\n    .dataframe tbody tr th:only-of-type {\n        vertical-align: middle;\n    }\n\n    .dataframe tbody tr th {\n        vertical-align: top;\n    }\n\n    .dataframe thead th {\n        text-align: right;\n    }\n</style>\n<table border=\"1\" class=\"dataframe\">\n  <thead>\n    <tr style=\"text-align: right;\">\n      <th></th>\n      <th>max_temp</th>\n      <th>mean_temp</th>\n      <th>min_temp</th>\n      <th>max_dew</th>\n      <th>mean_dew</th>\n      <th>min_dew</th>\n    </tr>\n    <tr>\n      <th>date</th>\n      <th></th>\n      <th></th>\n      <th></th>\n      <th></th>\n      <th></th>\n      <th></th>\n    </tr>\n  </thead>\n  <tbody>\n    <tr>\n      <th>2012-03-10</th>\n      <td>56</td>\n      <td>40</td>\n      <td>24</td>\n      <td>24</td>\n      <td>20</td>\n      <td>16</td>\n    </tr>\n    <tr>\n      <th>2012-03-11</th>\n      <td>67</td>\n      <td>49</td>\n      <td>30</td>\n      <td>43</td>\n      <td>31</td>\n      <td>24</td>\n    </tr>\n    <tr>\n      <th>2012-03-12</th>\n      <td>71</td>\n      <td>62</td>\n      <td>53</td>\n      <td>59</td>\n      <td>55</td>\n      <td>43</td>\n    </tr>\n    <tr>\n      <th>2012-03-13</th>\n      <td>76</td>\n      <td>63</td>\n      <td>50</td>\n      <td>57</td>\n      <td>53</td>\n      <td>47</td>\n    </tr>\n    <tr>\n      <th>2012-03-14</th>\n      <td>80</td>\n      <td>62</td>\n      <td>44</td>\n      <td>58</td>\n      <td>52</td>\n      <td>43</td>\n    </tr>\n    <tr>\n      <th>...</th>\n      <td>...</td>\n      <td>...</td>\n      <td>...</td>\n      <td>...</td>\n      <td>...</td>\n      <td>...</td>\n    </tr>\n    <tr>\n      <th>2013-03-06</th>\n      <td>32</td>\n      <td>31</td>\n      <td>29</td>\n      <td>27</td>\n      <td>26</td>\n      <td>25</td>\n    </tr>\n    <tr>\n      <th>2013-03-07</th>\n      <td>36</td>\n      <td>32</td>\n      <td>28</td>\n      <td>27</td>\n      <td>25</td>\n      <td>22</td>\n    </tr>\n    <tr>\n      <th>2013-03-08</th>\n      <td>47</td>\n      <td>35</td>\n      <td>23</td>\n      <td>27</td>\n      <td>24</td>\n      <td>21</td>\n    </tr>\n    <tr>\n      <th>2013-03-09</th>\n      <td>56</td>\n      <td>45</td>\n      <td>33</td>\n      <td>32</td>\n      <td>29</td>\n      <td>23</td>\n    </tr>\n    <tr>\n      <th>2013-03-10</th>\n      <td>60</td>\n      <td>52</td>\n      <td>50</td>\n      <td>37</td>\n      <td>34</td>\n      <td>32</td>\n    </tr>\n  </tbody>\n</table>\n<p>366 rows × 6 columns</p>\n</div>"
     },
     "execution_count": 118,
     "metadata": {},
     "output_type": "execute_result"
    }
   ],
   "source": [
    "us_weather_data[us_weather_data.columns[\n",
    "    (us_weather_data.columns.str.contains('temp')) |\n",
    "    (us_weather_data.columns.str.contains('dew'))\n",
    "    ]]"
   ],
   "metadata": {
    "collapsed": false,
    "ExecuteTime": {
     "end_time": "2023-11-09T09:56:28.798991763Z",
     "start_time": "2023-11-09T09:56:28.742351912Z"
    }
   },
   "id": "78fa5af248bafc"
  },
  {
   "cell_type": "code",
   "execution_count": 121,
   "outputs": [
    {
     "data": {
      "text/plain": "date\n2012-03-10     NaN\n2012-03-11    Rain\n2012-03-12    Rain\n2012-03-13     NaN\n2012-03-14     NaN\n              ... \n2013-03-06    Snow\n2013-03-07     NaN\n2013-03-08     NaN\n2013-03-09     NaN\n2013-03-10     NaN\nName: events, Length: 366, dtype: object"
     },
     "execution_count": 121,
     "metadata": {},
     "output_type": "execute_result"
    }
   ],
   "source": [
    "us_weather_data.events"
   ],
   "metadata": {
    "collapsed": false,
    "ExecuteTime": {
     "end_time": "2023-11-09T09:57:26.190890688Z",
     "start_time": "2023-11-09T09:57:26.095004762Z"
    }
   },
   "id": "4376bf06ada5ddf1"
  },
  {
   "cell_type": "code",
   "execution_count": 136,
   "outputs": [
    {
     "name": "stdout",
     "output_type": "stream",
     "text": [
      "(0, 'Fog') 2\n",
      "(0, 'Rain') 2\n",
      "(0, 'Thunderstorm') 1\n",
      "(1, 'Fog') 5\n",
      "(1, 'Fog-Rain') 1\n",
      "(1, 'Rain') 4\n",
      "(1, 'Rain-Thunderstorm') 2\n",
      "(1, 'Thunderstorm') 6\n",
      "(2, 'Fog') 1\n",
      "(2, 'Rain') 5\n",
      "(2, 'Rain-Thunderstorm') 4\n",
      "(2, 'Snow') 1\n",
      "(2, 'Thunderstorm') 2\n",
      "(3, 'Fog') 2\n",
      "(3, 'Fog-Rain-Thunderstorm') 3\n",
      "(3, 'Fog-Thunderstorm') 1\n",
      "(3, 'Rain') 9\n",
      "(3, 'Rain-Thunderstorm') 4\n",
      "(3, 'Snow') 1\n",
      "(4, 'Fog') 3\n",
      "(4, 'Fog-Rain') 2\n",
      "(4, 'Fog-Rain-Thunderstorm') 2\n",
      "(4, 'Rain') 10\n",
      "(4, 'Rain-Thunderstorm') 6\n",
      "(4, 'Snow') 1\n",
      "(5, 'Fog-Rain') 1\n",
      "(5, 'Fog-Rain-Snow') 1\n",
      "(5, 'Rain') 13\n",
      "(5, 'Rain-Thunderstorm') 3\n",
      "(5, 'Snow') 2\n",
      "(6, 'Fog-Rain') 2\n",
      "(6, 'Fog-Rain-Snow') 1\n",
      "(6, 'Fog-Rain-Thunderstorm') 2\n",
      "(6, 'Rain') 9\n",
      "(6, 'Rain-Thunderstorm') 4\n",
      "(6, 'Snow') 1\n",
      "(7, 'Fog-Rain') 1\n",
      "(7, 'Fog-Rain-Thunderstorm') 1\n",
      "(7, 'Fog-Snow') 3\n",
      "(7, 'Rain') 6\n",
      "(7, 'Rain-Thunderstorm') 3\n",
      "(7, 'Snow') 1\n",
      "(8, 'Fog-Rain') 4\n",
      "(8, 'Fog-Rain-Snow') 1\n",
      "(8, 'Fog-Rain-Snow-Thunderstorm') 1\n",
      "(8, 'Fog-Snow') 2\n",
      "(8, 'Rain') 11\n",
      "(8, 'Rain-Snow') 3\n",
      "(8, 'Snow') 6\n"
     ]
    }
   ],
   "source": [
    "for cloud_cover, events in us_weather_data.groupby([\"cloud_cover\", 'events']):\n",
    "    print(cloud_cover, len(events))"
   ],
   "metadata": {
    "collapsed": false,
    "ExecuteTime": {
     "end_time": "2023-11-09T10:57:31.356568998Z",
     "start_time": "2023-11-09T10:57:30.910178774Z"
    }
   },
   "id": "31909c0968a12ba7"
  },
  {
   "cell_type": "code",
   "execution_count": 137,
   "outputs": [
    {
     "data": {
      "text/plain": "       year        artist                    track  time date_entered  week  \\\n0      2000         2 Pac  Baby Don't Cry (Keep...  4:22   2000-02-26     1   \n1      2000       2Ge+her  The Hardest Part Of ...  3:15   2000-09-02     1   \n2      2000  3 Doors Down               Kryptonite  3:53   2000-04-08     1   \n3      2000  3 Doors Down                    Loser  4:24   2000-10-21     1   \n4      2000      504 Boyz            Wobble Wobble  3:35   2000-04-15     1   \n...     ...           ...                      ...   ...          ...   ...   \n19716  2000         Creed                   Higher  5:16   1999-09-11    63   \n19833  2000      Lonestar                   Amazed  4:25   1999-06-05    63   \n20033  2000         Creed                   Higher  5:16   1999-09-11    64   \n20150  2000      Lonestar                   Amazed  4:25   1999-06-05    64   \n20350  2000         Creed                   Higher  5:16   1999-09-11    65   \n\n       position  \n0          87.0  \n1          91.0  \n2          81.0  \n3          76.0  \n4          57.0  \n...         ...  \n19716      50.0  \n19833      45.0  \n20033      50.0  \n20150      50.0  \n20350      49.0  \n\n[5307 rows x 7 columns]",
      "text/html": "<div>\n<style scoped>\n    .dataframe tbody tr th:only-of-type {\n        vertical-align: middle;\n    }\n\n    .dataframe tbody tr th {\n        vertical-align: top;\n    }\n\n    .dataframe thead th {\n        text-align: right;\n    }\n</style>\n<table border=\"1\" class=\"dataframe\">\n  <thead>\n    <tr style=\"text-align: right;\">\n      <th></th>\n      <th>year</th>\n      <th>artist</th>\n      <th>track</th>\n      <th>time</th>\n      <th>date_entered</th>\n      <th>week</th>\n      <th>position</th>\n    </tr>\n  </thead>\n  <tbody>\n    <tr>\n      <th>0</th>\n      <td>2000</td>\n      <td>2 Pac</td>\n      <td>Baby Don't Cry (Keep...</td>\n      <td>4:22</td>\n      <td>2000-02-26</td>\n      <td>1</td>\n      <td>87.0</td>\n    </tr>\n    <tr>\n      <th>1</th>\n      <td>2000</td>\n      <td>2Ge+her</td>\n      <td>The Hardest Part Of ...</td>\n      <td>3:15</td>\n      <td>2000-09-02</td>\n      <td>1</td>\n      <td>91.0</td>\n    </tr>\n    <tr>\n      <th>2</th>\n      <td>2000</td>\n      <td>3 Doors Down</td>\n      <td>Kryptonite</td>\n      <td>3:53</td>\n      <td>2000-04-08</td>\n      <td>1</td>\n      <td>81.0</td>\n    </tr>\n    <tr>\n      <th>3</th>\n      <td>2000</td>\n      <td>3 Doors Down</td>\n      <td>Loser</td>\n      <td>4:24</td>\n      <td>2000-10-21</td>\n      <td>1</td>\n      <td>76.0</td>\n    </tr>\n    <tr>\n      <th>4</th>\n      <td>2000</td>\n      <td>504 Boyz</td>\n      <td>Wobble Wobble</td>\n      <td>3:35</td>\n      <td>2000-04-15</td>\n      <td>1</td>\n      <td>57.0</td>\n    </tr>\n    <tr>\n      <th>...</th>\n      <td>...</td>\n      <td>...</td>\n      <td>...</td>\n      <td>...</td>\n      <td>...</td>\n      <td>...</td>\n      <td>...</td>\n    </tr>\n    <tr>\n      <th>19716</th>\n      <td>2000</td>\n      <td>Creed</td>\n      <td>Higher</td>\n      <td>5:16</td>\n      <td>1999-09-11</td>\n      <td>63</td>\n      <td>50.0</td>\n    </tr>\n    <tr>\n      <th>19833</th>\n      <td>2000</td>\n      <td>Lonestar</td>\n      <td>Amazed</td>\n      <td>4:25</td>\n      <td>1999-06-05</td>\n      <td>63</td>\n      <td>45.0</td>\n    </tr>\n    <tr>\n      <th>20033</th>\n      <td>2000</td>\n      <td>Creed</td>\n      <td>Higher</td>\n      <td>5:16</td>\n      <td>1999-09-11</td>\n      <td>64</td>\n      <td>50.0</td>\n    </tr>\n    <tr>\n      <th>20150</th>\n      <td>2000</td>\n      <td>Lonestar</td>\n      <td>Amazed</td>\n      <td>4:25</td>\n      <td>1999-06-05</td>\n      <td>64</td>\n      <td>50.0</td>\n    </tr>\n    <tr>\n      <th>20350</th>\n      <td>2000</td>\n      <td>Creed</td>\n      <td>Higher</td>\n      <td>5:16</td>\n      <td>1999-09-11</td>\n      <td>65</td>\n      <td>49.0</td>\n    </tr>\n  </tbody>\n</table>\n<p>5307 rows × 7 columns</p>\n</div>"
     },
     "execution_count": 137,
     "metadata": {},
     "output_type": "execute_result"
    }
   ],
   "source": [
    "bilboard_tidy"
   ],
   "metadata": {
    "collapsed": false,
    "ExecuteTime": {
     "end_time": "2023-11-09T10:57:59.245337143Z",
     "start_time": "2023-11-09T10:57:59.116681622Z"
    }
   },
   "id": "9bcdd57603e8ced3"
  },
  {
   "cell_type": "code",
   "execution_count": null,
   "outputs": [],
   "source": [],
   "metadata": {
    "collapsed": false
   },
   "id": "7f0334b43ff7d265"
  }
 ],
 "metadata": {
  "kernelspec": {
   "display_name": "Python 3",
   "language": "python",
   "name": "python3"
  },
  "language_info": {
   "codemirror_mode": {
    "name": "ipython",
    "version": 2
   },
   "file_extension": ".py",
   "mimetype": "text/x-python",
   "name": "python",
   "nbconvert_exporter": "python",
   "pygments_lexer": "ipython2",
   "version": "2.7.6"
  }
 },
 "nbformat": 4,
 "nbformat_minor": 5
}
