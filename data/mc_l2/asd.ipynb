{
 "cells": [
  {
   "cell_type": "code",
   "execution_count": 2,
   "id": "initial_id",
   "metadata": {
    "collapsed": true,
    "ExecuteTime": {
     "end_time": "2023-11-16T16:13:45.635562098Z",
     "start_time": "2023-11-16T16:13:44.862956023Z"
    }
   },
   "outputs": [],
   "source": [
    "%matplotlib inline\n",
    "import numpy as np\n",
    "import math\n",
    "import matplotlib.pyplot as plt"
   ]
  },
  {
   "cell_type": "code",
   "execution_count": 4,
   "outputs": [
    {
     "data": {
      "text/plain": "<Figure size 432x288 with 1 Axes>",
      "image/png": "[encoded data removed]"
     },
     "metadata": {
      "needs_background": "light"
     },
     "output_type": "display_data"
    }
   ],
   "source": [
    "def some_f(the_var):\n",
    "    # return 2 * var + 3\n",
    "    \n",
    "    return [math.sqrt(abs(v)) for v in the_var]\n",
    "\n",
    "\n",
    "def plot_math_function(external_function, min_x, max_x, num_points):\n",
    "    # Write your code here\n",
    "    x_value = np.linspace(min_x, max_x, num_points)\n",
    "    y_value = external_function(x_value)\n",
    "    plt.plot(x_value, y_value)\n",
    "    ax = plt.gca()\n",
    "    ax.spines[\"bottom\"].set_position(\"zero\")\n",
    "    ax.spines[\"left\"].set_position(\"zero\")\n",
    "    ax.spines[\"top\"].set_visible(False)\n",
    "    ax.spines[\"right\"].set_visible(False)\n",
    "    ax.set_aspect('equal')\n",
    "    plt.show()\n",
    "    \n",
    "plot_math_function(some_f, 1, 10, 10)"
   ],
   "metadata": {
    "collapsed": false,
    "ExecuteTime": {
     "end_time": "2023-11-16T16:14:03.700165572Z",
     "start_time": "2023-11-16T16:14:03.351288982Z"
    }
   },
   "id": "96479306d70b2ae3"
  }
 ],
 "metadata": {
  "kernelspec": {
   "display_name": "Python 3",
   "language": "python",
   "name": "python3"
  },
  "language_info": {
   "codemirror_mode": {
    "name": "ipython",
    "version": 2
   },
   "file_extension": ".py",
   "mimetype": "text/x-python",
   "name": "python",
   "nbconvert_exporter": "python",
   "pygments_lexer": "ipython2",
   "version": "2.7.6"
  }
 },
 "nbformat": 4,
 "nbformat_minor": 5
}
